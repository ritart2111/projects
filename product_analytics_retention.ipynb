{
 "cells": [
  {
   "cell_type": "code",
   "execution_count": 1,
   "metadata": {},
   "outputs": [],
   "source": [
    "import pandas as pd\n",
    "from operator import attrgetter\n",
    "import seaborn as sns\n",
    "from matplotlib import pyplot as plt\n",
    "from matplotlib import colors as mcolors\n",
    "import numpy as np"
   ]
  },
  {
   "cell_type": "markdown",
   "metadata": {},
   "source": [
    "**Product: a new marketplace selling goods from Brazil.**\n",
    "\n",
    "**Problem: the marketplace's revenue has been stagnant for several months.**\n",
    "\n",
    "**Task: understand the possible cause and provide recommendations for improving product metrics.**"
   ]
  },
  {
   "cell_type": "markdown",
   "metadata": {},
   "source": [
    "## Conclusions about the work done for a marketplace offering new products from Brazil ##"
   ]
  },
  {
   "cell_type": "markdown",
   "metadata": {},
   "source": [
    "- **Product problem:** Revenue has not grown for several months, despite the product's presence on the market.\n",
    "- **Our task as analysts:** Find the reasons for the stagnation and suggest ways to grow product metrics without compromising the customer experience.\n",
    "\n",
    "\n",
    "- **Conclusions from point 1, Calculating retention based on cohort analysis:**\n",
    "\n",
    "The analysis showed that user retention after the first month is only 0.35%, and by the third month — 0.58%. This indicates that repeat orders are almost non-existent, the marketplace does not form a habit of use, and the product does not yet solve the customer's problem on a permanent basis.\n",
    "\n",
    "- **Conclusions from point 2, Product/Market Fit (PMF) analysis:**\n",
    "\n",
    "There is no PMF. Users do not return to the product starting from the first month after purchase.\n",
    "\n",
    "Possible reasons:\n",
    "- the one-time nature of the purchases themselves;\n",
    "- lack of value for the customer;\n",
    "- delays in the delivery of goods.\n",
    "\n",
    "Recommendations:\n",
    "- Activate loyalty programmes, introduce cashbacks and promo codes for subsequent purchases;\n",
    "- Improve the first experience of interaction (delivery, support, feedback);\n",
    "- If the problem lies with the product, then it needs to be redesigned, focus should be shifted to other product categories, and accessories should be sold alongside expensive products.\n",
    "\n",
    "\n",
    "- **Conclusions from point 3, Identify 5 key metrics to focus on to maximise company profits:**\n",
    "\n",
    "The 5 metrics we suggest:\n",
    "\n",
    "- GMV (Gross Merchandise Value) — sales growth.\n",
    "\n",
    "Current situation: As noted by the product manager, GMV plateaued in 2018 and stopped growing, which may indicate a lack of repeat orders.\n",
    "\n",
    "- MAU (monthly active users) — active customers who place orders.\n",
    "\n",
    "Current situation: growth has stalled since the end of 2017 — the product is no longer attracting new users in greater numbers than before. The product retains the attention of only a limited number of new users per month.\n",
    "\n",
    "- Median time to first purchase, or conversion of new users to paying users — new customers' interest in the product.\n",
    "\n",
    "Current situation: With the exception of the spike in October 2016, orders are placed within 12-30 minutes after the first touch, so the first experience with the product is generally good and is not a reason for low retention.\n",
    "\n",
    "- Retention Rate — customer engagement in continuing to use the product.\n",
    "\n",
    "Current situation: There are almost no repeat purchases; most customers make a single purchase, as we have already shown in the retention calculation. \n",
    "\n",
    "- ARPPU — average revenue per active user.\n",
    "\n",
    "Current situation: ARPPU remains fairly stable, but there is no growth.\n",
    "\n",
    "\n",
    "- **Conclusions from section 4, Selecting a hypothesis using the ICE framework:**\n",
    "\n",
    "To improve key product metrics, a series of hypotheses were reviewed and prioritised using the ICE framework. It was decided to focus on hypothesis 1: If we fix the bug in the order processing system, customers will not have to deal with order cancellations, which will increase the number of orders delivered. We believe that this will eliminate all cancellations. This hypothesis had the highest ICE. Therefore, we recommend checking and fixing errors in the payment and delivery process, as well as monitoring the cancellation rate over time.\n",
    "\n",
    "\n",
    "- **Conclusions from section 5, Formulation of metrics that may be affected by the hypothesis:**\n",
    "\n",
    "The following metrics were proposed to test hypothesis 1: target — percentage of orders delivered, proxy — percentage of customers with repeat purchases and support costs, as well as guardrail metrics — percentage of returns and average order processing time.\n",
    "\n",
    "- **General conclusions based on the results of the study:**\n",
    "\n",
    "Retention is less than one percent in the first month, which indicates a lack of customer retention;\n",
    "\n",
    "The product has not reached PMF: user behaviour indicates low product value for the customer and low customer engagement;\n",
    "\n",
    "Metrics have plateaued due to a lack of repeat sales and low loyalty.\n",
    "\n",
    "There is a foundation for growth by analysing the behaviour of active customers, improving first interactions and delivery speed, and fixing bugs in the product.\n",
    "\n",
    "\n",
    "- **Product recommendations:**\n",
    "\n",
    "\n",
    "1. Improve repeat sales:\n",
    "\n",
    "\n",
    "- Loyalty programmes;\n",
    "- Personalised mailings;\n",
    "- Cashback for repeat purchases;\n",
    "- Referral programmes.\n",
    "\n",
    "\n",
    "2. Improve the customer experience with the product:\n",
    "\n",
    "\n",
    "- Improve delivery quality and speed;\n",
    "- Work with feedback and support;\n",
    "\n",
    "\n",
    "3. Experiments:\n",
    "\n",
    "\n",
    "- A/B testing at the first order stage;\n",
    "- Segment active customers;\n",
    "- Test changes to the product range, prices, and offers."
   ]
  },
  {
   "cell_type": "code",
   "execution_count": null,
   "metadata": {},
   "outputs": [],
   "source": []
  },
  {
   "cell_type": "code",
   "execution_count": 2,
   "metadata": {},
   "outputs": [],
   "source": [
    "# import the data"
   ]
  },
  {
   "cell_type": "code",
   "execution_count": 3,
   "metadata": {},
   "outputs": [],
   "source": [
    "customers = pd.read_csv('/mnt/HC_Volume_18315164/home-jupyter/jupyter-margarita-artemova-d71f1/Product_Analytics/olist_customers_dataset.csv')"
   ]
  },
  {
   "cell_type": "code",
   "execution_count": 4,
   "metadata": {},
   "outputs": [],
   "source": [
    "orders = pd.read_csv('/mnt/HC_Volume_18315164/home-jupyter/jupyter-margarita-artemova-d71f1/Product_Analytics/olist_orders_dataset.csv')"
   ]
  },
  {
   "cell_type": "code",
   "execution_count": 5,
   "metadata": {},
   "outputs": [],
   "source": [
    "items = pd.read_csv('/mnt/HC_Volume_18315164/home-jupyter/jupyter-margarita-artemova-d71f1/Product_Analytics/olist_order_items_dataset.csv')"
   ]
  },
  {
   "cell_type": "code",
   "execution_count": 6,
   "metadata": {},
   "outputs": [
    {
     "data": {
      "text/html": [
       "<div>\n",
       "<style scoped>\n",
       "    .dataframe tbody tr th:only-of-type {\n",
       "        vertical-align: middle;\n",
       "    }\n",
       "\n",
       "    .dataframe tbody tr th {\n",
       "        vertical-align: top;\n",
       "    }\n",
       "\n",
       "    .dataframe thead th {\n",
       "        text-align: right;\n",
       "    }\n",
       "</style>\n",
       "<table border=\"1\" class=\"dataframe\">\n",
       "  <thead>\n",
       "    <tr style=\"text-align: right;\">\n",
       "      <th></th>\n",
       "      <th>customer_id</th>\n",
       "      <th>customer_unique_id</th>\n",
       "      <th>customer_zip_code_prefix</th>\n",
       "      <th>customer_city</th>\n",
       "      <th>customer_state</th>\n",
       "    </tr>\n",
       "  </thead>\n",
       "  <tbody>\n",
       "    <tr>\n",
       "      <th>0</th>\n",
       "      <td>06b8999e2fba1a1fbc88172c00ba8bc7</td>\n",
       "      <td>861eff4711a542e4b93843c6dd7febb0</td>\n",
       "      <td>14409</td>\n",
       "      <td>franca</td>\n",
       "      <td>SP</td>\n",
       "    </tr>\n",
       "    <tr>\n",
       "      <th>1</th>\n",
       "      <td>18955e83d337fd6b2def6b18a428ac77</td>\n",
       "      <td>290c77bc529b7ac935b93aa66c333dc3</td>\n",
       "      <td>9790</td>\n",
       "      <td>sao bernardo do campo</td>\n",
       "      <td>SP</td>\n",
       "    </tr>\n",
       "    <tr>\n",
       "      <th>2</th>\n",
       "      <td>4e7b3e00288586ebd08712fdd0374a03</td>\n",
       "      <td>060e732b5b29e8181a18229c7b0b2b5e</td>\n",
       "      <td>1151</td>\n",
       "      <td>sao paulo</td>\n",
       "      <td>SP</td>\n",
       "    </tr>\n",
       "    <tr>\n",
       "      <th>3</th>\n",
       "      <td>b2b6027bc5c5109e529d4dc6358b12c3</td>\n",
       "      <td>259dac757896d24d7702b9acbbff3f3c</td>\n",
       "      <td>8775</td>\n",
       "      <td>mogi das cruzes</td>\n",
       "      <td>SP</td>\n",
       "    </tr>\n",
       "    <tr>\n",
       "      <th>4</th>\n",
       "      <td>4f2d8ab171c80ec8364f7c12e35b23ad</td>\n",
       "      <td>345ecd01c38d18a9036ed96c73b8d066</td>\n",
       "      <td>13056</td>\n",
       "      <td>campinas</td>\n",
       "      <td>SP</td>\n",
       "    </tr>\n",
       "  </tbody>\n",
       "</table>\n",
       "</div>"
      ],
      "text/plain": [
       "                        customer_id                customer_unique_id  \\\n",
       "0  06b8999e2fba1a1fbc88172c00ba8bc7  861eff4711a542e4b93843c6dd7febb0   \n",
       "1  18955e83d337fd6b2def6b18a428ac77  290c77bc529b7ac935b93aa66c333dc3   \n",
       "2  4e7b3e00288586ebd08712fdd0374a03  060e732b5b29e8181a18229c7b0b2b5e   \n",
       "3  b2b6027bc5c5109e529d4dc6358b12c3  259dac757896d24d7702b9acbbff3f3c   \n",
       "4  4f2d8ab171c80ec8364f7c12e35b23ad  345ecd01c38d18a9036ed96c73b8d066   \n",
       "\n",
       "   customer_zip_code_prefix          customer_city customer_state  \n",
       "0                     14409                 franca             SP  \n",
       "1                      9790  sao bernardo do campo             SP  \n",
       "2                      1151              sao paulo             SP  \n",
       "3                      8775        mogi das cruzes             SP  \n",
       "4                     13056               campinas             SP  "
      ]
     },
     "execution_count": 6,
     "metadata": {},
     "output_type": "execute_result"
    }
   ],
   "source": [
    "customers.head()"
   ]
  },
  {
   "cell_type": "code",
   "execution_count": 7,
   "metadata": {},
   "outputs": [
    {
     "data": {
      "text/html": [
       "<div>\n",
       "<style scoped>\n",
       "    .dataframe tbody tr th:only-of-type {\n",
       "        vertical-align: middle;\n",
       "    }\n",
       "\n",
       "    .dataframe tbody tr th {\n",
       "        vertical-align: top;\n",
       "    }\n",
       "\n",
       "    .dataframe thead th {\n",
       "        text-align: right;\n",
       "    }\n",
       "</style>\n",
       "<table border=\"1\" class=\"dataframe\">\n",
       "  <thead>\n",
       "    <tr style=\"text-align: right;\">\n",
       "      <th></th>\n",
       "      <th>order_id</th>\n",
       "      <th>customer_id</th>\n",
       "      <th>order_status</th>\n",
       "      <th>order_purchase_timestamp</th>\n",
       "      <th>order_approved_at</th>\n",
       "      <th>order_delivered_carrier_date</th>\n",
       "      <th>order_delivered_customer_date</th>\n",
       "      <th>order_estimated_delivery_date</th>\n",
       "    </tr>\n",
       "  </thead>\n",
       "  <tbody>\n",
       "    <tr>\n",
       "      <th>0</th>\n",
       "      <td>e481f51cbdc54678b7cc49136f2d6af7</td>\n",
       "      <td>9ef432eb6251297304e76186b10a928d</td>\n",
       "      <td>delivered</td>\n",
       "      <td>2017-10-02 10:56:33</td>\n",
       "      <td>2017-10-02 11:07:15</td>\n",
       "      <td>2017-10-04 19:55:00</td>\n",
       "      <td>2017-10-10 21:25:13</td>\n",
       "      <td>2017-10-18 00:00:00</td>\n",
       "    </tr>\n",
       "    <tr>\n",
       "      <th>1</th>\n",
       "      <td>53cdb2fc8bc7dce0b6741e2150273451</td>\n",
       "      <td>b0830fb4747a6c6d20dea0b8c802d7ef</td>\n",
       "      <td>delivered</td>\n",
       "      <td>2018-07-24 20:41:37</td>\n",
       "      <td>2018-07-26 03:24:27</td>\n",
       "      <td>2018-07-26 14:31:00</td>\n",
       "      <td>2018-08-07 15:27:45</td>\n",
       "      <td>2018-08-13 00:00:00</td>\n",
       "    </tr>\n",
       "    <tr>\n",
       "      <th>2</th>\n",
       "      <td>47770eb9100c2d0c44946d9cf07ec65d</td>\n",
       "      <td>41ce2a54c0b03bf3443c3d931a367089</td>\n",
       "      <td>delivered</td>\n",
       "      <td>2018-08-08 08:38:49</td>\n",
       "      <td>2018-08-08 08:55:23</td>\n",
       "      <td>2018-08-08 13:50:00</td>\n",
       "      <td>2018-08-17 18:06:29</td>\n",
       "      <td>2018-09-04 00:00:00</td>\n",
       "    </tr>\n",
       "    <tr>\n",
       "      <th>3</th>\n",
       "      <td>949d5b44dbf5de918fe9c16f97b45f8a</td>\n",
       "      <td>f88197465ea7920adcdbec7375364d82</td>\n",
       "      <td>delivered</td>\n",
       "      <td>2017-11-18 19:28:06</td>\n",
       "      <td>2017-11-18 19:45:59</td>\n",
       "      <td>2017-11-22 13:39:59</td>\n",
       "      <td>2017-12-02 00:28:42</td>\n",
       "      <td>2017-12-15 00:00:00</td>\n",
       "    </tr>\n",
       "    <tr>\n",
       "      <th>4</th>\n",
       "      <td>ad21c59c0840e6cb83a9ceb5573f8159</td>\n",
       "      <td>8ab97904e6daea8866dbdbc4fb7aad2c</td>\n",
       "      <td>delivered</td>\n",
       "      <td>2018-02-13 21:18:39</td>\n",
       "      <td>2018-02-13 22:20:29</td>\n",
       "      <td>2018-02-14 19:46:34</td>\n",
       "      <td>2018-02-16 18:17:02</td>\n",
       "      <td>2018-02-26 00:00:00</td>\n",
       "    </tr>\n",
       "  </tbody>\n",
       "</table>\n",
       "</div>"
      ],
      "text/plain": [
       "                           order_id                       customer_id  \\\n",
       "0  e481f51cbdc54678b7cc49136f2d6af7  9ef432eb6251297304e76186b10a928d   \n",
       "1  53cdb2fc8bc7dce0b6741e2150273451  b0830fb4747a6c6d20dea0b8c802d7ef   \n",
       "2  47770eb9100c2d0c44946d9cf07ec65d  41ce2a54c0b03bf3443c3d931a367089   \n",
       "3  949d5b44dbf5de918fe9c16f97b45f8a  f88197465ea7920adcdbec7375364d82   \n",
       "4  ad21c59c0840e6cb83a9ceb5573f8159  8ab97904e6daea8866dbdbc4fb7aad2c   \n",
       "\n",
       "  order_status order_purchase_timestamp    order_approved_at  \\\n",
       "0    delivered      2017-10-02 10:56:33  2017-10-02 11:07:15   \n",
       "1    delivered      2018-07-24 20:41:37  2018-07-26 03:24:27   \n",
       "2    delivered      2018-08-08 08:38:49  2018-08-08 08:55:23   \n",
       "3    delivered      2017-11-18 19:28:06  2017-11-18 19:45:59   \n",
       "4    delivered      2018-02-13 21:18:39  2018-02-13 22:20:29   \n",
       "\n",
       "  order_delivered_carrier_date order_delivered_customer_date  \\\n",
       "0          2017-10-04 19:55:00           2017-10-10 21:25:13   \n",
       "1          2018-07-26 14:31:00           2018-08-07 15:27:45   \n",
       "2          2018-08-08 13:50:00           2018-08-17 18:06:29   \n",
       "3          2017-11-22 13:39:59           2017-12-02 00:28:42   \n",
       "4          2018-02-14 19:46:34           2018-02-16 18:17:02   \n",
       "\n",
       "  order_estimated_delivery_date  \n",
       "0           2017-10-18 00:00:00  \n",
       "1           2018-08-13 00:00:00  \n",
       "2           2018-09-04 00:00:00  \n",
       "3           2017-12-15 00:00:00  \n",
       "4           2018-02-26 00:00:00  "
      ]
     },
     "execution_count": 7,
     "metadata": {},
     "output_type": "execute_result"
    }
   ],
   "source": [
    "orders.head()"
   ]
  },
  {
   "cell_type": "code",
   "execution_count": 8,
   "metadata": {},
   "outputs": [
    {
     "data": {
      "text/html": [
       "<div>\n",
       "<style scoped>\n",
       "    .dataframe tbody tr th:only-of-type {\n",
       "        vertical-align: middle;\n",
       "    }\n",
       "\n",
       "    .dataframe tbody tr th {\n",
       "        vertical-align: top;\n",
       "    }\n",
       "\n",
       "    .dataframe thead th {\n",
       "        text-align: right;\n",
       "    }\n",
       "</style>\n",
       "<table border=\"1\" class=\"dataframe\">\n",
       "  <thead>\n",
       "    <tr style=\"text-align: right;\">\n",
       "      <th></th>\n",
       "      <th>order_id</th>\n",
       "      <th>order_item_id</th>\n",
       "      <th>product_id</th>\n",
       "      <th>seller_id</th>\n",
       "      <th>shipping_limit_date</th>\n",
       "      <th>price</th>\n",
       "      <th>freight_value</th>\n",
       "    </tr>\n",
       "  </thead>\n",
       "  <tbody>\n",
       "    <tr>\n",
       "      <th>0</th>\n",
       "      <td>00010242fe8c5a6d1ba2dd792cb16214</td>\n",
       "      <td>1</td>\n",
       "      <td>4244733e06e7ecb4970a6e2683c13e61</td>\n",
       "      <td>48436dade18ac8b2bce089ec2a041202</td>\n",
       "      <td>2017-09-19 09:45:35</td>\n",
       "      <td>58.90</td>\n",
       "      <td>13.29</td>\n",
       "    </tr>\n",
       "    <tr>\n",
       "      <th>1</th>\n",
       "      <td>00018f77f2f0320c557190d7a144bdd3</td>\n",
       "      <td>1</td>\n",
       "      <td>e5f2d52b802189ee658865ca93d83a8f</td>\n",
       "      <td>dd7ddc04e1b6c2c614352b383efe2d36</td>\n",
       "      <td>2017-05-03 11:05:13</td>\n",
       "      <td>239.90</td>\n",
       "      <td>19.93</td>\n",
       "    </tr>\n",
       "    <tr>\n",
       "      <th>2</th>\n",
       "      <td>000229ec398224ef6ca0657da4fc703e</td>\n",
       "      <td>1</td>\n",
       "      <td>c777355d18b72b67abbeef9df44fd0fd</td>\n",
       "      <td>5b51032eddd242adc84c38acab88f23d</td>\n",
       "      <td>2018-01-18 14:48:30</td>\n",
       "      <td>199.00</td>\n",
       "      <td>17.87</td>\n",
       "    </tr>\n",
       "    <tr>\n",
       "      <th>3</th>\n",
       "      <td>00024acbcdf0a6daa1e931b038114c75</td>\n",
       "      <td>1</td>\n",
       "      <td>7634da152a4610f1595efa32f14722fc</td>\n",
       "      <td>9d7a1d34a5052409006425275ba1c2b4</td>\n",
       "      <td>2018-08-15 10:10:18</td>\n",
       "      <td>12.99</td>\n",
       "      <td>12.79</td>\n",
       "    </tr>\n",
       "    <tr>\n",
       "      <th>4</th>\n",
       "      <td>00042b26cf59d7ce69dfabb4e55b4fd9</td>\n",
       "      <td>1</td>\n",
       "      <td>ac6c3623068f30de03045865e4e10089</td>\n",
       "      <td>df560393f3a51e74553ab94004ba5c87</td>\n",
       "      <td>2017-02-13 13:57:51</td>\n",
       "      <td>199.90</td>\n",
       "      <td>18.14</td>\n",
       "    </tr>\n",
       "  </tbody>\n",
       "</table>\n",
       "</div>"
      ],
      "text/plain": [
       "                           order_id  order_item_id  \\\n",
       "0  00010242fe8c5a6d1ba2dd792cb16214              1   \n",
       "1  00018f77f2f0320c557190d7a144bdd3              1   \n",
       "2  000229ec398224ef6ca0657da4fc703e              1   \n",
       "3  00024acbcdf0a6daa1e931b038114c75              1   \n",
       "4  00042b26cf59d7ce69dfabb4e55b4fd9              1   \n",
       "\n",
       "                         product_id                         seller_id  \\\n",
       "0  4244733e06e7ecb4970a6e2683c13e61  48436dade18ac8b2bce089ec2a041202   \n",
       "1  e5f2d52b802189ee658865ca93d83a8f  dd7ddc04e1b6c2c614352b383efe2d36   \n",
       "2  c777355d18b72b67abbeef9df44fd0fd  5b51032eddd242adc84c38acab88f23d   \n",
       "3  7634da152a4610f1595efa32f14722fc  9d7a1d34a5052409006425275ba1c2b4   \n",
       "4  ac6c3623068f30de03045865e4e10089  df560393f3a51e74553ab94004ba5c87   \n",
       "\n",
       "   shipping_limit_date   price  freight_value  \n",
       "0  2017-09-19 09:45:35   58.90          13.29  \n",
       "1  2017-05-03 11:05:13  239.90          19.93  \n",
       "2  2018-01-18 14:48:30  199.00          17.87  \n",
       "3  2018-08-15 10:10:18   12.99          12.79  \n",
       "4  2017-02-13 13:57:51  199.90          18.14  "
      ]
     },
     "execution_count": 8,
     "metadata": {},
     "output_type": "execute_result"
    }
   ],
   "source": [
    "items.head()"
   ]
  },
  {
   "cell_type": "code",
   "execution_count": 9,
   "metadata": {},
   "outputs": [
    {
     "data": {
      "text/plain": [
       "(99441, 5)"
      ]
     },
     "execution_count": 9,
     "metadata": {},
     "output_type": "execute_result"
    }
   ],
   "source": [
    "customers.shape"
   ]
  },
  {
   "cell_type": "code",
   "execution_count": 10,
   "metadata": {},
   "outputs": [
    {
     "data": {
      "text/plain": [
       "(99441, 8)"
      ]
     },
     "execution_count": 10,
     "metadata": {},
     "output_type": "execute_result"
    }
   ],
   "source": [
    "orders.shape"
   ]
  },
  {
   "cell_type": "code",
   "execution_count": null,
   "metadata": {},
   "outputs": [],
   "source": []
  },
  {
   "cell_type": "code",
   "execution_count": 11,
   "metadata": {},
   "outputs": [
    {
     "data": {
      "text/plain": [
       "order_id                            0\n",
       "customer_id                         0\n",
       "order_status                        0\n",
       "order_purchase_timestamp            0\n",
       "order_approved_at                 160\n",
       "order_delivered_carrier_date     1783\n",
       "order_delivered_customer_date    2965\n",
       "order_estimated_delivery_date       0\n",
       "dtype: int64"
      ]
     },
     "execution_count": 11,
     "metadata": {},
     "output_type": "execute_result"
    }
   ],
   "source": [
    "# check if there are any na's\n",
    "orders.isna().sum()"
   ]
  },
  {
   "cell_type": "code",
   "execution_count": null,
   "metadata": {},
   "outputs": [],
   "source": []
  },
  {
   "cell_type": "code",
   "execution_count": 12,
   "metadata": {
    "scrolled": true
   },
   "outputs": [
    {
     "data": {
      "text/html": [
       "<div>\n",
       "<style scoped>\n",
       "    .dataframe tbody tr th:only-of-type {\n",
       "        vertical-align: middle;\n",
       "    }\n",
       "\n",
       "    .dataframe tbody tr th {\n",
       "        vertical-align: top;\n",
       "    }\n",
       "\n",
       "    .dataframe thead th {\n",
       "        text-align: right;\n",
       "    }\n",
       "</style>\n",
       "<table border=\"1\" class=\"dataframe\">\n",
       "  <thead>\n",
       "    <tr style=\"text-align: right;\">\n",
       "      <th></th>\n",
       "      <th>customer_id</th>\n",
       "      <th>customer_unique_id</th>\n",
       "      <th>customer_zip_code_prefix</th>\n",
       "      <th>customer_city</th>\n",
       "      <th>customer_state</th>\n",
       "      <th>order_id</th>\n",
       "      <th>order_status</th>\n",
       "      <th>order_purchase_timestamp</th>\n",
       "      <th>order_approved_at</th>\n",
       "      <th>order_delivered_carrier_date</th>\n",
       "      <th>order_delivered_customer_date</th>\n",
       "      <th>order_estimated_delivery_date</th>\n",
       "    </tr>\n",
       "  </thead>\n",
       "  <tbody>\n",
       "    <tr>\n",
       "      <th>0</th>\n",
       "      <td>06b8999e2fba1a1fbc88172c00ba8bc7</td>\n",
       "      <td>861eff4711a542e4b93843c6dd7febb0</td>\n",
       "      <td>14409</td>\n",
       "      <td>franca</td>\n",
       "      <td>SP</td>\n",
       "      <td>00e7ee1b050b8499577073aeb2a297a1</td>\n",
       "      <td>delivered</td>\n",
       "      <td>2017-05-16 15:05:35</td>\n",
       "      <td>2017-05-16 15:22:12</td>\n",
       "      <td>2017-05-23 10:47:57</td>\n",
       "      <td>2017-05-25 10:35:35</td>\n",
       "      <td>2017-06-05 00:00:00</td>\n",
       "    </tr>\n",
       "    <tr>\n",
       "      <th>1</th>\n",
       "      <td>18955e83d337fd6b2def6b18a428ac77</td>\n",
       "      <td>290c77bc529b7ac935b93aa66c333dc3</td>\n",
       "      <td>9790</td>\n",
       "      <td>sao bernardo do campo</td>\n",
       "      <td>SP</td>\n",
       "      <td>29150127e6685892b6eab3eec79f59c7</td>\n",
       "      <td>delivered</td>\n",
       "      <td>2018-01-12 20:48:24</td>\n",
       "      <td>2018-01-12 20:58:32</td>\n",
       "      <td>2018-01-15 17:14:59</td>\n",
       "      <td>2018-01-29 12:41:19</td>\n",
       "      <td>2018-02-06 00:00:00</td>\n",
       "    </tr>\n",
       "    <tr>\n",
       "      <th>2</th>\n",
       "      <td>4e7b3e00288586ebd08712fdd0374a03</td>\n",
       "      <td>060e732b5b29e8181a18229c7b0b2b5e</td>\n",
       "      <td>1151</td>\n",
       "      <td>sao paulo</td>\n",
       "      <td>SP</td>\n",
       "      <td>b2059ed67ce144a36e2aa97d2c9e9ad2</td>\n",
       "      <td>delivered</td>\n",
       "      <td>2018-05-19 16:07:45</td>\n",
       "      <td>2018-05-20 16:19:10</td>\n",
       "      <td>2018-06-11 14:31:00</td>\n",
       "      <td>2018-06-14 17:58:51</td>\n",
       "      <td>2018-06-13 00:00:00</td>\n",
       "    </tr>\n",
       "    <tr>\n",
       "      <th>3</th>\n",
       "      <td>b2b6027bc5c5109e529d4dc6358b12c3</td>\n",
       "      <td>259dac757896d24d7702b9acbbff3f3c</td>\n",
       "      <td>8775</td>\n",
       "      <td>mogi das cruzes</td>\n",
       "      <td>SP</td>\n",
       "      <td>951670f92359f4fe4a63112aa7306eba</td>\n",
       "      <td>delivered</td>\n",
       "      <td>2018-03-13 16:06:38</td>\n",
       "      <td>2018-03-13 17:29:19</td>\n",
       "      <td>2018-03-27 23:22:42</td>\n",
       "      <td>2018-03-28 16:04:25</td>\n",
       "      <td>2018-04-10 00:00:00</td>\n",
       "    </tr>\n",
       "    <tr>\n",
       "      <th>4</th>\n",
       "      <td>4f2d8ab171c80ec8364f7c12e35b23ad</td>\n",
       "      <td>345ecd01c38d18a9036ed96c73b8d066</td>\n",
       "      <td>13056</td>\n",
       "      <td>campinas</td>\n",
       "      <td>SP</td>\n",
       "      <td>6b7d50bd145f6fc7f33cebabd7e49d0f</td>\n",
       "      <td>delivered</td>\n",
       "      <td>2018-07-29 09:51:30</td>\n",
       "      <td>2018-07-29 10:10:09</td>\n",
       "      <td>2018-07-30 15:16:00</td>\n",
       "      <td>2018-08-09 20:55:48</td>\n",
       "      <td>2018-08-15 00:00:00</td>\n",
       "    </tr>\n",
       "  </tbody>\n",
       "</table>\n",
       "</div>"
      ],
      "text/plain": [
       "                        customer_id                customer_unique_id  \\\n",
       "0  06b8999e2fba1a1fbc88172c00ba8bc7  861eff4711a542e4b93843c6dd7febb0   \n",
       "1  18955e83d337fd6b2def6b18a428ac77  290c77bc529b7ac935b93aa66c333dc3   \n",
       "2  4e7b3e00288586ebd08712fdd0374a03  060e732b5b29e8181a18229c7b0b2b5e   \n",
       "3  b2b6027bc5c5109e529d4dc6358b12c3  259dac757896d24d7702b9acbbff3f3c   \n",
       "4  4f2d8ab171c80ec8364f7c12e35b23ad  345ecd01c38d18a9036ed96c73b8d066   \n",
       "\n",
       "   customer_zip_code_prefix          customer_city customer_state  \\\n",
       "0                     14409                 franca             SP   \n",
       "1                      9790  sao bernardo do campo             SP   \n",
       "2                      1151              sao paulo             SP   \n",
       "3                      8775        mogi das cruzes             SP   \n",
       "4                     13056               campinas             SP   \n",
       "\n",
       "                           order_id order_status order_purchase_timestamp  \\\n",
       "0  00e7ee1b050b8499577073aeb2a297a1    delivered      2017-05-16 15:05:35   \n",
       "1  29150127e6685892b6eab3eec79f59c7    delivered      2018-01-12 20:48:24   \n",
       "2  b2059ed67ce144a36e2aa97d2c9e9ad2    delivered      2018-05-19 16:07:45   \n",
       "3  951670f92359f4fe4a63112aa7306eba    delivered      2018-03-13 16:06:38   \n",
       "4  6b7d50bd145f6fc7f33cebabd7e49d0f    delivered      2018-07-29 09:51:30   \n",
       "\n",
       "     order_approved_at order_delivered_carrier_date  \\\n",
       "0  2017-05-16 15:22:12          2017-05-23 10:47:57   \n",
       "1  2018-01-12 20:58:32          2018-01-15 17:14:59   \n",
       "2  2018-05-20 16:19:10          2018-06-11 14:31:00   \n",
       "3  2018-03-13 17:29:19          2018-03-27 23:22:42   \n",
       "4  2018-07-29 10:10:09          2018-07-30 15:16:00   \n",
       "\n",
       "  order_delivered_customer_date order_estimated_delivery_date  \n",
       "0           2017-05-25 10:35:35           2017-06-05 00:00:00  \n",
       "1           2018-01-29 12:41:19           2018-02-06 00:00:00  \n",
       "2           2018-06-14 17:58:51           2018-06-13 00:00:00  \n",
       "3           2018-03-28 16:04:25           2018-04-10 00:00:00  \n",
       "4           2018-08-09 20:55:48           2018-08-15 00:00:00  "
      ]
     },
     "execution_count": 12,
     "metadata": {},
     "output_type": "execute_result"
    }
   ],
   "source": [
    "#merging the data\n",
    "customer_order = pd.merge(customers, orders, on = 'customer_id', how = 'inner')\n",
    "customer_order.head()"
   ]
  },
  {
   "cell_type": "code",
   "execution_count": null,
   "metadata": {},
   "outputs": [],
   "source": []
  },
  {
   "cell_type": "code",
   "execution_count": 13,
   "metadata": {},
   "outputs": [
    {
     "data": {
      "text/plain": [
       "customer_id                      object\n",
       "customer_unique_id               object\n",
       "customer_zip_code_prefix          int64\n",
       "customer_city                    object\n",
       "customer_state                   object\n",
       "order_id                         object\n",
       "order_status                     object\n",
       "order_purchase_timestamp         object\n",
       "order_approved_at                object\n",
       "order_delivered_carrier_date     object\n",
       "order_delivered_customer_date    object\n",
       "order_estimated_delivery_date    object\n",
       "dtype: object"
      ]
     },
     "execution_count": 13,
     "metadata": {},
     "output_type": "execute_result"
    }
   ],
   "source": [
    "#check data types\n",
    "customer_order.dtypes"
   ]
  },
  {
   "cell_type": "code",
   "execution_count": 14,
   "metadata": {},
   "outputs": [],
   "source": [
    "# change tha data format\n",
    "date_columns = [\n",
    "    'order_purchase_timestamp',\n",
    "    'order_approved_at',\n",
    "    'order_delivered_carrier_date',\n",
    "    'order_delivered_customer_date',\n",
    "    'order_estimated_delivery_date']\n",
    "\n",
    "customer_order[date_columns] = customer_order[date_columns].apply(pd.to_datetime)"
   ]
  },
  {
   "cell_type": "code",
   "execution_count": 15,
   "metadata": {},
   "outputs": [
    {
     "data": {
      "text/plain": [
       "customer_id                              object\n",
       "customer_unique_id                       object\n",
       "customer_zip_code_prefix                  int64\n",
       "customer_city                            object\n",
       "customer_state                           object\n",
       "order_id                                 object\n",
       "order_status                             object\n",
       "order_purchase_timestamp         datetime64[ns]\n",
       "order_approved_at                datetime64[ns]\n",
       "order_delivered_carrier_date     datetime64[ns]\n",
       "order_delivered_customer_date    datetime64[ns]\n",
       "order_estimated_delivery_date    datetime64[ns]\n",
       "dtype: object"
      ]
     },
     "execution_count": 15,
     "metadata": {},
     "output_type": "execute_result"
    }
   ],
   "source": [
    "customer_order.dtypes"
   ]
  },
  {
   "cell_type": "code",
   "execution_count": null,
   "metadata": {},
   "outputs": [],
   "source": []
  },
  {
   "cell_type": "markdown",
   "metadata": {},
   "source": [
    "## **Task 1: Evaluate monthly retention in order placement using cohort analysis**"
   ]
  },
  {
   "cell_type": "markdown",
   "metadata": {},
   "source": [
    "By order processing, I mean the entire order cycle: from creation to delivery and payment. Therefore, I look at orders that have already been delivered and confirmed as paid.\n",
    "\n",
    "In real life, it is advisable to ask the product manager/customer what data they are interested in."
   ]
  },
  {
   "cell_type": "code",
   "execution_count": 16,
   "metadata": {},
   "outputs": [
    {
     "data": {
      "text/html": [
       "<div>\n",
       "<style scoped>\n",
       "    .dataframe tbody tr th:only-of-type {\n",
       "        vertical-align: middle;\n",
       "    }\n",
       "\n",
       "    .dataframe tbody tr th {\n",
       "        vertical-align: top;\n",
       "    }\n",
       "\n",
       "    .dataframe thead th {\n",
       "        text-align: right;\n",
       "    }\n",
       "</style>\n",
       "<table border=\"1\" class=\"dataframe\">\n",
       "  <thead>\n",
       "    <tr style=\"text-align: right;\">\n",
       "      <th></th>\n",
       "      <th>order_status</th>\n",
       "      <th>customer_unique_id</th>\n",
       "    </tr>\n",
       "  </thead>\n",
       "  <tbody>\n",
       "    <tr>\n",
       "      <th>0</th>\n",
       "      <td>canceled</td>\n",
       "      <td>141</td>\n",
       "    </tr>\n",
       "    <tr>\n",
       "      <th>1</th>\n",
       "      <td>created</td>\n",
       "      <td>5</td>\n",
       "    </tr>\n",
       "    <tr>\n",
       "      <th>2</th>\n",
       "      <td>delivered</td>\n",
       "      <td>14</td>\n",
       "    </tr>\n",
       "  </tbody>\n",
       "</table>\n",
       "</div>"
      ],
      "text/plain": [
       "  order_status  customer_unique_id\n",
       "0     canceled                 141\n",
       "1      created                   5\n",
       "2    delivered                  14"
      ]
     },
     "execution_count": 16,
     "metadata": {},
     "output_type": "execute_result"
    }
   ],
   "source": [
    "# Let's see what the order statuses are for empty order payment confirmation dates\n",
    "# Interestingly, 14 orders with unconfirmed payment have the status ‘delivered’.\n",
    "# This may be because some customers paid for their orders after receiving them, \n",
    "# or because employees confirm orders manually and have not yet done so for 14 orders.\n",
    "\n",
    "customer_order[customer_order['order_approved_at'].isna()].groupby('order_status', as_index = False)\\\n",
    "    .agg({'customer_unique_id': 'count'})"
   ]
  },
  {
   "cell_type": "code",
   "execution_count": null,
   "metadata": {},
   "outputs": [],
   "source": []
  },
  {
   "cell_type": "code",
   "execution_count": 17,
   "metadata": {},
   "outputs": [],
   "source": [
    "# Data preparation: clean up rows with missing order_approved_at dates\n",
    "# (this way, we get rid of unpaid orders)\n",
    "\n",
    "customer_order_clean = customer_order.dropna(subset=['order_approved_at'])"
   ]
  },
  {
   "cell_type": "code",
   "execution_count": 18,
   "metadata": {},
   "outputs": [
    {
     "data": {
      "text/html": [
       "<div>\n",
       "<style scoped>\n",
       "    .dataframe tbody tr th:only-of-type {\n",
       "        vertical-align: middle;\n",
       "    }\n",
       "\n",
       "    .dataframe tbody tr th {\n",
       "        vertical-align: top;\n",
       "    }\n",
       "\n",
       "    .dataframe thead th {\n",
       "        text-align: right;\n",
       "    }\n",
       "</style>\n",
       "<table border=\"1\" class=\"dataframe\">\n",
       "  <thead>\n",
       "    <tr style=\"text-align: right;\">\n",
       "      <th></th>\n",
       "      <th>order_status</th>\n",
       "      <th>customer_unique_id</th>\n",
       "    </tr>\n",
       "  </thead>\n",
       "  <tbody>\n",
       "    <tr>\n",
       "      <th>0</th>\n",
       "      <td>approved</td>\n",
       "      <td>2</td>\n",
       "    </tr>\n",
       "    <tr>\n",
       "      <th>1</th>\n",
       "      <td>canceled</td>\n",
       "      <td>484</td>\n",
       "    </tr>\n",
       "    <tr>\n",
       "      <th>2</th>\n",
       "      <td>delivered</td>\n",
       "      <td>96464</td>\n",
       "    </tr>\n",
       "    <tr>\n",
       "      <th>3</th>\n",
       "      <td>invoiced</td>\n",
       "      <td>314</td>\n",
       "    </tr>\n",
       "    <tr>\n",
       "      <th>4</th>\n",
       "      <td>processing</td>\n",
       "      <td>301</td>\n",
       "    </tr>\n",
       "    <tr>\n",
       "      <th>5</th>\n",
       "      <td>shipped</td>\n",
       "      <td>1107</td>\n",
       "    </tr>\n",
       "    <tr>\n",
       "      <th>6</th>\n",
       "      <td>unavailable</td>\n",
       "      <td>609</td>\n",
       "    </tr>\n",
       "  </tbody>\n",
       "</table>\n",
       "</div>"
      ],
      "text/plain": [
       "  order_status  customer_unique_id\n",
       "0     approved                   2\n",
       "1     canceled                 484\n",
       "2    delivered               96464\n",
       "3     invoiced                 314\n",
       "4   processing                 301\n",
       "5      shipped                1107\n",
       "6  unavailable                 609"
      ]
     },
     "execution_count": 18,
     "metadata": {},
     "output_type": "execute_result"
    }
   ],
   "source": [
    "# Let's see what the status of confirmed orders was\n",
    "customer_order_clean.groupby('order_status', as_index = False).agg({'customer_unique_id': 'count'})"
   ]
  },
  {
   "cell_type": "code",
   "execution_count": 19,
   "metadata": {},
   "outputs": [],
   "source": [
    "# filter by delivered orders\n",
    "customer_order_clean = customer_order_clean.query(\"order_status == 'delivered'\")"
   ]
  },
  {
   "cell_type": "code",
   "execution_count": null,
   "metadata": {},
   "outputs": [],
   "source": []
  },
  {
   "cell_type": "code",
   "execution_count": 20,
   "metadata": {},
   "outputs": [],
   "source": [
    "# Extract the month and day of the order\n",
    "customer_order_clean['order_month'] = customer_order_clean['order_approved_at'].dt.to_period('M')\n",
    "customer_order_clean['order_day'] = customer_order_clean['order_approved_at'].dt.to_period('D')"
   ]
  },
  {
   "cell_type": "code",
   "execution_count": null,
   "metadata": {},
   "outputs": [],
   "source": []
  },
  {
   "cell_type": "code",
   "execution_count": 21,
   "metadata": {},
   "outputs": [],
   "source": [
    "# Assign cohorts based on the date of the first action for each user\n",
    "customer_order_clean['cohort_month'] = customer_order_clean.groupby('customer_unique_id')['order_approved_at']\\\n",
    "    .transform('min').dt.to_period('M')\n",
    "customer_order_clean['cohort_day'] = customer_order_clean.groupby('customer_unique_id')['order_approved_at']\\\n",
    "    .transform('min').dt.to_period('D')"
   ]
  },
  {
   "cell_type": "code",
   "execution_count": null,
   "metadata": {},
   "outputs": [],
   "source": []
  },
  {
   "cell_type": "code",
   "execution_count": 22,
   "metadata": {},
   "outputs": [],
   "source": [
    "# Calculate the number of days in the period (monthly periods, divided by 30)\n",
    "customer_order_clean['period_number_month'] = np.floor((customer_order_clean.order_day - customer_order_clean.cohort_day)\\\n",
    "                                                       .apply(attrgetter('n')) / 30)"
   ]
  },
  {
   "cell_type": "code",
   "execution_count": 23,
   "metadata": {},
   "outputs": [
    {
     "data": {
      "text/html": [
       "<div>\n",
       "<style scoped>\n",
       "    .dataframe tbody tr th:only-of-type {\n",
       "        vertical-align: middle;\n",
       "    }\n",
       "\n",
       "    .dataframe tbody tr th {\n",
       "        vertical-align: top;\n",
       "    }\n",
       "\n",
       "    .dataframe thead th {\n",
       "        text-align: right;\n",
       "    }\n",
       "</style>\n",
       "<table border=\"1\" class=\"dataframe\">\n",
       "  <thead>\n",
       "    <tr style=\"text-align: right;\">\n",
       "      <th></th>\n",
       "      <th>customer_id</th>\n",
       "      <th>customer_unique_id</th>\n",
       "      <th>customer_zip_code_prefix</th>\n",
       "      <th>customer_city</th>\n",
       "      <th>customer_state</th>\n",
       "      <th>order_id</th>\n",
       "      <th>order_status</th>\n",
       "      <th>order_purchase_timestamp</th>\n",
       "      <th>order_approved_at</th>\n",
       "      <th>order_delivered_carrier_date</th>\n",
       "      <th>order_delivered_customer_date</th>\n",
       "      <th>order_estimated_delivery_date</th>\n",
       "      <th>order_month</th>\n",
       "      <th>order_day</th>\n",
       "      <th>cohort_month</th>\n",
       "      <th>cohort_day</th>\n",
       "      <th>period_number_month</th>\n",
       "    </tr>\n",
       "  </thead>\n",
       "  <tbody>\n",
       "    <tr>\n",
       "      <th>0</th>\n",
       "      <td>06b8999e2fba1a1fbc88172c00ba8bc7</td>\n",
       "      <td>861eff4711a542e4b93843c6dd7febb0</td>\n",
       "      <td>14409</td>\n",
       "      <td>franca</td>\n",
       "      <td>SP</td>\n",
       "      <td>00e7ee1b050b8499577073aeb2a297a1</td>\n",
       "      <td>delivered</td>\n",
       "      <td>2017-05-16 15:05:35</td>\n",
       "      <td>2017-05-16 15:22:12</td>\n",
       "      <td>2017-05-23 10:47:57</td>\n",
       "      <td>2017-05-25 10:35:35</td>\n",
       "      <td>2017-06-05</td>\n",
       "      <td>2017-05</td>\n",
       "      <td>2017-05-16</td>\n",
       "      <td>2017-05</td>\n",
       "      <td>2017-05-16</td>\n",
       "      <td>0.0</td>\n",
       "    </tr>\n",
       "    <tr>\n",
       "      <th>1</th>\n",
       "      <td>18955e83d337fd6b2def6b18a428ac77</td>\n",
       "      <td>290c77bc529b7ac935b93aa66c333dc3</td>\n",
       "      <td>9790</td>\n",
       "      <td>sao bernardo do campo</td>\n",
       "      <td>SP</td>\n",
       "      <td>29150127e6685892b6eab3eec79f59c7</td>\n",
       "      <td>delivered</td>\n",
       "      <td>2018-01-12 20:48:24</td>\n",
       "      <td>2018-01-12 20:58:32</td>\n",
       "      <td>2018-01-15 17:14:59</td>\n",
       "      <td>2018-01-29 12:41:19</td>\n",
       "      <td>2018-02-06</td>\n",
       "      <td>2018-01</td>\n",
       "      <td>2018-01-12</td>\n",
       "      <td>2018-01</td>\n",
       "      <td>2018-01-12</td>\n",
       "      <td>0.0</td>\n",
       "    </tr>\n",
       "    <tr>\n",
       "      <th>2</th>\n",
       "      <td>4e7b3e00288586ebd08712fdd0374a03</td>\n",
       "      <td>060e732b5b29e8181a18229c7b0b2b5e</td>\n",
       "      <td>1151</td>\n",
       "      <td>sao paulo</td>\n",
       "      <td>SP</td>\n",
       "      <td>b2059ed67ce144a36e2aa97d2c9e9ad2</td>\n",
       "      <td>delivered</td>\n",
       "      <td>2018-05-19 16:07:45</td>\n",
       "      <td>2018-05-20 16:19:10</td>\n",
       "      <td>2018-06-11 14:31:00</td>\n",
       "      <td>2018-06-14 17:58:51</td>\n",
       "      <td>2018-06-13</td>\n",
       "      <td>2018-05</td>\n",
       "      <td>2018-05-20</td>\n",
       "      <td>2018-05</td>\n",
       "      <td>2018-05-20</td>\n",
       "      <td>0.0</td>\n",
       "    </tr>\n",
       "    <tr>\n",
       "      <th>3</th>\n",
       "      <td>b2b6027bc5c5109e529d4dc6358b12c3</td>\n",
       "      <td>259dac757896d24d7702b9acbbff3f3c</td>\n",
       "      <td>8775</td>\n",
       "      <td>mogi das cruzes</td>\n",
       "      <td>SP</td>\n",
       "      <td>951670f92359f4fe4a63112aa7306eba</td>\n",
       "      <td>delivered</td>\n",
       "      <td>2018-03-13 16:06:38</td>\n",
       "      <td>2018-03-13 17:29:19</td>\n",
       "      <td>2018-03-27 23:22:42</td>\n",
       "      <td>2018-03-28 16:04:25</td>\n",
       "      <td>2018-04-10</td>\n",
       "      <td>2018-03</td>\n",
       "      <td>2018-03-13</td>\n",
       "      <td>2018-03</td>\n",
       "      <td>2018-03-13</td>\n",
       "      <td>0.0</td>\n",
       "    </tr>\n",
       "    <tr>\n",
       "      <th>4</th>\n",
       "      <td>4f2d8ab171c80ec8364f7c12e35b23ad</td>\n",
       "      <td>345ecd01c38d18a9036ed96c73b8d066</td>\n",
       "      <td>13056</td>\n",
       "      <td>campinas</td>\n",
       "      <td>SP</td>\n",
       "      <td>6b7d50bd145f6fc7f33cebabd7e49d0f</td>\n",
       "      <td>delivered</td>\n",
       "      <td>2018-07-29 09:51:30</td>\n",
       "      <td>2018-07-29 10:10:09</td>\n",
       "      <td>2018-07-30 15:16:00</td>\n",
       "      <td>2018-08-09 20:55:48</td>\n",
       "      <td>2018-08-15</td>\n",
       "      <td>2018-07</td>\n",
       "      <td>2018-07-29</td>\n",
       "      <td>2018-07</td>\n",
       "      <td>2018-07-29</td>\n",
       "      <td>0.0</td>\n",
       "    </tr>\n",
       "  </tbody>\n",
       "</table>\n",
       "</div>"
      ],
      "text/plain": [
       "                        customer_id                customer_unique_id  \\\n",
       "0  06b8999e2fba1a1fbc88172c00ba8bc7  861eff4711a542e4b93843c6dd7febb0   \n",
       "1  18955e83d337fd6b2def6b18a428ac77  290c77bc529b7ac935b93aa66c333dc3   \n",
       "2  4e7b3e00288586ebd08712fdd0374a03  060e732b5b29e8181a18229c7b0b2b5e   \n",
       "3  b2b6027bc5c5109e529d4dc6358b12c3  259dac757896d24d7702b9acbbff3f3c   \n",
       "4  4f2d8ab171c80ec8364f7c12e35b23ad  345ecd01c38d18a9036ed96c73b8d066   \n",
       "\n",
       "   customer_zip_code_prefix          customer_city customer_state  \\\n",
       "0                     14409                 franca             SP   \n",
       "1                      9790  sao bernardo do campo             SP   \n",
       "2                      1151              sao paulo             SP   \n",
       "3                      8775        mogi das cruzes             SP   \n",
       "4                     13056               campinas             SP   \n",
       "\n",
       "                           order_id order_status order_purchase_timestamp  \\\n",
       "0  00e7ee1b050b8499577073aeb2a297a1    delivered      2017-05-16 15:05:35   \n",
       "1  29150127e6685892b6eab3eec79f59c7    delivered      2018-01-12 20:48:24   \n",
       "2  b2059ed67ce144a36e2aa97d2c9e9ad2    delivered      2018-05-19 16:07:45   \n",
       "3  951670f92359f4fe4a63112aa7306eba    delivered      2018-03-13 16:06:38   \n",
       "4  6b7d50bd145f6fc7f33cebabd7e49d0f    delivered      2018-07-29 09:51:30   \n",
       "\n",
       "    order_approved_at order_delivered_carrier_date  \\\n",
       "0 2017-05-16 15:22:12          2017-05-23 10:47:57   \n",
       "1 2018-01-12 20:58:32          2018-01-15 17:14:59   \n",
       "2 2018-05-20 16:19:10          2018-06-11 14:31:00   \n",
       "3 2018-03-13 17:29:19          2018-03-27 23:22:42   \n",
       "4 2018-07-29 10:10:09          2018-07-30 15:16:00   \n",
       "\n",
       "  order_delivered_customer_date order_estimated_delivery_date order_month  \\\n",
       "0           2017-05-25 10:35:35                    2017-06-05     2017-05   \n",
       "1           2018-01-29 12:41:19                    2018-02-06     2018-01   \n",
       "2           2018-06-14 17:58:51                    2018-06-13     2018-05   \n",
       "3           2018-03-28 16:04:25                    2018-04-10     2018-03   \n",
       "4           2018-08-09 20:55:48                    2018-08-15     2018-07   \n",
       "\n",
       "    order_day cohort_month  cohort_day  period_number_month  \n",
       "0  2017-05-16      2017-05  2017-05-16                  0.0  \n",
       "1  2018-01-12      2018-01  2018-01-12                  0.0  \n",
       "2  2018-05-20      2018-05  2018-05-20                  0.0  \n",
       "3  2018-03-13      2018-03  2018-03-13                  0.0  \n",
       "4  2018-07-29      2018-07  2018-07-29                  0.0  "
      ]
     },
     "execution_count": 23,
     "metadata": {},
     "output_type": "execute_result"
    }
   ],
   "source": [
    "customer_order_clean.head()"
   ]
  },
  {
   "cell_type": "code",
   "execution_count": null,
   "metadata": {},
   "outputs": [],
   "source": []
  },
  {
   "cell_type": "code",
   "execution_count": 24,
   "metadata": {},
   "outputs": [],
   "source": [
    "# Aggregate data by cohorts and calculated period number (in months)\n",
    "df_cohort = customer_order_clean.groupby(['cohort_month', 'period_number_month'])\\\n",
    "        .agg(n_customers=('customer_unique_id', 'nunique')).reset_index()"
   ]
  },
  {
   "cell_type": "code",
   "execution_count": 25,
   "metadata": {},
   "outputs": [
    {
     "data": {
      "text/html": [
       "<div>\n",
       "<style scoped>\n",
       "    .dataframe tbody tr th:only-of-type {\n",
       "        vertical-align: middle;\n",
       "    }\n",
       "\n",
       "    .dataframe tbody tr th {\n",
       "        vertical-align: top;\n",
       "    }\n",
       "\n",
       "    .dataframe thead th {\n",
       "        text-align: right;\n",
       "    }\n",
       "</style>\n",
       "<table border=\"1\" class=\"dataframe\">\n",
       "  <thead>\n",
       "    <tr style=\"text-align: right;\">\n",
       "      <th></th>\n",
       "      <th>cohort_month</th>\n",
       "      <th>period_number_month</th>\n",
       "      <th>n_customers</th>\n",
       "    </tr>\n",
       "  </thead>\n",
       "  <tbody>\n",
       "    <tr>\n",
       "      <th>0</th>\n",
       "      <td>2016-09</td>\n",
       "      <td>0.0</td>\n",
       "      <td>1</td>\n",
       "    </tr>\n",
       "    <tr>\n",
       "      <th>1</th>\n",
       "      <td>2016-10</td>\n",
       "      <td>0.0</td>\n",
       "      <td>262</td>\n",
       "    </tr>\n",
       "    <tr>\n",
       "      <th>2</th>\n",
       "      <td>2016-10</td>\n",
       "      <td>6.0</td>\n",
       "      <td>1</td>\n",
       "    </tr>\n",
       "    <tr>\n",
       "      <th>3</th>\n",
       "      <td>2016-10</td>\n",
       "      <td>9.0</td>\n",
       "      <td>1</td>\n",
       "    </tr>\n",
       "    <tr>\n",
       "      <th>4</th>\n",
       "      <td>2016-10</td>\n",
       "      <td>11.0</td>\n",
       "      <td>1</td>\n",
       "    </tr>\n",
       "  </tbody>\n",
       "</table>\n",
       "</div>"
      ],
      "text/plain": [
       "  cohort_month  period_number_month  n_customers\n",
       "0      2016-09                  0.0            1\n",
       "1      2016-10                  0.0          262\n",
       "2      2016-10                  6.0            1\n",
       "3      2016-10                  9.0            1\n",
       "4      2016-10                 11.0            1"
      ]
     },
     "execution_count": 25,
     "metadata": {},
     "output_type": "execute_result"
    }
   ],
   "source": [
    "df_cohort.head()"
   ]
  },
  {
   "cell_type": "code",
   "execution_count": null,
   "metadata": {},
   "outputs": [],
   "source": []
  },
  {
   "cell_type": "code",
   "execution_count": 26,
   "metadata": {},
   "outputs": [],
   "source": [
    "# Creating a summary table for cohort analysis\n",
    "cohort_pivot = df_cohort.pivot_table(index='cohort_month', columns='period_number_month', values='n_customers')"
   ]
  },
  {
   "cell_type": "code",
   "execution_count": 27,
   "metadata": {},
   "outputs": [
    {
     "data": {
      "text/html": [
       "<div>\n",
       "<style scoped>\n",
       "    .dataframe tbody tr th:only-of-type {\n",
       "        vertical-align: middle;\n",
       "    }\n",
       "\n",
       "    .dataframe tbody tr th {\n",
       "        vertical-align: top;\n",
       "    }\n",
       "\n",
       "    .dataframe thead th {\n",
       "        text-align: right;\n",
       "    }\n",
       "</style>\n",
       "<table border=\"1\" class=\"dataframe\">\n",
       "  <thead>\n",
       "    <tr style=\"text-align: right;\">\n",
       "      <th>period_number_month</th>\n",
       "      <th>0.0</th>\n",
       "      <th>1.0</th>\n",
       "      <th>2.0</th>\n",
       "      <th>3.0</th>\n",
       "      <th>4.0</th>\n",
       "      <th>5.0</th>\n",
       "      <th>6.0</th>\n",
       "      <th>7.0</th>\n",
       "      <th>8.0</th>\n",
       "      <th>9.0</th>\n",
       "      <th>...</th>\n",
       "      <th>11.0</th>\n",
       "      <th>12.0</th>\n",
       "      <th>13.0</th>\n",
       "      <th>14.0</th>\n",
       "      <th>15.0</th>\n",
       "      <th>16.0</th>\n",
       "      <th>17.0</th>\n",
       "      <th>19.0</th>\n",
       "      <th>20.0</th>\n",
       "      <th>21.0</th>\n",
       "    </tr>\n",
       "    <tr>\n",
       "      <th>cohort_month</th>\n",
       "      <th></th>\n",
       "      <th></th>\n",
       "      <th></th>\n",
       "      <th></th>\n",
       "      <th></th>\n",
       "      <th></th>\n",
       "      <th></th>\n",
       "      <th></th>\n",
       "      <th></th>\n",
       "      <th></th>\n",
       "      <th></th>\n",
       "      <th></th>\n",
       "      <th></th>\n",
       "      <th></th>\n",
       "      <th></th>\n",
       "      <th></th>\n",
       "      <th></th>\n",
       "      <th></th>\n",
       "      <th></th>\n",
       "      <th></th>\n",
       "      <th></th>\n",
       "    </tr>\n",
       "  </thead>\n",
       "  <tbody>\n",
       "    <tr>\n",
       "      <th>2016-09</th>\n",
       "      <td>1.0</td>\n",
       "      <td>NaN</td>\n",
       "      <td>NaN</td>\n",
       "      <td>NaN</td>\n",
       "      <td>NaN</td>\n",
       "      <td>NaN</td>\n",
       "      <td>NaN</td>\n",
       "      <td>NaN</td>\n",
       "      <td>NaN</td>\n",
       "      <td>NaN</td>\n",
       "      <td>...</td>\n",
       "      <td>NaN</td>\n",
       "      <td>NaN</td>\n",
       "      <td>NaN</td>\n",
       "      <td>NaN</td>\n",
       "      <td>NaN</td>\n",
       "      <td>NaN</td>\n",
       "      <td>NaN</td>\n",
       "      <td>NaN</td>\n",
       "      <td>NaN</td>\n",
       "      <td>NaN</td>\n",
       "    </tr>\n",
       "    <tr>\n",
       "      <th>2016-10</th>\n",
       "      <td>262.0</td>\n",
       "      <td>NaN</td>\n",
       "      <td>NaN</td>\n",
       "      <td>NaN</td>\n",
       "      <td>NaN</td>\n",
       "      <td>NaN</td>\n",
       "      <td>1.0</td>\n",
       "      <td>NaN</td>\n",
       "      <td>NaN</td>\n",
       "      <td>1.0</td>\n",
       "      <td>...</td>\n",
       "      <td>1.0</td>\n",
       "      <td>NaN</td>\n",
       "      <td>1.0</td>\n",
       "      <td>NaN</td>\n",
       "      <td>1.0</td>\n",
       "      <td>NaN</td>\n",
       "      <td>1.0</td>\n",
       "      <td>2.0</td>\n",
       "      <td>1.0</td>\n",
       "      <td>1.0</td>\n",
       "    </tr>\n",
       "    <tr>\n",
       "      <th>2016-12</th>\n",
       "      <td>1.0</td>\n",
       "      <td>NaN</td>\n",
       "      <td>NaN</td>\n",
       "      <td>NaN</td>\n",
       "      <td>NaN</td>\n",
       "      <td>NaN</td>\n",
       "      <td>NaN</td>\n",
       "      <td>NaN</td>\n",
       "      <td>NaN</td>\n",
       "      <td>NaN</td>\n",
       "      <td>...</td>\n",
       "      <td>NaN</td>\n",
       "      <td>NaN</td>\n",
       "      <td>NaN</td>\n",
       "      <td>NaN</td>\n",
       "      <td>NaN</td>\n",
       "      <td>NaN</td>\n",
       "      <td>NaN</td>\n",
       "      <td>NaN</td>\n",
       "      <td>NaN</td>\n",
       "      <td>NaN</td>\n",
       "    </tr>\n",
       "    <tr>\n",
       "      <th>2017-01</th>\n",
       "      <td>683.0</td>\n",
       "      <td>2.0</td>\n",
       "      <td>NaN</td>\n",
       "      <td>4.0</td>\n",
       "      <td>1.0</td>\n",
       "      <td>1.0</td>\n",
       "      <td>2.0</td>\n",
       "      <td>2.0</td>\n",
       "      <td>NaN</td>\n",
       "      <td>NaN</td>\n",
       "      <td>...</td>\n",
       "      <td>4.0</td>\n",
       "      <td>3.0</td>\n",
       "      <td>2.0</td>\n",
       "      <td>NaN</td>\n",
       "      <td>2.0</td>\n",
       "      <td>2.0</td>\n",
       "      <td>2.0</td>\n",
       "      <td>1.0</td>\n",
       "      <td>NaN</td>\n",
       "      <td>NaN</td>\n",
       "    </tr>\n",
       "    <tr>\n",
       "      <th>2017-02</th>\n",
       "      <td>1612.0</td>\n",
       "      <td>2.0</td>\n",
       "      <td>3.0</td>\n",
       "      <td>6.0</td>\n",
       "      <td>4.0</td>\n",
       "      <td>2.0</td>\n",
       "      <td>4.0</td>\n",
       "      <td>1.0</td>\n",
       "      <td>1.0</td>\n",
       "      <td>4.0</td>\n",
       "      <td>...</td>\n",
       "      <td>6.0</td>\n",
       "      <td>1.0</td>\n",
       "      <td>3.0</td>\n",
       "      <td>2.0</td>\n",
       "      <td>1.0</td>\n",
       "      <td>1.0</td>\n",
       "      <td>3.0</td>\n",
       "      <td>NaN</td>\n",
       "      <td>NaN</td>\n",
       "      <td>NaN</td>\n",
       "    </tr>\n",
       "  </tbody>\n",
       "</table>\n",
       "<p>5 rows × 21 columns</p>\n",
       "</div>"
      ],
      "text/plain": [
       "period_number_month    0.0   1.0   2.0   3.0   4.0   5.0   6.0   7.0   8.0   \\\n",
       "cohort_month                                                                  \n",
       "2016-09                 1.0   NaN   NaN   NaN   NaN   NaN   NaN   NaN   NaN   \n",
       "2016-10               262.0   NaN   NaN   NaN   NaN   NaN   1.0   NaN   NaN   \n",
       "2016-12                 1.0   NaN   NaN   NaN   NaN   NaN   NaN   NaN   NaN   \n",
       "2017-01               683.0   2.0   NaN   4.0   1.0   1.0   2.0   2.0   NaN   \n",
       "2017-02              1612.0   2.0   3.0   6.0   4.0   2.0   4.0   1.0   1.0   \n",
       "\n",
       "period_number_month  9.0   ...  11.0  12.0  13.0  14.0  15.0  16.0  17.0  \\\n",
       "cohort_month               ...                                             \n",
       "2016-09               NaN  ...   NaN   NaN   NaN   NaN   NaN   NaN   NaN   \n",
       "2016-10               1.0  ...   1.0   NaN   1.0   NaN   1.0   NaN   1.0   \n",
       "2016-12               NaN  ...   NaN   NaN   NaN   NaN   NaN   NaN   NaN   \n",
       "2017-01               NaN  ...   4.0   3.0   2.0   NaN   2.0   2.0   2.0   \n",
       "2017-02               4.0  ...   6.0   1.0   3.0   2.0   1.0   1.0   3.0   \n",
       "\n",
       "period_number_month  19.0  20.0  21.0  \n",
       "cohort_month                           \n",
       "2016-09               NaN   NaN   NaN  \n",
       "2016-10               2.0   1.0   1.0  \n",
       "2016-12               NaN   NaN   NaN  \n",
       "2017-01               1.0   NaN   NaN  \n",
       "2017-02               NaN   NaN   NaN  \n",
       "\n",
       "[5 rows x 21 columns]"
      ]
     },
     "execution_count": 27,
     "metadata": {},
     "output_type": "execute_result"
    }
   ],
   "source": [
    "cohort_pivot.head()"
   ]
  },
  {
   "cell_type": "code",
   "execution_count": null,
   "metadata": {},
   "outputs": [],
   "source": []
  },
  {
   "cell_type": "code",
   "execution_count": 28,
   "metadata": {},
   "outputs": [],
   "source": [
    "# Calculating cohort sizes\n",
    "cohort_size = cohort_pivot.iloc[:, 0]"
   ]
  },
  {
   "cell_type": "code",
   "execution_count": null,
   "metadata": {},
   "outputs": [],
   "source": []
  },
  {
   "cell_type": "code",
   "execution_count": 29,
   "metadata": {},
   "outputs": [],
   "source": [
    "# Calculate retention rates by dividing by cohort size\n",
    "retention_matrix = cohort_pivot.divide(cohort_size, axis=0)"
   ]
  },
  {
   "cell_type": "code",
   "execution_count": 30,
   "metadata": {},
   "outputs": [
    {
     "data": {
      "text/html": [
       "<div>\n",
       "<style scoped>\n",
       "    .dataframe tbody tr th:only-of-type {\n",
       "        vertical-align: middle;\n",
       "    }\n",
       "\n",
       "    .dataframe tbody tr th {\n",
       "        vertical-align: top;\n",
       "    }\n",
       "\n",
       "    .dataframe thead th {\n",
       "        text-align: right;\n",
       "    }\n",
       "</style>\n",
       "<table border=\"1\" class=\"dataframe\">\n",
       "  <thead>\n",
       "    <tr style=\"text-align: right;\">\n",
       "      <th>period_number_month</th>\n",
       "      <th>0.0</th>\n",
       "      <th>1.0</th>\n",
       "      <th>2.0</th>\n",
       "      <th>3.0</th>\n",
       "      <th>4.0</th>\n",
       "      <th>5.0</th>\n",
       "      <th>6.0</th>\n",
       "      <th>7.0</th>\n",
       "      <th>8.0</th>\n",
       "      <th>9.0</th>\n",
       "      <th>...</th>\n",
       "      <th>11.0</th>\n",
       "      <th>12.0</th>\n",
       "      <th>13.0</th>\n",
       "      <th>14.0</th>\n",
       "      <th>15.0</th>\n",
       "      <th>16.0</th>\n",
       "      <th>17.0</th>\n",
       "      <th>19.0</th>\n",
       "      <th>20.0</th>\n",
       "      <th>21.0</th>\n",
       "    </tr>\n",
       "    <tr>\n",
       "      <th>cohort_month</th>\n",
       "      <th></th>\n",
       "      <th></th>\n",
       "      <th></th>\n",
       "      <th></th>\n",
       "      <th></th>\n",
       "      <th></th>\n",
       "      <th></th>\n",
       "      <th></th>\n",
       "      <th></th>\n",
       "      <th></th>\n",
       "      <th></th>\n",
       "      <th></th>\n",
       "      <th></th>\n",
       "      <th></th>\n",
       "      <th></th>\n",
       "      <th></th>\n",
       "      <th></th>\n",
       "      <th></th>\n",
       "      <th></th>\n",
       "      <th></th>\n",
       "      <th></th>\n",
       "    </tr>\n",
       "  </thead>\n",
       "  <tbody>\n",
       "    <tr>\n",
       "      <th>2016-09</th>\n",
       "      <td>1.0</td>\n",
       "      <td>NaN</td>\n",
       "      <td>NaN</td>\n",
       "      <td>NaN</td>\n",
       "      <td>NaN</td>\n",
       "      <td>NaN</td>\n",
       "      <td>NaN</td>\n",
       "      <td>NaN</td>\n",
       "      <td>NaN</td>\n",
       "      <td>NaN</td>\n",
       "      <td>...</td>\n",
       "      <td>NaN</td>\n",
       "      <td>NaN</td>\n",
       "      <td>NaN</td>\n",
       "      <td>NaN</td>\n",
       "      <td>NaN</td>\n",
       "      <td>NaN</td>\n",
       "      <td>NaN</td>\n",
       "      <td>NaN</td>\n",
       "      <td>NaN</td>\n",
       "      <td>NaN</td>\n",
       "    </tr>\n",
       "    <tr>\n",
       "      <th>2016-10</th>\n",
       "      <td>1.0</td>\n",
       "      <td>NaN</td>\n",
       "      <td>NaN</td>\n",
       "      <td>NaN</td>\n",
       "      <td>NaN</td>\n",
       "      <td>NaN</td>\n",
       "      <td>0.003817</td>\n",
       "      <td>NaN</td>\n",
       "      <td>NaN</td>\n",
       "      <td>0.003817</td>\n",
       "      <td>...</td>\n",
       "      <td>0.003817</td>\n",
       "      <td>NaN</td>\n",
       "      <td>0.003817</td>\n",
       "      <td>NaN</td>\n",
       "      <td>0.003817</td>\n",
       "      <td>NaN</td>\n",
       "      <td>0.003817</td>\n",
       "      <td>0.007634</td>\n",
       "      <td>0.003817</td>\n",
       "      <td>0.003817</td>\n",
       "    </tr>\n",
       "    <tr>\n",
       "      <th>2016-12</th>\n",
       "      <td>1.0</td>\n",
       "      <td>NaN</td>\n",
       "      <td>NaN</td>\n",
       "      <td>NaN</td>\n",
       "      <td>NaN</td>\n",
       "      <td>NaN</td>\n",
       "      <td>NaN</td>\n",
       "      <td>NaN</td>\n",
       "      <td>NaN</td>\n",
       "      <td>NaN</td>\n",
       "      <td>...</td>\n",
       "      <td>NaN</td>\n",
       "      <td>NaN</td>\n",
       "      <td>NaN</td>\n",
       "      <td>NaN</td>\n",
       "      <td>NaN</td>\n",
       "      <td>NaN</td>\n",
       "      <td>NaN</td>\n",
       "      <td>NaN</td>\n",
       "      <td>NaN</td>\n",
       "      <td>NaN</td>\n",
       "    </tr>\n",
       "    <tr>\n",
       "      <th>2017-01</th>\n",
       "      <td>1.0</td>\n",
       "      <td>0.002928</td>\n",
       "      <td>NaN</td>\n",
       "      <td>0.005857</td>\n",
       "      <td>0.001464</td>\n",
       "      <td>0.001464</td>\n",
       "      <td>0.002928</td>\n",
       "      <td>0.002928</td>\n",
       "      <td>NaN</td>\n",
       "      <td>NaN</td>\n",
       "      <td>...</td>\n",
       "      <td>0.005857</td>\n",
       "      <td>0.004392</td>\n",
       "      <td>0.002928</td>\n",
       "      <td>NaN</td>\n",
       "      <td>0.002928</td>\n",
       "      <td>0.002928</td>\n",
       "      <td>0.002928</td>\n",
       "      <td>0.001464</td>\n",
       "      <td>NaN</td>\n",
       "      <td>NaN</td>\n",
       "    </tr>\n",
       "    <tr>\n",
       "      <th>2017-02</th>\n",
       "      <td>1.0</td>\n",
       "      <td>0.001241</td>\n",
       "      <td>0.001861</td>\n",
       "      <td>0.003722</td>\n",
       "      <td>0.002481</td>\n",
       "      <td>0.001241</td>\n",
       "      <td>0.002481</td>\n",
       "      <td>0.000620</td>\n",
       "      <td>0.000620</td>\n",
       "      <td>0.002481</td>\n",
       "      <td>...</td>\n",
       "      <td>0.003722</td>\n",
       "      <td>0.000620</td>\n",
       "      <td>0.001861</td>\n",
       "      <td>0.001241</td>\n",
       "      <td>0.000620</td>\n",
       "      <td>0.000620</td>\n",
       "      <td>0.001861</td>\n",
       "      <td>NaN</td>\n",
       "      <td>NaN</td>\n",
       "      <td>NaN</td>\n",
       "    </tr>\n",
       "    <tr>\n",
       "      <th>2017-03</th>\n",
       "      <td>1.0</td>\n",
       "      <td>0.002788</td>\n",
       "      <td>0.004779</td>\n",
       "      <td>0.004381</td>\n",
       "      <td>0.001195</td>\n",
       "      <td>0.000796</td>\n",
       "      <td>0.003186</td>\n",
       "      <td>0.001991</td>\n",
       "      <td>0.002389</td>\n",
       "      <td>0.002389</td>\n",
       "      <td>...</td>\n",
       "      <td>0.001593</td>\n",
       "      <td>0.001593</td>\n",
       "      <td>0.001195</td>\n",
       "      <td>0.002389</td>\n",
       "      <td>0.001195</td>\n",
       "      <td>0.001195</td>\n",
       "      <td>0.000796</td>\n",
       "      <td>NaN</td>\n",
       "      <td>NaN</td>\n",
       "      <td>NaN</td>\n",
       "    </tr>\n",
       "    <tr>\n",
       "      <th>2017-04</th>\n",
       "      <td>1.0</td>\n",
       "      <td>0.003584</td>\n",
       "      <td>0.002688</td>\n",
       "      <td>NaN</td>\n",
       "      <td>0.002688</td>\n",
       "      <td>0.003584</td>\n",
       "      <td>0.002688</td>\n",
       "      <td>0.004480</td>\n",
       "      <td>0.002240</td>\n",
       "      <td>0.002240</td>\n",
       "      <td>...</td>\n",
       "      <td>0.001344</td>\n",
       "      <td>NaN</td>\n",
       "      <td>0.000896</td>\n",
       "      <td>0.000896</td>\n",
       "      <td>0.000896</td>\n",
       "      <td>0.000896</td>\n",
       "      <td>NaN</td>\n",
       "      <td>NaN</td>\n",
       "      <td>NaN</td>\n",
       "      <td>NaN</td>\n",
       "    </tr>\n",
       "    <tr>\n",
       "      <th>2017-05</th>\n",
       "      <td>1.0</td>\n",
       "      <td>0.004054</td>\n",
       "      <td>0.004054</td>\n",
       "      <td>0.002606</td>\n",
       "      <td>0.003765</td>\n",
       "      <td>0.003186</td>\n",
       "      <td>0.003186</td>\n",
       "      <td>0.001448</td>\n",
       "      <td>0.003186</td>\n",
       "      <td>0.002606</td>\n",
       "      <td>...</td>\n",
       "      <td>0.002896</td>\n",
       "      <td>0.001738</td>\n",
       "      <td>0.000869</td>\n",
       "      <td>0.002027</td>\n",
       "      <td>0.001158</td>\n",
       "      <td>NaN</td>\n",
       "      <td>NaN</td>\n",
       "      <td>NaN</td>\n",
       "      <td>NaN</td>\n",
       "      <td>NaN</td>\n",
       "    </tr>\n",
       "    <tr>\n",
       "      <th>2017-06</th>\n",
       "      <td>1.0</td>\n",
       "      <td>0.004271</td>\n",
       "      <td>0.004928</td>\n",
       "      <td>0.003614</td>\n",
       "      <td>0.001643</td>\n",
       "      <td>0.005256</td>\n",
       "      <td>0.002628</td>\n",
       "      <td>0.001971</td>\n",
       "      <td>0.001314</td>\n",
       "      <td>0.002957</td>\n",
       "      <td>...</td>\n",
       "      <td>0.003285</td>\n",
       "      <td>0.000986</td>\n",
       "      <td>0.002957</td>\n",
       "      <td>0.001314</td>\n",
       "      <td>NaN</td>\n",
       "      <td>NaN</td>\n",
       "      <td>NaN</td>\n",
       "      <td>NaN</td>\n",
       "      <td>NaN</td>\n",
       "      <td>NaN</td>\n",
       "    </tr>\n",
       "    <tr>\n",
       "      <th>2017-07</th>\n",
       "      <td>1.0</td>\n",
       "      <td>0.003505</td>\n",
       "      <td>0.002157</td>\n",
       "      <td>0.002696</td>\n",
       "      <td>0.003235</td>\n",
       "      <td>0.001887</td>\n",
       "      <td>0.002696</td>\n",
       "      <td>0.001887</td>\n",
       "      <td>0.001078</td>\n",
       "      <td>0.002696</td>\n",
       "      <td>...</td>\n",
       "      <td>0.002427</td>\n",
       "      <td>0.001618</td>\n",
       "      <td>0.001887</td>\n",
       "      <td>NaN</td>\n",
       "      <td>NaN</td>\n",
       "      <td>NaN</td>\n",
       "      <td>NaN</td>\n",
       "      <td>NaN</td>\n",
       "      <td>NaN</td>\n",
       "      <td>NaN</td>\n",
       "    </tr>\n",
       "    <tr>\n",
       "      <th>2017-08</th>\n",
       "      <td>1.0</td>\n",
       "      <td>0.006616</td>\n",
       "      <td>0.002695</td>\n",
       "      <td>0.003431</td>\n",
       "      <td>0.003921</td>\n",
       "      <td>0.004411</td>\n",
       "      <td>0.002450</td>\n",
       "      <td>0.002450</td>\n",
       "      <td>0.001470</td>\n",
       "      <td>0.001715</td>\n",
       "      <td>...</td>\n",
       "      <td>0.001715</td>\n",
       "      <td>0.000735</td>\n",
       "      <td>NaN</td>\n",
       "      <td>NaN</td>\n",
       "      <td>NaN</td>\n",
       "      <td>NaN</td>\n",
       "      <td>NaN</td>\n",
       "      <td>NaN</td>\n",
       "      <td>NaN</td>\n",
       "      <td>NaN</td>\n",
       "    </tr>\n",
       "    <tr>\n",
       "      <th>2017-09</th>\n",
       "      <td>1.0</td>\n",
       "      <td>0.005217</td>\n",
       "      <td>0.004720</td>\n",
       "      <td>0.003230</td>\n",
       "      <td>0.003478</td>\n",
       "      <td>0.002484</td>\n",
       "      <td>0.002484</td>\n",
       "      <td>0.001491</td>\n",
       "      <td>0.003478</td>\n",
       "      <td>0.001739</td>\n",
       "      <td>...</td>\n",
       "      <td>0.000248</td>\n",
       "      <td>NaN</td>\n",
       "      <td>NaN</td>\n",
       "      <td>NaN</td>\n",
       "      <td>NaN</td>\n",
       "      <td>NaN</td>\n",
       "      <td>NaN</td>\n",
       "      <td>NaN</td>\n",
       "      <td>NaN</td>\n",
       "      <td>NaN</td>\n",
       "    </tr>\n",
       "    <tr>\n",
       "      <th>2017-10</th>\n",
       "      <td>1.0</td>\n",
       "      <td>0.006288</td>\n",
       "      <td>0.000932</td>\n",
       "      <td>0.001164</td>\n",
       "      <td>0.003027</td>\n",
       "      <td>0.001630</td>\n",
       "      <td>0.002795</td>\n",
       "      <td>0.003959</td>\n",
       "      <td>0.002562</td>\n",
       "      <td>0.002096</td>\n",
       "      <td>...</td>\n",
       "      <td>NaN</td>\n",
       "      <td>NaN</td>\n",
       "      <td>NaN</td>\n",
       "      <td>NaN</td>\n",
       "      <td>NaN</td>\n",
       "      <td>NaN</td>\n",
       "      <td>NaN</td>\n",
       "      <td>NaN</td>\n",
       "      <td>NaN</td>\n",
       "      <td>NaN</td>\n",
       "    </tr>\n",
       "    <tr>\n",
       "      <th>2017-11</th>\n",
       "      <td>1.0</td>\n",
       "      <td>0.003320</td>\n",
       "      <td>0.002743</td>\n",
       "      <td>0.001732</td>\n",
       "      <td>0.001444</td>\n",
       "      <td>0.001877</td>\n",
       "      <td>0.001155</td>\n",
       "      <td>0.001877</td>\n",
       "      <td>0.000722</td>\n",
       "      <td>0.000289</td>\n",
       "      <td>...</td>\n",
       "      <td>NaN</td>\n",
       "      <td>NaN</td>\n",
       "      <td>NaN</td>\n",
       "      <td>NaN</td>\n",
       "      <td>NaN</td>\n",
       "      <td>NaN</td>\n",
       "      <td>NaN</td>\n",
       "      <td>NaN</td>\n",
       "      <td>NaN</td>\n",
       "      <td>NaN</td>\n",
       "    </tr>\n",
       "    <tr>\n",
       "      <th>2017-12</th>\n",
       "      <td>1.0</td>\n",
       "      <td>0.002732</td>\n",
       "      <td>0.003461</td>\n",
       "      <td>0.001639</td>\n",
       "      <td>0.002914</td>\n",
       "      <td>0.001639</td>\n",
       "      <td>0.000911</td>\n",
       "      <td>0.001093</td>\n",
       "      <td>0.000911</td>\n",
       "      <td>NaN</td>\n",
       "      <td>...</td>\n",
       "      <td>NaN</td>\n",
       "      <td>NaN</td>\n",
       "      <td>NaN</td>\n",
       "      <td>NaN</td>\n",
       "      <td>NaN</td>\n",
       "      <td>NaN</td>\n",
       "      <td>NaN</td>\n",
       "      <td>NaN</td>\n",
       "      <td>NaN</td>\n",
       "      <td>NaN</td>\n",
       "    </tr>\n",
       "    <tr>\n",
       "      <th>2018-01</th>\n",
       "      <td>1.0</td>\n",
       "      <td>0.003545</td>\n",
       "      <td>0.003250</td>\n",
       "      <td>0.003840</td>\n",
       "      <td>0.001477</td>\n",
       "      <td>0.001920</td>\n",
       "      <td>0.002363</td>\n",
       "      <td>0.000886</td>\n",
       "      <td>NaN</td>\n",
       "      <td>NaN</td>\n",
       "      <td>...</td>\n",
       "      <td>NaN</td>\n",
       "      <td>NaN</td>\n",
       "      <td>NaN</td>\n",
       "      <td>NaN</td>\n",
       "      <td>NaN</td>\n",
       "      <td>NaN</td>\n",
       "      <td>NaN</td>\n",
       "      <td>NaN</td>\n",
       "      <td>NaN</td>\n",
       "      <td>NaN</td>\n",
       "    </tr>\n",
       "    <tr>\n",
       "      <th>2018-02</th>\n",
       "      <td>1.0</td>\n",
       "      <td>0.003191</td>\n",
       "      <td>0.003510</td>\n",
       "      <td>0.002712</td>\n",
       "      <td>0.001914</td>\n",
       "      <td>0.001914</td>\n",
       "      <td>0.001117</td>\n",
       "      <td>NaN</td>\n",
       "      <td>NaN</td>\n",
       "      <td>NaN</td>\n",
       "      <td>...</td>\n",
       "      <td>NaN</td>\n",
       "      <td>NaN</td>\n",
       "      <td>NaN</td>\n",
       "      <td>NaN</td>\n",
       "      <td>NaN</td>\n",
       "      <td>NaN</td>\n",
       "      <td>NaN</td>\n",
       "      <td>NaN</td>\n",
       "      <td>NaN</td>\n",
       "      <td>NaN</td>\n",
       "    </tr>\n",
       "    <tr>\n",
       "      <th>2018-03</th>\n",
       "      <td>1.0</td>\n",
       "      <td>0.003941</td>\n",
       "      <td>0.001606</td>\n",
       "      <td>0.002335</td>\n",
       "      <td>0.001752</td>\n",
       "      <td>0.000584</td>\n",
       "      <td>NaN</td>\n",
       "      <td>NaN</td>\n",
       "      <td>NaN</td>\n",
       "      <td>NaN</td>\n",
       "      <td>...</td>\n",
       "      <td>NaN</td>\n",
       "      <td>NaN</td>\n",
       "      <td>NaN</td>\n",
       "      <td>NaN</td>\n",
       "      <td>NaN</td>\n",
       "      <td>NaN</td>\n",
       "      <td>NaN</td>\n",
       "      <td>NaN</td>\n",
       "      <td>NaN</td>\n",
       "      <td>NaN</td>\n",
       "    </tr>\n",
       "    <tr>\n",
       "      <th>2018-04</th>\n",
       "      <td>1.0</td>\n",
       "      <td>0.004667</td>\n",
       "      <td>0.001400</td>\n",
       "      <td>0.002334</td>\n",
       "      <td>0.001089</td>\n",
       "      <td>NaN</td>\n",
       "      <td>NaN</td>\n",
       "      <td>NaN</td>\n",
       "      <td>NaN</td>\n",
       "      <td>NaN</td>\n",
       "      <td>...</td>\n",
       "      <td>NaN</td>\n",
       "      <td>NaN</td>\n",
       "      <td>NaN</td>\n",
       "      <td>NaN</td>\n",
       "      <td>NaN</td>\n",
       "      <td>NaN</td>\n",
       "      <td>NaN</td>\n",
       "      <td>NaN</td>\n",
       "      <td>NaN</td>\n",
       "      <td>NaN</td>\n",
       "    </tr>\n",
       "    <tr>\n",
       "      <th>2018-05</th>\n",
       "      <td>1.0</td>\n",
       "      <td>0.003138</td>\n",
       "      <td>0.003138</td>\n",
       "      <td>0.000747</td>\n",
       "      <td>NaN</td>\n",
       "      <td>NaN</td>\n",
       "      <td>NaN</td>\n",
       "      <td>NaN</td>\n",
       "      <td>NaN</td>\n",
       "      <td>NaN</td>\n",
       "      <td>...</td>\n",
       "      <td>NaN</td>\n",
       "      <td>NaN</td>\n",
       "      <td>NaN</td>\n",
       "      <td>NaN</td>\n",
       "      <td>NaN</td>\n",
       "      <td>NaN</td>\n",
       "      <td>NaN</td>\n",
       "      <td>NaN</td>\n",
       "      <td>NaN</td>\n",
       "      <td>NaN</td>\n",
       "    </tr>\n",
       "    <tr>\n",
       "      <th>2018-06</th>\n",
       "      <td>1.0</td>\n",
       "      <td>0.003404</td>\n",
       "      <td>0.001021</td>\n",
       "      <td>NaN</td>\n",
       "      <td>NaN</td>\n",
       "      <td>NaN</td>\n",
       "      <td>NaN</td>\n",
       "      <td>NaN</td>\n",
       "      <td>NaN</td>\n",
       "      <td>NaN</td>\n",
       "      <td>...</td>\n",
       "      <td>NaN</td>\n",
       "      <td>NaN</td>\n",
       "      <td>NaN</td>\n",
       "      <td>NaN</td>\n",
       "      <td>NaN</td>\n",
       "      <td>NaN</td>\n",
       "      <td>NaN</td>\n",
       "      <td>NaN</td>\n",
       "      <td>NaN</td>\n",
       "      <td>NaN</td>\n",
       "    </tr>\n",
       "    <tr>\n",
       "      <th>2018-07</th>\n",
       "      <td>1.0</td>\n",
       "      <td>0.001197</td>\n",
       "      <td>NaN</td>\n",
       "      <td>NaN</td>\n",
       "      <td>NaN</td>\n",
       "      <td>NaN</td>\n",
       "      <td>NaN</td>\n",
       "      <td>NaN</td>\n",
       "      <td>NaN</td>\n",
       "      <td>NaN</td>\n",
       "      <td>...</td>\n",
       "      <td>NaN</td>\n",
       "      <td>NaN</td>\n",
       "      <td>NaN</td>\n",
       "      <td>NaN</td>\n",
       "      <td>NaN</td>\n",
       "      <td>NaN</td>\n",
       "      <td>NaN</td>\n",
       "      <td>NaN</td>\n",
       "      <td>NaN</td>\n",
       "      <td>NaN</td>\n",
       "    </tr>\n",
       "    <tr>\n",
       "      <th>2018-08</th>\n",
       "      <td>1.0</td>\n",
       "      <td>NaN</td>\n",
       "      <td>NaN</td>\n",
       "      <td>NaN</td>\n",
       "      <td>NaN</td>\n",
       "      <td>NaN</td>\n",
       "      <td>NaN</td>\n",
       "      <td>NaN</td>\n",
       "      <td>NaN</td>\n",
       "      <td>NaN</td>\n",
       "      <td>...</td>\n",
       "      <td>NaN</td>\n",
       "      <td>NaN</td>\n",
       "      <td>NaN</td>\n",
       "      <td>NaN</td>\n",
       "      <td>NaN</td>\n",
       "      <td>NaN</td>\n",
       "      <td>NaN</td>\n",
       "      <td>NaN</td>\n",
       "      <td>NaN</td>\n",
       "      <td>NaN</td>\n",
       "    </tr>\n",
       "  </tbody>\n",
       "</table>\n",
       "<p>23 rows × 21 columns</p>\n",
       "</div>"
      ],
      "text/plain": [
       "period_number_month  0.0       1.0       2.0       3.0       4.0       5.0   \\\n",
       "cohort_month                                                                  \n",
       "2016-09               1.0       NaN       NaN       NaN       NaN       NaN   \n",
       "2016-10               1.0       NaN       NaN       NaN       NaN       NaN   \n",
       "2016-12               1.0       NaN       NaN       NaN       NaN       NaN   \n",
       "2017-01               1.0  0.002928       NaN  0.005857  0.001464  0.001464   \n",
       "2017-02               1.0  0.001241  0.001861  0.003722  0.002481  0.001241   \n",
       "2017-03               1.0  0.002788  0.004779  0.004381  0.001195  0.000796   \n",
       "2017-04               1.0  0.003584  0.002688       NaN  0.002688  0.003584   \n",
       "2017-05               1.0  0.004054  0.004054  0.002606  0.003765  0.003186   \n",
       "2017-06               1.0  0.004271  0.004928  0.003614  0.001643  0.005256   \n",
       "2017-07               1.0  0.003505  0.002157  0.002696  0.003235  0.001887   \n",
       "2017-08               1.0  0.006616  0.002695  0.003431  0.003921  0.004411   \n",
       "2017-09               1.0  0.005217  0.004720  0.003230  0.003478  0.002484   \n",
       "2017-10               1.0  0.006288  0.000932  0.001164  0.003027  0.001630   \n",
       "2017-11               1.0  0.003320  0.002743  0.001732  0.001444  0.001877   \n",
       "2017-12               1.0  0.002732  0.003461  0.001639  0.002914  0.001639   \n",
       "2018-01               1.0  0.003545  0.003250  0.003840  0.001477  0.001920   \n",
       "2018-02               1.0  0.003191  0.003510  0.002712  0.001914  0.001914   \n",
       "2018-03               1.0  0.003941  0.001606  0.002335  0.001752  0.000584   \n",
       "2018-04               1.0  0.004667  0.001400  0.002334  0.001089       NaN   \n",
       "2018-05               1.0  0.003138  0.003138  0.000747       NaN       NaN   \n",
       "2018-06               1.0  0.003404  0.001021       NaN       NaN       NaN   \n",
       "2018-07               1.0  0.001197       NaN       NaN       NaN       NaN   \n",
       "2018-08               1.0       NaN       NaN       NaN       NaN       NaN   \n",
       "\n",
       "period_number_month      6.0       7.0       8.0       9.0   ...      11.0  \\\n",
       "cohort_month                                                 ...             \n",
       "2016-09                   NaN       NaN       NaN       NaN  ...       NaN   \n",
       "2016-10              0.003817       NaN       NaN  0.003817  ...  0.003817   \n",
       "2016-12                   NaN       NaN       NaN       NaN  ...       NaN   \n",
       "2017-01              0.002928  0.002928       NaN       NaN  ...  0.005857   \n",
       "2017-02              0.002481  0.000620  0.000620  0.002481  ...  0.003722   \n",
       "2017-03              0.003186  0.001991  0.002389  0.002389  ...  0.001593   \n",
       "2017-04              0.002688  0.004480  0.002240  0.002240  ...  0.001344   \n",
       "2017-05              0.003186  0.001448  0.003186  0.002606  ...  0.002896   \n",
       "2017-06              0.002628  0.001971  0.001314  0.002957  ...  0.003285   \n",
       "2017-07              0.002696  0.001887  0.001078  0.002696  ...  0.002427   \n",
       "2017-08              0.002450  0.002450  0.001470  0.001715  ...  0.001715   \n",
       "2017-09              0.002484  0.001491  0.003478  0.001739  ...  0.000248   \n",
       "2017-10              0.002795  0.003959  0.002562  0.002096  ...       NaN   \n",
       "2017-11              0.001155  0.001877  0.000722  0.000289  ...       NaN   \n",
       "2017-12              0.000911  0.001093  0.000911       NaN  ...       NaN   \n",
       "2018-01              0.002363  0.000886       NaN       NaN  ...       NaN   \n",
       "2018-02              0.001117       NaN       NaN       NaN  ...       NaN   \n",
       "2018-03                   NaN       NaN       NaN       NaN  ...       NaN   \n",
       "2018-04                   NaN       NaN       NaN       NaN  ...       NaN   \n",
       "2018-05                   NaN       NaN       NaN       NaN  ...       NaN   \n",
       "2018-06                   NaN       NaN       NaN       NaN  ...       NaN   \n",
       "2018-07                   NaN       NaN       NaN       NaN  ...       NaN   \n",
       "2018-08                   NaN       NaN       NaN       NaN  ...       NaN   \n",
       "\n",
       "period_number_month      12.0      13.0      14.0      15.0      16.0  \\\n",
       "cohort_month                                                            \n",
       "2016-09                   NaN       NaN       NaN       NaN       NaN   \n",
       "2016-10                   NaN  0.003817       NaN  0.003817       NaN   \n",
       "2016-12                   NaN       NaN       NaN       NaN       NaN   \n",
       "2017-01              0.004392  0.002928       NaN  0.002928  0.002928   \n",
       "2017-02              0.000620  0.001861  0.001241  0.000620  0.000620   \n",
       "2017-03              0.001593  0.001195  0.002389  0.001195  0.001195   \n",
       "2017-04                   NaN  0.000896  0.000896  0.000896  0.000896   \n",
       "2017-05              0.001738  0.000869  0.002027  0.001158       NaN   \n",
       "2017-06              0.000986  0.002957  0.001314       NaN       NaN   \n",
       "2017-07              0.001618  0.001887       NaN       NaN       NaN   \n",
       "2017-08              0.000735       NaN       NaN       NaN       NaN   \n",
       "2017-09                   NaN       NaN       NaN       NaN       NaN   \n",
       "2017-10                   NaN       NaN       NaN       NaN       NaN   \n",
       "2017-11                   NaN       NaN       NaN       NaN       NaN   \n",
       "2017-12                   NaN       NaN       NaN       NaN       NaN   \n",
       "2018-01                   NaN       NaN       NaN       NaN       NaN   \n",
       "2018-02                   NaN       NaN       NaN       NaN       NaN   \n",
       "2018-03                   NaN       NaN       NaN       NaN       NaN   \n",
       "2018-04                   NaN       NaN       NaN       NaN       NaN   \n",
       "2018-05                   NaN       NaN       NaN       NaN       NaN   \n",
       "2018-06                   NaN       NaN       NaN       NaN       NaN   \n",
       "2018-07                   NaN       NaN       NaN       NaN       NaN   \n",
       "2018-08                   NaN       NaN       NaN       NaN       NaN   \n",
       "\n",
       "period_number_month      17.0      19.0      20.0      21.0  \n",
       "cohort_month                                                 \n",
       "2016-09                   NaN       NaN       NaN       NaN  \n",
       "2016-10              0.003817  0.007634  0.003817  0.003817  \n",
       "2016-12                   NaN       NaN       NaN       NaN  \n",
       "2017-01              0.002928  0.001464       NaN       NaN  \n",
       "2017-02              0.001861       NaN       NaN       NaN  \n",
       "2017-03              0.000796       NaN       NaN       NaN  \n",
       "2017-04                   NaN       NaN       NaN       NaN  \n",
       "2017-05                   NaN       NaN       NaN       NaN  \n",
       "2017-06                   NaN       NaN       NaN       NaN  \n",
       "2017-07                   NaN       NaN       NaN       NaN  \n",
       "2017-08                   NaN       NaN       NaN       NaN  \n",
       "2017-09                   NaN       NaN       NaN       NaN  \n",
       "2017-10                   NaN       NaN       NaN       NaN  \n",
       "2017-11                   NaN       NaN       NaN       NaN  \n",
       "2017-12                   NaN       NaN       NaN       NaN  \n",
       "2018-01                   NaN       NaN       NaN       NaN  \n",
       "2018-02                   NaN       NaN       NaN       NaN  \n",
       "2018-03                   NaN       NaN       NaN       NaN  \n",
       "2018-04                   NaN       NaN       NaN       NaN  \n",
       "2018-05                   NaN       NaN       NaN       NaN  \n",
       "2018-06                   NaN       NaN       NaN       NaN  \n",
       "2018-07                   NaN       NaN       NaN       NaN  \n",
       "2018-08                   NaN       NaN       NaN       NaN  \n",
       "\n",
       "[23 rows x 21 columns]"
      ]
     },
     "execution_count": 30,
     "metadata": {},
     "output_type": "execute_result"
    }
   ],
   "source": [
    "retention_matrix"
   ]
  },
  {
   "cell_type": "code",
   "execution_count": null,
   "metadata": {},
   "outputs": [],
   "source": []
  },
  {
   "cell_type": "code",
   "execution_count": 31,
   "metadata": {},
   "outputs": [
    {
     "data": {
      "image/png": "[encoded data removed]",
      "text/plain": [
       "<Figure size 1152x864 with 3 Axes>"
      ]
     },
     "metadata": {},
     "output_type": "display_data"
    }
   ],
   "source": [
    "# Building a heat map for cohort analysis\n",
    "with sns.axes_style(\"white\"):\n",
    "    fig, ax = plt.subplots(1, 2, figsize=(16, 12), sharey=True, gridspec_kw={'width_ratios': [1, 11]})\n",
    "\n",
    "    # Тепловая карта для коэффициентов удержания\n",
    "    sns.heatmap(retention_matrix,\n",
    "                mask=retention_matrix.isnull(),\n",
    "                annot=True,\n",
    "                fmt='.0%',\n",
    "                cmap='RdYlGn',\n",
    "                ax=ax[1])\n",
    "    ax[1].set_title('Monthly Retention', fontsize=16)\n",
    "    ax[1].set(xlabel='№ периода', ylabel='Когорта')\n",
    "\n",
    "    # Тепловая карта для размеров когорт\n",
    "    cohort_size_df = pd.DataFrame(cohort_size).rename(columns={0: 'cohort_size'})\n",
    "    white_cmap = mcolors.ListedColormap(['white'])\n",
    "    sns.heatmap(cohort_size_df,\n",
    "                annot=True,\n",
    "                cbar=False,\n",
    "                fmt='g',\n",
    "                cmap=white_cmap,\n",
    "                ax=ax[0])\n",
    "\n",
    "    fig.tight_layout()\n",
    "    plt.show()"
   ]
  },
  {
   "cell_type": "code",
   "execution_count": null,
   "metadata": {},
   "outputs": [],
   "source": []
  },
  {
   "cell_type": "code",
   "execution_count": 32,
   "metadata": {},
   "outputs": [
    {
     "data": {
      "text/plain": [
       "0.00350498786734969"
      ]
     },
     "execution_count": 32,
     "metadata": {},
     "output_type": "execute_result"
    }
   ],
   "source": [
    "# Remove missing data and extract retention values for the first month (cohort_month = 1)\n",
    "month_1_retention = retention_matrix[1].dropna()\n",
    "\n",
    "# Count median\n",
    "median_month_1_retention = month_1_retention.median()\n",
    "\n",
    "median_month_1_retention"
   ]
  },
  {
   "cell_type": "code",
   "execution_count": null,
   "metadata": {},
   "outputs": [],
   "source": []
  },
  {
   "cell_type": "code",
   "execution_count": 33,
   "metadata": {},
   "outputs": [
    {
     "data": {
      "text/plain": [
       "(Period('2017-01', 'M'), 0.005856515373352855)"
      ]
     },
     "execution_count": 33,
     "metadata": {},
     "output_type": "execute_result"
    }
   ],
   "source": [
    "# Remove missing data and extract retention for the 3rd month (cohort_month = 3)\n",
    "month_3_retention = retention_matrix[3].dropna()\n",
    "\n",
    "# Find the cohort with the maximum value\n",
    "max_retention_value = month_3_retention.max()\n",
    "max_retention_cohort = month_3_retention.idxmax()\n",
    "\n",
    "max_retention_cohort, max_retention_value"
   ]
  },
  {
   "cell_type": "code",
   "execution_count": null,
   "metadata": {},
   "outputs": [],
   "source": []
  },
  {
   "cell_type": "markdown",
   "metadata": {},
   "source": [
    "## **Task 2. Determine whether the marketplace has product/market fit**"
   ]
  },
  {
   "cell_type": "markdown",
   "metadata": {},
   "source": [
    "**Conclusion: Product/Market Fit (PMF) is missing**\n",
    "\n",
    "**Possible reason for the lack of PMF:**\n",
    "\n",
    "- Low engagement after initial contact. Retention for the first month is 0.36%, maximum retention for 3 months is 0.55%. As the retention curve shows, customer return rate drops to zero after the first month and remains at the same level after several months. Thus, the marketplace does not encourage users to return, and users do not choose it to solve their problems on a regular basis.\n",
    "\n",
    "**Possible reasons for low retention:**\n",
    "\n",
    "- One-time purchases: the marketplace probably sells products that do not require frequent repetition (more information about price units is needed).\n",
    "- No benefit for the customer: users do not see a compelling reason to return (insufficient product range, service, or price).\n",
    "\n",
    "**What to focus on (recommendations)**\n",
    "\n",
    "Actively work on repeat orders:\n",
    "- Email/SMS newsletters;\n",
    "- Loyalty programmes, personalised offers, cashback on second purchases;\n",
    "\n",
    "Improve the quality of the first-time experience:\n",
    "- Delivery speed (although on average delivery is faster than expected, 8% of customers experience delivery delays);\n",
    "- Work with customer reviews and support requests."
   ]
  },
  {
   "cell_type": "code",
   "execution_count": 81,
   "metadata": {},
   "outputs": [
    {
     "data": {
      "image/png": "[encoded data removed]",
      "text/plain": [
       "<Figure size 720x360 with 1 Axes>"
      ]
     },
     "metadata": {
      "needs_background": "light"
     },
     "output_type": "display_data"
    }
   ],
   "source": [
    "# retention plot\n",
    "\n",
    "retention_plot = retention_matrix.mean(axis=0) * 100\n",
    "\n",
    "plt.figure(figsize=(10, 5))\n",
    "plt.plot(retention_plot.index, retention_plot.values, marker='o')\n",
    "plt.title('Average monthly retention curve by cohort')\n",
    "plt.xlabel('Month since first purchase (cohort_month)')\n",
    "plt.ylabel('Retention (%)')\n",
    "plt.grid(False)\n",
    "plt.xticks(retention_plot.index)\n",
    "plt.tight_layout()\n",
    "plt.show()"
   ]
  },
  {
   "cell_type": "code",
   "execution_count": null,
   "metadata": {},
   "outputs": [],
   "source": []
  },
  {
   "cell_type": "markdown",
   "metadata": {},
   "source": [
    "Let's look at the possible reasons for low retention and, as a result, the lack of PMF"
   ]
  },
  {
   "cell_type": "code",
   "execution_count": 35,
   "metadata": {},
   "outputs": [],
   "source": [
    "# let's look at the average delivery time\n",
    "\n",
    "orders_items = orders.merge(items, on='order_id')\n",
    "orders_items = orders_items.dropna(subset=['order_delivered_customer_date', 'order_estimated_delivery_date'])\n",
    "orders_items[date_columns] = orders_items[date_columns].apply(pd.to_datetime)\n",
    "orders_items['delivered_vs_estimate'] = (orders_items['order_delivered_customer_date'] - orders_items['order_estimated_delivery_date']).dt.days"
   ]
  },
  {
   "cell_type": "code",
   "execution_count": 36,
   "metadata": {},
   "outputs": [
    {
     "data": {
      "text/plain": [
       "-12.030200733238956"
      ]
     },
     "execution_count": 36,
     "metadata": {},
     "output_type": "execute_result"
    }
   ],
   "source": [
    "# On average, delivery was earlier than expected, which is unlikely to be the reason for low retention\n",
    "# orders_items.delivered_vs_estimate.max()\n",
    "# orders_items.delivered_vs_estimate.min()\n",
    "\n",
    "orders_items.delivered_vs_estimate.mean()"
   ]
  },
  {
   "cell_type": "code",
   "execution_count": 37,
   "metadata": {},
   "outputs": [
    {
     "data": {
      "text/plain": [
       "7.530838602674407"
      ]
     },
     "execution_count": 37,
     "metadata": {},
     "output_type": "execute_result"
    }
   ],
   "source": [
    "# Let's see how many delivery delays there were: 8% is already a potential risk for customer satisfaction\n",
    "\n",
    "delayed = orders_items[orders_items['delivered_vs_estimate'] > 0].shape[0]\n",
    "delivered_all = orders_items[orders_items[\"order_status\"] == \"delivered\"].order_id.nunique()\n",
    "delayed_percentage = delayed / delivered_all * 100\n",
    "delayed_percentage"
   ]
  },
  {
   "cell_type": "code",
   "execution_count": null,
   "metadata": {},
   "outputs": [],
   "source": []
  },
  {
   "cell_type": "code",
   "execution_count": 38,
   "metadata": {},
   "outputs": [
    {
     "data": {
      "text/plain": [
       "count    110196.000000\n",
       "mean        119.976180\n",
       "std         182.299915\n",
       "min           0.850000\n",
       "25%          39.900000\n",
       "50%          74.900000\n",
       "75%         134.170000\n",
       "max        6735.000000\n",
       "Name: price, dtype: float64"
      ]
     },
     "execution_count": 38,
     "metadata": {},
     "output_type": "execute_result"
    }
   ],
   "source": [
    "# Let's look at the availability of goods for customers\n",
    "# Unfortunately, there is no information about the units of measurement\n",
    "# If the price is indicated in dollars, the average price of goods at $120 may indicate that the product is expensive\n",
    "# which, in turn, may be the reason for one-time purchases\n",
    "\n",
    "price_summary = orders_items['price'].describe()\n",
    "price_summary"
   ]
  },
  {
   "cell_type": "code",
   "execution_count": null,
   "metadata": {},
   "outputs": [],
   "source": []
  },
  {
   "cell_type": "code",
   "execution_count": 39,
   "metadata": {},
   "outputs": [
    {
     "data": {
      "text/plain": [
       "delivered    110189\n",
       "canceled          7\n",
       "Name: order_status, dtype: int64"
      ]
     },
     "execution_count": 39,
     "metadata": {},
     "output_type": "execute_result"
    }
   ],
   "source": [
    "# Let's see how order cancellations could have affected low retention\n",
    "\n",
    "orders_items['order_status'].value_counts()"
   ]
  },
  {
   "cell_type": "code",
   "execution_count": 40,
   "metadata": {},
   "outputs": [
    {
     "data": {
      "text/plain": [
       "0.006219163315222431"
      ]
     },
     "execution_count": 40,
     "metadata": {},
     "output_type": "execute_result"
    }
   ],
   "source": [
    "# Approximately 2% are cancelled orders, orders being processed and other orders that have not yet been delivered\n",
    "# Thus, cancellations are not a key reason for low returns\n",
    "\n",
    "delivered_all = orders_items[orders_items[\"order_status\"] == \"delivered\"].order_id.nunique()\n",
    "all_orders = orders_items.order_id.nunique()\n",
    "100 - delivered_all / all_orders * 100"
   ]
  },
  {
   "cell_type": "code",
   "execution_count": null,
   "metadata": {},
   "outputs": [],
   "source": []
  },
  {
   "cell_type": "markdown",
   "metadata": {},
   "source": [
    "## **Task 3. Identify 5 key metrics that the product can focus on to maximise the company's profits**"
   ]
  },
  {
   "cell_type": "markdown",
   "metadata": {},
   "source": [
    "- The first metric should reflect the growth in marketplace sales volume.\n",
    "- The second should show the audience size to which the product delivers value.\n",
    "- The third should reflect new customers' interest in the product.\n",
    "- The fourth should reflect customer engagement in continuing to use the product.\n",
    "- The fifth should reflect the monetary value of customer engagement."
   ]
  },
  {
   "cell_type": "markdown",
   "metadata": {},
   "source": [
    "**Metric 1: GMV (Gross Merchandise Value).**\n",
    "\n",
    "This metric is a financial metric because it measures the economic efficiency of a business and reflects the total sales of a marketplace over a specific period of time (in our case, per month)."
   ]
  },
  {
   "cell_type": "code",
   "execution_count": 41,
   "metadata": {},
   "outputs": [],
   "source": [
    "#create a column with the month of order payment confirmation and combine all three data frames\n",
    "customer_order = customer_order.dropna(subset=['order_approved_at']) # get rid of cancelled orders\n",
    "customer_order['order_month'] = customer_order['order_approved_at'].dt.to_period('M')\n",
    "orders_full = pd.merge(customer_order, items, on='order_id', how='inner')"
   ]
  },
  {
   "cell_type": "code",
   "execution_count": 42,
   "metadata": {
    "scrolled": true
   },
   "outputs": [
    {
     "data": {
      "text/html": [
       "<div>\n",
       "<style scoped>\n",
       "    .dataframe tbody tr th:only-of-type {\n",
       "        vertical-align: middle;\n",
       "    }\n",
       "\n",
       "    .dataframe tbody tr th {\n",
       "        vertical-align: top;\n",
       "    }\n",
       "\n",
       "    .dataframe thead th {\n",
       "        text-align: right;\n",
       "    }\n",
       "</style>\n",
       "<table border=\"1\" class=\"dataframe\">\n",
       "  <thead>\n",
       "    <tr style=\"text-align: right;\">\n",
       "      <th></th>\n",
       "      <th>customer_id</th>\n",
       "      <th>customer_unique_id</th>\n",
       "      <th>customer_zip_code_prefix</th>\n",
       "      <th>customer_city</th>\n",
       "      <th>customer_state</th>\n",
       "      <th>order_id</th>\n",
       "      <th>order_status</th>\n",
       "      <th>order_purchase_timestamp</th>\n",
       "      <th>order_approved_at</th>\n",
       "      <th>order_delivered_carrier_date</th>\n",
       "      <th>order_delivered_customer_date</th>\n",
       "      <th>order_estimated_delivery_date</th>\n",
       "      <th>order_month</th>\n",
       "      <th>order_item_id</th>\n",
       "      <th>product_id</th>\n",
       "      <th>seller_id</th>\n",
       "      <th>shipping_limit_date</th>\n",
       "      <th>price</th>\n",
       "      <th>freight_value</th>\n",
       "    </tr>\n",
       "  </thead>\n",
       "  <tbody>\n",
       "    <tr>\n",
       "      <th>0</th>\n",
       "      <td>06b8999e2fba1a1fbc88172c00ba8bc7</td>\n",
       "      <td>861eff4711a542e4b93843c6dd7febb0</td>\n",
       "      <td>14409</td>\n",
       "      <td>franca</td>\n",
       "      <td>SP</td>\n",
       "      <td>00e7ee1b050b8499577073aeb2a297a1</td>\n",
       "      <td>delivered</td>\n",
       "      <td>2017-05-16 15:05:35</td>\n",
       "      <td>2017-05-16 15:22:12</td>\n",
       "      <td>2017-05-23 10:47:57</td>\n",
       "      <td>2017-05-25 10:35:35</td>\n",
       "      <td>2017-06-05</td>\n",
       "      <td>2017-05</td>\n",
       "      <td>1</td>\n",
       "      <td>a9516a079e37a9c9c36b9b78b10169e8</td>\n",
       "      <td>7c67e1448b00f6e969d365cea6b010ab</td>\n",
       "      <td>2017-05-22 15:22:12</td>\n",
       "      <td>124.99</td>\n",
       "      <td>21.88</td>\n",
       "    </tr>\n",
       "    <tr>\n",
       "      <th>1</th>\n",
       "      <td>18955e83d337fd6b2def6b18a428ac77</td>\n",
       "      <td>290c77bc529b7ac935b93aa66c333dc3</td>\n",
       "      <td>9790</td>\n",
       "      <td>sao bernardo do campo</td>\n",
       "      <td>SP</td>\n",
       "      <td>29150127e6685892b6eab3eec79f59c7</td>\n",
       "      <td>delivered</td>\n",
       "      <td>2018-01-12 20:48:24</td>\n",
       "      <td>2018-01-12 20:58:32</td>\n",
       "      <td>2018-01-15 17:14:59</td>\n",
       "      <td>2018-01-29 12:41:19</td>\n",
       "      <td>2018-02-06</td>\n",
       "      <td>2018-01</td>\n",
       "      <td>1</td>\n",
       "      <td>4aa6014eceb682077f9dc4bffebc05b0</td>\n",
       "      <td>b8bc237ba3788b23da09c0f1f3a3288c</td>\n",
       "      <td>2018-01-18 20:58:32</td>\n",
       "      <td>289.00</td>\n",
       "      <td>46.48</td>\n",
       "    </tr>\n",
       "    <tr>\n",
       "      <th>2</th>\n",
       "      <td>4e7b3e00288586ebd08712fdd0374a03</td>\n",
       "      <td>060e732b5b29e8181a18229c7b0b2b5e</td>\n",
       "      <td>1151</td>\n",
       "      <td>sao paulo</td>\n",
       "      <td>SP</td>\n",
       "      <td>b2059ed67ce144a36e2aa97d2c9e9ad2</td>\n",
       "      <td>delivered</td>\n",
       "      <td>2018-05-19 16:07:45</td>\n",
       "      <td>2018-05-20 16:19:10</td>\n",
       "      <td>2018-06-11 14:31:00</td>\n",
       "      <td>2018-06-14 17:58:51</td>\n",
       "      <td>2018-06-13</td>\n",
       "      <td>2018-05</td>\n",
       "      <td>1</td>\n",
       "      <td>bd07b66896d6f1494f5b86251848ced7</td>\n",
       "      <td>7c67e1448b00f6e969d365cea6b010ab</td>\n",
       "      <td>2018-06-05 16:19:10</td>\n",
       "      <td>139.94</td>\n",
       "      <td>17.79</td>\n",
       "    </tr>\n",
       "    <tr>\n",
       "      <th>3</th>\n",
       "      <td>b2b6027bc5c5109e529d4dc6358b12c3</td>\n",
       "      <td>259dac757896d24d7702b9acbbff3f3c</td>\n",
       "      <td>8775</td>\n",
       "      <td>mogi das cruzes</td>\n",
       "      <td>SP</td>\n",
       "      <td>951670f92359f4fe4a63112aa7306eba</td>\n",
       "      <td>delivered</td>\n",
       "      <td>2018-03-13 16:06:38</td>\n",
       "      <td>2018-03-13 17:29:19</td>\n",
       "      <td>2018-03-27 23:22:42</td>\n",
       "      <td>2018-03-28 16:04:25</td>\n",
       "      <td>2018-04-10</td>\n",
       "      <td>2018-03</td>\n",
       "      <td>1</td>\n",
       "      <td>a5647c44af977b148e0a3a4751a09e2e</td>\n",
       "      <td>7c67e1448b00f6e969d365cea6b010ab</td>\n",
       "      <td>2018-03-27 16:31:16</td>\n",
       "      <td>149.94</td>\n",
       "      <td>23.36</td>\n",
       "    </tr>\n",
       "    <tr>\n",
       "      <th>4</th>\n",
       "      <td>4f2d8ab171c80ec8364f7c12e35b23ad</td>\n",
       "      <td>345ecd01c38d18a9036ed96c73b8d066</td>\n",
       "      <td>13056</td>\n",
       "      <td>campinas</td>\n",
       "      <td>SP</td>\n",
       "      <td>6b7d50bd145f6fc7f33cebabd7e49d0f</td>\n",
       "      <td>delivered</td>\n",
       "      <td>2018-07-29 09:51:30</td>\n",
       "      <td>2018-07-29 10:10:09</td>\n",
       "      <td>2018-07-30 15:16:00</td>\n",
       "      <td>2018-08-09 20:55:48</td>\n",
       "      <td>2018-08-15</td>\n",
       "      <td>2018-07</td>\n",
       "      <td>1</td>\n",
       "      <td>9391a573abe00141c56e38d84d7d5b3b</td>\n",
       "      <td>4a3ca9315b744ce9f8e9374361493884</td>\n",
       "      <td>2018-07-31 10:10:09</td>\n",
       "      <td>230.00</td>\n",
       "      <td>22.25</td>\n",
       "    </tr>\n",
       "  </tbody>\n",
       "</table>\n",
       "</div>"
      ],
      "text/plain": [
       "                        customer_id                customer_unique_id  \\\n",
       "0  06b8999e2fba1a1fbc88172c00ba8bc7  861eff4711a542e4b93843c6dd7febb0   \n",
       "1  18955e83d337fd6b2def6b18a428ac77  290c77bc529b7ac935b93aa66c333dc3   \n",
       "2  4e7b3e00288586ebd08712fdd0374a03  060e732b5b29e8181a18229c7b0b2b5e   \n",
       "3  b2b6027bc5c5109e529d4dc6358b12c3  259dac757896d24d7702b9acbbff3f3c   \n",
       "4  4f2d8ab171c80ec8364f7c12e35b23ad  345ecd01c38d18a9036ed96c73b8d066   \n",
       "\n",
       "   customer_zip_code_prefix          customer_city customer_state  \\\n",
       "0                     14409                 franca             SP   \n",
       "1                      9790  sao bernardo do campo             SP   \n",
       "2                      1151              sao paulo             SP   \n",
       "3                      8775        mogi das cruzes             SP   \n",
       "4                     13056               campinas             SP   \n",
       "\n",
       "                           order_id order_status order_purchase_timestamp  \\\n",
       "0  00e7ee1b050b8499577073aeb2a297a1    delivered      2017-05-16 15:05:35   \n",
       "1  29150127e6685892b6eab3eec79f59c7    delivered      2018-01-12 20:48:24   \n",
       "2  b2059ed67ce144a36e2aa97d2c9e9ad2    delivered      2018-05-19 16:07:45   \n",
       "3  951670f92359f4fe4a63112aa7306eba    delivered      2018-03-13 16:06:38   \n",
       "4  6b7d50bd145f6fc7f33cebabd7e49d0f    delivered      2018-07-29 09:51:30   \n",
       "\n",
       "    order_approved_at order_delivered_carrier_date  \\\n",
       "0 2017-05-16 15:22:12          2017-05-23 10:47:57   \n",
       "1 2018-01-12 20:58:32          2018-01-15 17:14:59   \n",
       "2 2018-05-20 16:19:10          2018-06-11 14:31:00   \n",
       "3 2018-03-13 17:29:19          2018-03-27 23:22:42   \n",
       "4 2018-07-29 10:10:09          2018-07-30 15:16:00   \n",
       "\n",
       "  order_delivered_customer_date order_estimated_delivery_date order_month  \\\n",
       "0           2017-05-25 10:35:35                    2017-06-05     2017-05   \n",
       "1           2018-01-29 12:41:19                    2018-02-06     2018-01   \n",
       "2           2018-06-14 17:58:51                    2018-06-13     2018-05   \n",
       "3           2018-03-28 16:04:25                    2018-04-10     2018-03   \n",
       "4           2018-08-09 20:55:48                    2018-08-15     2018-07   \n",
       "\n",
       "   order_item_id                        product_id  \\\n",
       "0              1  a9516a079e37a9c9c36b9b78b10169e8   \n",
       "1              1  4aa6014eceb682077f9dc4bffebc05b0   \n",
       "2              1  bd07b66896d6f1494f5b86251848ced7   \n",
       "3              1  a5647c44af977b148e0a3a4751a09e2e   \n",
       "4              1  9391a573abe00141c56e38d84d7d5b3b   \n",
       "\n",
       "                          seller_id  shipping_limit_date   price  \\\n",
       "0  7c67e1448b00f6e969d365cea6b010ab  2017-05-22 15:22:12  124.99   \n",
       "1  b8bc237ba3788b23da09c0f1f3a3288c  2018-01-18 20:58:32  289.00   \n",
       "2  7c67e1448b00f6e969d365cea6b010ab  2018-06-05 16:19:10  139.94   \n",
       "3  7c67e1448b00f6e969d365cea6b010ab  2018-03-27 16:31:16  149.94   \n",
       "4  4a3ca9315b744ce9f8e9374361493884  2018-07-31 10:10:09  230.00   \n",
       "\n",
       "   freight_value  \n",
       "0          21.88  \n",
       "1          46.48  \n",
       "2          17.79  \n",
       "3          23.36  \n",
       "4          22.25  "
      ]
     },
     "execution_count": 42,
     "metadata": {},
     "output_type": "execute_result"
    }
   ],
   "source": [
    "orders_full.head()"
   ]
  },
  {
   "cell_type": "code",
   "execution_count": null,
   "metadata": {},
   "outputs": [],
   "source": []
  },
  {
   "cell_type": "code",
   "execution_count": 43,
   "metadata": {},
   "outputs": [
    {
     "data": {
      "text/html": [
       "<div>\n",
       "<style scoped>\n",
       "    .dataframe tbody tr th:only-of-type {\n",
       "        vertical-align: middle;\n",
       "    }\n",
       "\n",
       "    .dataframe tbody tr th {\n",
       "        vertical-align: top;\n",
       "    }\n",
       "\n",
       "    .dataframe thead th {\n",
       "        text-align: right;\n",
       "    }\n",
       "</style>\n",
       "<table border=\"1\" class=\"dataframe\">\n",
       "  <thead>\n",
       "    <tr style=\"text-align: right;\">\n",
       "      <th></th>\n",
       "      <th>price</th>\n",
       "    </tr>\n",
       "    <tr>\n",
       "      <th>order_month</th>\n",
       "      <th></th>\n",
       "    </tr>\n",
       "  </thead>\n",
       "  <tbody>\n",
       "    <tr>\n",
       "      <th>2016-09</th>\n",
       "      <td>134.97</td>\n",
       "    </tr>\n",
       "    <tr>\n",
       "      <th>2016-10</th>\n",
       "      <td>49640.05</td>\n",
       "    </tr>\n",
       "    <tr>\n",
       "      <th>2016-12</th>\n",
       "      <td>10.90</td>\n",
       "    </tr>\n",
       "    <tr>\n",
       "      <th>2017-01</th>\n",
       "      <td>114860.71</td>\n",
       "    </tr>\n",
       "    <tr>\n",
       "      <th>2017-02</th>\n",
       "      <td>247441.08</td>\n",
       "    </tr>\n",
       "    <tr>\n",
       "      <th>2017-03</th>\n",
       "      <td>370611.56</td>\n",
       "    </tr>\n",
       "    <tr>\n",
       "      <th>2017-04</th>\n",
       "      <td>357638.73</td>\n",
       "    </tr>\n",
       "    <tr>\n",
       "      <th>2017-05</th>\n",
       "      <td>507167.89</td>\n",
       "    </tr>\n",
       "    <tr>\n",
       "      <th>2017-06</th>\n",
       "      <td>437278.58</td>\n",
       "    </tr>\n",
       "    <tr>\n",
       "      <th>2017-07</th>\n",
       "      <td>492766.06</td>\n",
       "    </tr>\n",
       "    <tr>\n",
       "      <th>2017-08</th>\n",
       "      <td>572941.33</td>\n",
       "    </tr>\n",
       "    <tr>\n",
       "      <th>2017-09</th>\n",
       "      <td>614919.86</td>\n",
       "    </tr>\n",
       "    <tr>\n",
       "      <th>2017-10</th>\n",
       "      <td>669892.64</td>\n",
       "    </tr>\n",
       "    <tr>\n",
       "      <th>2017-11</th>\n",
       "      <td>994849.49</td>\n",
       "    </tr>\n",
       "    <tr>\n",
       "      <th>2017-12</th>\n",
       "      <td>765532.36</td>\n",
       "    </tr>\n",
       "    <tr>\n",
       "      <th>2018-01</th>\n",
       "      <td>942892.57</td>\n",
       "    </tr>\n",
       "    <tr>\n",
       "      <th>2018-02</th>\n",
       "      <td>837163.28</td>\n",
       "    </tr>\n",
       "    <tr>\n",
       "      <th>2018-03</th>\n",
       "      <td>992982.10</td>\n",
       "    </tr>\n",
       "    <tr>\n",
       "      <th>2018-04</th>\n",
       "      <td>976849.80</td>\n",
       "    </tr>\n",
       "    <tr>\n",
       "      <th>2018-05</th>\n",
       "      <td>1018473.97</td>\n",
       "    </tr>\n",
       "    <tr>\n",
       "      <th>2018-06</th>\n",
       "      <td>869520.24</td>\n",
       "    </tr>\n",
       "    <tr>\n",
       "      <th>2018-07</th>\n",
       "      <td>877272.97</td>\n",
       "    </tr>\n",
       "    <tr>\n",
       "      <th>2018-08</th>\n",
       "      <td>878987.13</td>\n",
       "    </tr>\n",
       "    <tr>\n",
       "      <th>2018-09</th>\n",
       "      <td>145.00</td>\n",
       "    </tr>\n",
       "  </tbody>\n",
       "</table>\n",
       "</div>"
      ],
      "text/plain": [
       "                  price\n",
       "order_month            \n",
       "2016-09          134.97\n",
       "2016-10        49640.05\n",
       "2016-12           10.90\n",
       "2017-01       114860.71\n",
       "2017-02       247441.08\n",
       "2017-03       370611.56\n",
       "2017-04       357638.73\n",
       "2017-05       507167.89\n",
       "2017-06       437278.58\n",
       "2017-07       492766.06\n",
       "2017-08       572941.33\n",
       "2017-09       614919.86\n",
       "2017-10       669892.64\n",
       "2017-11       994849.49\n",
       "2017-12       765532.36\n",
       "2018-01       942892.57\n",
       "2018-02       837163.28\n",
       "2018-03       992982.10\n",
       "2018-04       976849.80\n",
       "2018-05      1018473.97\n",
       "2018-06       869520.24\n",
       "2018-07       877272.97\n",
       "2018-08       878987.13\n",
       "2018-09          145.00"
      ]
     },
     "execution_count": 43,
     "metadata": {},
     "output_type": "execute_result"
    }
   ],
   "source": [
    "# Count GMV\n",
    "gmv = orders_full.groupby('order_month').agg({'price' : 'sum'})\n",
    "gmv"
   ]
  },
  {
   "cell_type": "code",
   "execution_count": 44,
   "metadata": {},
   "outputs": [
    {
     "data": {
      "image/png": "[encoded data removed]",
      "text/plain": [
       "<Figure size 1008x720 with 1 Axes>"
      ]
     },
     "metadata": {
      "needs_background": "light"
     },
     "output_type": "display_data"
    }
   ],
   "source": [
    "plt.figure(figsize=(14, 10))\n",
    "plt.plot(gmv.index.astype(str), gmv.values, marker='o')\n",
    "plt.title('GMV — Gross Merchandise Value')\n",
    "plt.xticks(rotation=45)\n",
    "plt.grid(False)"
   ]
  },
  {
   "cell_type": "code",
   "execution_count": null,
   "metadata": {},
   "outputs": [],
   "source": []
  },
  {
   "cell_type": "markdown",
   "metadata": {},
   "source": [
    "**Metric 2: MAU (number of unique users placing orders per month).**\n",
    "\n",
    "This metric is a customer operations metric because it shows how customers interact with the product."
   ]
  },
  {
   "cell_type": "code",
   "execution_count": 45,
   "metadata": {},
   "outputs": [
    {
     "data": {
      "text/html": [
       "<div>\n",
       "<style scoped>\n",
       "    .dataframe tbody tr th:only-of-type {\n",
       "        vertical-align: middle;\n",
       "    }\n",
       "\n",
       "    .dataframe tbody tr th {\n",
       "        vertical-align: top;\n",
       "    }\n",
       "\n",
       "    .dataframe thead th {\n",
       "        text-align: right;\n",
       "    }\n",
       "</style>\n",
       "<table border=\"1\" class=\"dataframe\">\n",
       "  <thead>\n",
       "    <tr style=\"text-align: right;\">\n",
       "      <th></th>\n",
       "      <th>customer_unique_id</th>\n",
       "    </tr>\n",
       "    <tr>\n",
       "      <th>order_month</th>\n",
       "      <th></th>\n",
       "    </tr>\n",
       "  </thead>\n",
       "  <tbody>\n",
       "    <tr>\n",
       "      <th>2016-09</th>\n",
       "      <td>1</td>\n",
       "    </tr>\n",
       "    <tr>\n",
       "      <th>2016-10</th>\n",
       "      <td>317</td>\n",
       "    </tr>\n",
       "    <tr>\n",
       "      <th>2016-12</th>\n",
       "      <td>1</td>\n",
       "    </tr>\n",
       "    <tr>\n",
       "      <th>2017-01</th>\n",
       "      <td>727</td>\n",
       "    </tr>\n",
       "    <tr>\n",
       "      <th>2017-02</th>\n",
       "      <td>1740</td>\n",
       "    </tr>\n",
       "    <tr>\n",
       "      <th>2017-03</th>\n",
       "      <td>2649</td>\n",
       "    </tr>\n",
       "    <tr>\n",
       "      <th>2017-04</th>\n",
       "      <td>2342</td>\n",
       "    </tr>\n",
       "    <tr>\n",
       "      <th>2017-05</th>\n",
       "      <td>3621</td>\n",
       "    </tr>\n",
       "    <tr>\n",
       "      <th>2017-06</th>\n",
       "      <td>3189</td>\n",
       "    </tr>\n",
       "    <tr>\n",
       "      <th>2017-07</th>\n",
       "      <td>3896</td>\n",
       "    </tr>\n",
       "    <tr>\n",
       "      <th>2017-08</th>\n",
       "      <td>4265</td>\n",
       "    </tr>\n",
       "    <tr>\n",
       "      <th>2017-09</th>\n",
       "      <td>4228</td>\n",
       "    </tr>\n",
       "    <tr>\n",
       "      <th>2017-10</th>\n",
       "      <td>4521</td>\n",
       "    </tr>\n",
       "    <tr>\n",
       "      <th>2017-11</th>\n",
       "      <td>7284</td>\n",
       "    </tr>\n",
       "    <tr>\n",
       "      <th>2017-12</th>\n",
       "      <td>5760</td>\n",
       "    </tr>\n",
       "    <tr>\n",
       "      <th>2018-01</th>\n",
       "      <td>7089</td>\n",
       "    </tr>\n",
       "    <tr>\n",
       "      <th>2018-02</th>\n",
       "      <td>6547</td>\n",
       "    </tr>\n",
       "    <tr>\n",
       "      <th>2018-03</th>\n",
       "      <td>7190</td>\n",
       "    </tr>\n",
       "    <tr>\n",
       "      <th>2018-04</th>\n",
       "      <td>6722</td>\n",
       "    </tr>\n",
       "    <tr>\n",
       "      <th>2018-05</th>\n",
       "      <td>7007</td>\n",
       "    </tr>\n",
       "    <tr>\n",
       "      <th>2018-06</th>\n",
       "      <td>6126</td>\n",
       "    </tr>\n",
       "    <tr>\n",
       "      <th>2018-07</th>\n",
       "      <td>6114</td>\n",
       "    </tr>\n",
       "    <tr>\n",
       "      <th>2018-08</th>\n",
       "      <td>6575</td>\n",
       "    </tr>\n",
       "    <tr>\n",
       "      <th>2018-09</th>\n",
       "      <td>1</td>\n",
       "    </tr>\n",
       "  </tbody>\n",
       "</table>\n",
       "</div>"
      ],
      "text/plain": [
       "             customer_unique_id\n",
       "order_month                    \n",
       "2016-09                       1\n",
       "2016-10                     317\n",
       "2016-12                       1\n",
       "2017-01                     727\n",
       "2017-02                    1740\n",
       "2017-03                    2649\n",
       "2017-04                    2342\n",
       "2017-05                    3621\n",
       "2017-06                    3189\n",
       "2017-07                    3896\n",
       "2017-08                    4265\n",
       "2017-09                    4228\n",
       "2017-10                    4521\n",
       "2017-11                    7284\n",
       "2017-12                    5760\n",
       "2018-01                    7089\n",
       "2018-02                    6547\n",
       "2018-03                    7190\n",
       "2018-04                    6722\n",
       "2018-05                    7007\n",
       "2018-06                    6126\n",
       "2018-07                    6114\n",
       "2018-08                    6575\n",
       "2018-09                       1"
      ]
     },
     "execution_count": 45,
     "metadata": {},
     "output_type": "execute_result"
    }
   ],
   "source": [
    "# Count MAU\n",
    "mau = customer_order.groupby('order_month').agg({'customer_unique_id' : 'nunique'})\n",
    "mau"
   ]
  },
  {
   "cell_type": "code",
   "execution_count": 46,
   "metadata": {},
   "outputs": [
    {
     "data": {
      "image/png": "[encoded data removed]",
      "text/plain": [
       "<Figure size 1008x720 with 1 Axes>"
      ]
     },
     "metadata": {
      "needs_background": "light"
     },
     "output_type": "display_data"
    }
   ],
   "source": [
    "plt.figure(figsize=(14, 10))\n",
    "plt.plot(mau.index.astype(str), mau.values, marker='o', color='green')\n",
    "plt.title('MAU — Unique active users')\n",
    "plt.ylabel('Number of users')\n",
    "plt.xticks(rotation=45)\n",
    "plt.grid(False)"
   ]
  },
  {
   "cell_type": "code",
   "execution_count": null,
   "metadata": {},
   "outputs": [],
   "source": []
  },
  {
   "cell_type": "markdown",
   "metadata": {},
   "source": [
    "**Metric 3: Median time to first order confirmation**\n",
    "\n",
    "This metric is a product metric because it shows the product's ability to attract new users. The metric shows how much time passes between the creation and payment of the first order.\n",
    "\n",
    "**Alternative metric: conversion of new users to buyers**"
   ]
  },
  {
   "cell_type": "code",
   "execution_count": 47,
   "metadata": {},
   "outputs": [],
   "source": [
    "# Calculation of time from order creation to order confirmation\n",
    "customer_order['decision_time'] = (customer_order['order_approved_at'] - customer_order['order_purchase_timestamp'])\\\n",
    "     .dt.total_seconds() / 3600 # in hours\n",
    "\n",
    "# Let's only keep the first orders from customers\n",
    "first_orders = customer_order.sort_values(by='order_approved_at').drop_duplicates(subset='customer_unique_id', keep='first')\n",
    "\n",
    "# Group order confirmation times by the month of the first order\n",
    "first_orders['order_month'] = first_orders['order_approved_at'].dt.to_period('M')\n",
    "decision_time_by_month = first_orders.groupby('order_month')['decision_time'].median()"
   ]
  },
  {
   "cell_type": "code",
   "execution_count": null,
   "metadata": {},
   "outputs": [],
   "source": []
  },
  {
   "cell_type": "code",
   "execution_count": 48,
   "metadata": {},
   "outputs": [
    {
     "data": {
      "text/plain": [
       "order_month\n",
       "2016-09     0.000000\n",
       "2016-10    14.104722\n",
       "2016-12     0.247222\n",
       "2017-01     0.259444\n",
       "2017-02     0.226389\n",
       "2017-03     0.129722\n",
       "2017-04     0.238333\n",
       "2017-05     0.239167\n",
       "2017-06     0.251111\n",
       "2017-07     0.252222\n",
       "2017-08     0.324722\n",
       "2017-09     0.269306\n",
       "2017-10     0.315278\n",
       "2017-11     0.389444\n",
       "2017-12     0.366806\n",
       "2018-01     0.317500\n",
       "2018-02     0.364167\n",
       "2018-03     0.344861\n",
       "2018-04     0.433889\n",
       "2018-05     0.469167\n",
       "2018-06     0.442778\n",
       "2018-07     0.490972\n",
       "2018-08     0.287500\n",
       "Freq: M, Name: decision_time, dtype: float64"
      ]
     },
     "execution_count": 48,
     "metadata": {},
     "output_type": "execute_result"
    }
   ],
   "source": [
    "decision_time_by_month\n",
    "# In October 2016, there is a clear anomaly in the order payment confirmation time. \n",
    "# Either the order payment confirmation time is incorrect, or there was a platform failure,\n",
    "# or customers paid upon receipt of the order."
   ]
  },
  {
   "cell_type": "code",
   "execution_count": null,
   "metadata": {},
   "outputs": [],
   "source": []
  },
  {
   "cell_type": "markdown",
   "metadata": {},
   "source": [
    "**Metric 4: Number of customers who placed more than one order per month.**\n",
    "\n",
    "This metric is a product metric that shows customer engagement."
   ]
  },
  {
   "cell_type": "code",
   "execution_count": 49,
   "metadata": {},
   "outputs": [],
   "source": [
    "repeat_orders = customer_order.groupby(['customer_unique_id', 'order_month'], as_index = False).agg({'order_id' : 'count'})\n",
    "repeat_orders = repeat_orders[repeat_orders['order_id'] > 1]\n",
    "retention_activity = repeat_orders.groupby('order_month').agg({'customer_unique_id' : 'nunique'})"
   ]
  },
  {
   "cell_type": "code",
   "execution_count": 50,
   "metadata": {},
   "outputs": [
    {
     "data": {
      "text/html": [
       "<div>\n",
       "<style scoped>\n",
       "    .dataframe tbody tr th:only-of-type {\n",
       "        vertical-align: middle;\n",
       "    }\n",
       "\n",
       "    .dataframe tbody tr th {\n",
       "        vertical-align: top;\n",
       "    }\n",
       "\n",
       "    .dataframe thead th {\n",
       "        text-align: right;\n",
       "    }\n",
       "</style>\n",
       "<table border=\"1\" class=\"dataframe\">\n",
       "  <thead>\n",
       "    <tr style=\"text-align: right;\">\n",
       "      <th></th>\n",
       "      <th>customer_unique_id</th>\n",
       "    </tr>\n",
       "    <tr>\n",
       "      <th>order_month</th>\n",
       "      <th></th>\n",
       "    </tr>\n",
       "  </thead>\n",
       "  <tbody>\n",
       "    <tr>\n",
       "      <th>2016-10</th>\n",
       "      <td>3</td>\n",
       "    </tr>\n",
       "    <tr>\n",
       "      <th>2017-01</th>\n",
       "      <td>24</td>\n",
       "    </tr>\n",
       "    <tr>\n",
       "      <th>2017-02</th>\n",
       "      <td>22</td>\n",
       "    </tr>\n",
       "    <tr>\n",
       "      <th>2017-03</th>\n",
       "      <td>39</td>\n",
       "    </tr>\n",
       "    <tr>\n",
       "      <th>2017-04</th>\n",
       "      <td>28</td>\n",
       "    </tr>\n",
       "    <tr>\n",
       "      <th>2017-05</th>\n",
       "      <td>70</td>\n",
       "    </tr>\n",
       "    <tr>\n",
       "      <th>2017-06</th>\n",
       "      <td>62</td>\n",
       "    </tr>\n",
       "    <tr>\n",
       "      <th>2017-07</th>\n",
       "      <td>75</td>\n",
       "    </tr>\n",
       "    <tr>\n",
       "      <th>2017-08</th>\n",
       "      <td>77</td>\n",
       "    </tr>\n",
       "    <tr>\n",
       "      <th>2017-09</th>\n",
       "      <td>69</td>\n",
       "    </tr>\n",
       "    <tr>\n",
       "      <th>2017-10</th>\n",
       "      <td>67</td>\n",
       "    </tr>\n",
       "    <tr>\n",
       "      <th>2017-11</th>\n",
       "      <td>106</td>\n",
       "    </tr>\n",
       "    <tr>\n",
       "      <th>2017-12</th>\n",
       "      <td>68</td>\n",
       "    </tr>\n",
       "    <tr>\n",
       "      <th>2018-01</th>\n",
       "      <td>96</td>\n",
       "    </tr>\n",
       "    <tr>\n",
       "      <th>2018-02</th>\n",
       "      <td>150</td>\n",
       "    </tr>\n",
       "    <tr>\n",
       "      <th>2018-03</th>\n",
       "      <td>97</td>\n",
       "    </tr>\n",
       "    <tr>\n",
       "      <th>2018-04</th>\n",
       "      <td>54</td>\n",
       "    </tr>\n",
       "    <tr>\n",
       "      <th>2018-05</th>\n",
       "      <td>56</td>\n",
       "    </tr>\n",
       "    <tr>\n",
       "      <th>2018-06</th>\n",
       "      <td>37</td>\n",
       "    </tr>\n",
       "    <tr>\n",
       "      <th>2018-07</th>\n",
       "      <td>61</td>\n",
       "    </tr>\n",
       "    <tr>\n",
       "      <th>2018-08</th>\n",
       "      <td>42</td>\n",
       "    </tr>\n",
       "  </tbody>\n",
       "</table>\n",
       "</div>"
      ],
      "text/plain": [
       "             customer_unique_id\n",
       "order_month                    \n",
       "2016-10                       3\n",
       "2017-01                      24\n",
       "2017-02                      22\n",
       "2017-03                      39\n",
       "2017-04                      28\n",
       "2017-05                      70\n",
       "2017-06                      62\n",
       "2017-07                      75\n",
       "2017-08                      77\n",
       "2017-09                      69\n",
       "2017-10                      67\n",
       "2017-11                     106\n",
       "2017-12                      68\n",
       "2018-01                      96\n",
       "2018-02                     150\n",
       "2018-03                      97\n",
       "2018-04                      54\n",
       "2018-05                      56\n",
       "2018-06                      37\n",
       "2018-07                      61\n",
       "2018-08                      42"
      ]
     },
     "execution_count": 50,
     "metadata": {},
     "output_type": "execute_result"
    }
   ],
   "source": [
    "retention_activity"
   ]
  },
  {
   "cell_type": "code",
   "execution_count": 51,
   "metadata": {},
   "outputs": [
    {
     "data": {
      "image/png": "[encoded data removed]",
      "text/plain": [
       "<Figure size 1008x720 with 1 Axes>"
      ]
     },
     "metadata": {
      "needs_background": "light"
     },
     "output_type": "display_data"
    }
   ],
   "source": [
    "plt.figure(figsize=(14, 10))\n",
    "plt.plot(retention_activity.index.astype(str), retention_activity.values, marker='o', color='orange')\n",
    "plt.title('Repeat orders per month')\n",
    "plt.ylabel('Unique clients with more than 1 order')\n",
    "plt.xticks(rotation=45)\n",
    "plt.grid(False)"
   ]
  },
  {
   "cell_type": "code",
   "execution_count": null,
   "metadata": {},
   "outputs": [],
   "source": []
  },
  {
   "cell_type": "markdown",
   "metadata": {},
   "source": [
    "**Metric 5: ARPPU (Average Revenue per Paying User) — average revenue per active user.**\n",
    "\n",
    "Financial metric."
   ]
  },
  {
   "cell_type": "code",
   "execution_count": 52,
   "metadata": {},
   "outputs": [
    {
     "data": {
      "text/plain": [
       "order_month\n",
       "2016-09    134.970000\n",
       "2016-10    156.593218\n",
       "2016-12     10.900000\n",
       "2017-01    157.992724\n",
       "2017-02    142.207517\n",
       "2017-03    139.906214\n",
       "2017-04    152.706546\n",
       "2017-05    140.062936\n",
       "2017-06    137.120909\n",
       "2017-07    126.479995\n",
       "2017-08    134.335599\n",
       "2017-09    145.439891\n",
       "2017-10    148.173555\n",
       "2017-11    136.580106\n",
       "2017-12    132.904924\n",
       "2018-01    133.007839\n",
       "2018-02    127.869754\n",
       "2018-03    138.105994\n",
       "2018-04    145.321303\n",
       "2018-05    145.350930\n",
       "2018-06    141.939314\n",
       "2018-07    143.485929\n",
       "2018-08    133.686256\n",
       "2018-09    145.000000\n",
       "Freq: M, dtype: float64"
      ]
     },
     "execution_count": 52,
     "metadata": {},
     "output_type": "execute_result"
    }
   ],
   "source": [
    "# Calculate ARPPU by dividing the total monthly revenue of the marketplace by the number of unique users per month.\n",
    "order_merded = pd.merge(gmv, mau, on = 'order_month', how = 'left')\n",
    "order_merded.rename(columns={\"price\": \"gmv\", 'customer_unique_id' : 'mau'}, inplace=True)\n",
    "\n",
    "arppu = order_merded.gmv / order_merded.mau\n",
    "arppu"
   ]
  },
  {
   "cell_type": "code",
   "execution_count": 82,
   "metadata": {},
   "outputs": [
    {
     "data": {
      "image/png": "[encoded data removed]",
      "text/plain": [
       "<Figure size 1008x720 with 1 Axes>"
      ]
     },
     "metadata": {
      "needs_background": "light"
     },
     "output_type": "display_data"
    }
   ],
   "source": [
    "plt.figure(figsize=(14, 10))\n",
    "plt.plot(arppu.index.astype(str), arppu.values, marker='o', color='purple')\n",
    "plt.title('ARPPU — Average Revenue per Paying User')\n",
    "plt.xticks(rotation=45)\n",
    "plt.grid(False)"
   ]
  },
  {
   "cell_type": "code",
   "execution_count": null,
   "metadata": {},
   "outputs": [],
   "source": []
  },
  {
   "cell_type": "markdown",
   "metadata": {},
   "source": [
    "## Task 4. Select one of the three main hypotheses using the ICE framework.##"
   ]
  },
  {
   "cell_type": "markdown",
   "metadata": {},
   "source": [
    "**Hypothesis 1:** If we fix the bug in the order processing system, customers will not have to deal with order cancellations, which will increase the number of orders delivered. We believe that this will eliminate all cancellations.\n",
    "\n",
    "**Hypothesis 2:** If we reduce the time it takes to ship orders, customers will no longer receive their orders late, which will increase the number of orders due to repeat orders.\n",
    "\n",
    "**Hypothesis 3:** If we create a new payment method that will convert customers into repeat orders, customers will not experience difficulties when placing orders, which will increase the number of orders due to repeat orders.\n",
    "\n",
    "**Conclusion:** Hypothesis 1 receives the highest priority according to the ICE framework."
   ]
  },
  {
   "cell_type": "code",
   "execution_count": 54,
   "metadata": {},
   "outputs": [
    {
     "data": {
      "text/plain": [
       "0.00350498786734969"
      ]
     },
     "execution_count": 54,
     "metadata": {},
     "output_type": "execute_result"
    }
   ],
   "source": [
    "median_month_1_retention # CR in repeated order"
   ]
  },
  {
   "cell_type": "code",
   "execution_count": null,
   "metadata": {},
   "outputs": [],
   "source": []
  },
  {
   "cell_type": "code",
   "execution_count": 55,
   "metadata": {},
   "outputs": [],
   "source": [
    "# Count ICE by Hypothesis 1"
   ]
  },
  {
   "cell_type": "code",
   "execution_count": 56,
   "metadata": {
    "scrolled": true
   },
   "outputs": [
    {
     "data": {
      "text/plain": [
       "order_id                                 object\n",
       "customer_id                              object\n",
       "order_status                             object\n",
       "order_purchase_timestamp         datetime64[ns]\n",
       "order_approved_at                datetime64[ns]\n",
       "order_delivered_carrier_date     datetime64[ns]\n",
       "order_delivered_customer_date    datetime64[ns]\n",
       "order_estimated_delivery_date    datetime64[ns]\n",
       "dtype: object"
      ]
     },
     "execution_count": 56,
     "metadata": {},
     "output_type": "execute_result"
    }
   ],
   "source": [
    "orders[date_columns] = customer_order[date_columns].apply(pd.to_datetime)\n",
    "orders.dtypes"
   ]
  },
  {
   "cell_type": "code",
   "execution_count": 57,
   "metadata": {},
   "outputs": [],
   "source": [
    "# Data pre-processing: filtering the dataset by orders placed after 1 June 2017\n",
    "filtered_orders = orders[orders[\"order_purchase_timestamp\"] >= \"2017-06-01\"]"
   ]
  },
  {
   "cell_type": "code",
   "execution_count": 58,
   "metadata": {},
   "outputs": [],
   "source": [
    "# Let's see how many orders there have been since June 2017, how many of them were delivered, and how many were cancelled.\n",
    "total_orders = filtered_orders[\"order_id\"].nunique()\n",
    "delivered_orders = filtered_orders[filtered_orders[\"order_status\"] == \"delivered\"][\"order_id\"].nunique()\n",
    "canceled_orders_only = filtered_orders[filtered_orders[\"order_status\"] == \"canceled\"][\"order_id\"].nunique()"
   ]
  },
  {
   "cell_type": "code",
   "execution_count": 59,
   "metadata": {},
   "outputs": [
    {
     "data": {
      "text/plain": [
       "87624"
      ]
     },
     "execution_count": 59,
     "metadata": {},
     "output_type": "execute_result"
    }
   ],
   "source": [
    "total_orders"
   ]
  },
  {
   "cell_type": "code",
   "execution_count": 60,
   "metadata": {},
   "outputs": [
    {
     "data": {
      "text/plain": [
       "85013"
      ]
     },
     "execution_count": 60,
     "metadata": {},
     "output_type": "execute_result"
    }
   ],
   "source": [
    "delivered_orders"
   ]
  },
  {
   "cell_type": "code",
   "execution_count": 61,
   "metadata": {
    "scrolled": true
   },
   "outputs": [
    {
     "data": {
      "text/plain": [
       "549"
      ]
     },
     "execution_count": 61,
     "metadata": {},
     "output_type": "execute_result"
    }
   ],
   "source": [
    "canceled_orders_only"
   ]
  },
  {
   "cell_type": "code",
   "execution_count": 62,
   "metadata": {},
   "outputs": [],
   "source": [
    "# Looking at the impact table, the match with 549 is 4.\n",
    "impact1 = 4"
   ]
  },
  {
   "cell_type": "code",
   "execution_count": 63,
   "metadata": {},
   "outputs": [
    {
     "data": {
      "text/plain": [
       "192"
      ]
     },
     "execution_count": 63,
     "metadata": {},
     "output_type": "execute_result"
    }
   ],
   "source": [
    "ICE1 = impact1 * 8 * 6\n",
    "ICE1"
   ]
  },
  {
   "cell_type": "code",
   "execution_count": null,
   "metadata": {},
   "outputs": [],
   "source": []
  },
  {
   "cell_type": "markdown",
   "metadata": {},
   "source": [
    "Alternatively, we can also take repeat orders as impact, since we use this indicator in the other two hypotheses. In this case, the potential impact will be 299, the recalculated impact on the scale will be 3, and the total ICE will be 144, which is still the best indicator of all three hypotheses."
   ]
  },
  {
   "cell_type": "code",
   "execution_count": 64,
   "metadata": {},
   "outputs": [
    {
     "data": {
      "text/plain": [
       "85562"
      ]
     },
     "execution_count": 64,
     "metadata": {},
     "output_type": "execute_result"
    }
   ],
   "source": [
    "# Thus, when fixing the bug, we will be able to get rid of 549 cancellations. If they are all converted to orders, we will get:\n",
    "potential_uplift = delivered_orders + canceled_orders_only\n",
    "potential_uplift"
   ]
  },
  {
   "cell_type": "code",
   "execution_count": 65,
   "metadata": {},
   "outputs": [
    {
     "data": {
      "text/plain": [
       "(299.8937719061742, 3, 144)"
      ]
     },
     "execution_count": 65,
     "metadata": {},
     "output_type": "execute_result"
    }
   ],
   "source": [
    "potential_impact = potential_uplift * median_month_1_retention\n",
    "potential_impact_scaled = 3\n",
    "possible_ICE = 3*8*6\n",
    "\n",
    "potential_impact, potential_impact_scaled, possible_ICE"
   ]
  },
  {
   "cell_type": "code",
   "execution_count": null,
   "metadata": {},
   "outputs": [],
   "source": []
  },
  {
   "cell_type": "code",
   "execution_count": 66,
   "metadata": {},
   "outputs": [],
   "source": [
    "# Calculating ICE according to hypothesis 2"
   ]
  },
  {
   "cell_type": "code",
   "execution_count": 67,
   "metadata": {},
   "outputs": [
    {
     "data": {
      "text/plain": [
       "(85013, 8)"
      ]
     },
     "execution_count": 67,
     "metadata": {},
     "output_type": "execute_result"
    }
   ],
   "source": [
    "delivered_df = filtered_orders[filtered_orders[\"order_status\"] == \"delivered\"]\n",
    "delivered_df.shape"
   ]
  },
  {
   "cell_type": "code",
   "execution_count": 68,
   "metadata": {},
   "outputs": [
    {
     "data": {
      "text/plain": [
       "order_id                            0\n",
       "customer_id                         0\n",
       "order_status                        0\n",
       "order_purchase_timestamp            0\n",
       "order_approved_at                   0\n",
       "order_delivered_carrier_date     1230\n",
       "order_delivered_customer_date    2217\n",
       "order_estimated_delivery_date       0\n",
       "dtype: int64"
      ]
     },
     "execution_count": 68,
     "metadata": {},
     "output_type": "execute_result"
    }
   ],
   "source": [
    "# scanning for na's\n",
    "filtered_orders.isna().sum()"
   ]
  },
  {
   "cell_type": "code",
   "execution_count": 69,
   "metadata": {},
   "outputs": [],
   "source": [
    "# Remove rows with missing values in the required fields\n",
    "delivered_df = delivered_df.dropna(\n",
    "    subset=[\"order_delivered_customer_date\", \"order_estimated_delivery_date\", \"order_delivered_carrier_date\"])"
   ]
  },
  {
   "cell_type": "code",
   "execution_count": null,
   "metadata": {},
   "outputs": [],
   "source": []
  },
  {
   "cell_type": "code",
   "execution_count": 70,
   "metadata": {},
   "outputs": [],
   "source": [
    "# Calculate how much would have been delivered and how much was expected if we reduced the shipping time.\n",
    "delivered_df[\"actual_shipping_duration\"] = (\n",
    "    delivered_df[\"order_delivered_customer_date\"] - delivered_df[\"order_delivered_carrier_date\"]\n",
    ").dt.days\n",
    "\n",
    "delivered_df[\"expected_shipping_duration\"] = (\n",
    "    delivered_df[\"order_estimated_delivery_date\"] - delivered_df[\"order_delivered_carrier_date\"]\n",
    ").dt.days\n",
    "\n",
    "# Orders where actual delivery took longer than expected (delay excluding shipment)\n",
    "delays_due_to_shipping = delivered_df[\n",
    "    delivered_df[\"actual_shipping_duration\"] > delivered_df[\"expected_shipping_duration\"]\n",
    "]\n",
    "\n",
    "# Calculation of the number of delayed orders without taking into account the shipping time\n",
    "shipping_delay_count = delays_due_to_shipping[\"order_id\"].nunique()\n",
    "\n",
    "# total orders delivered\n",
    "delivered_count = delivered_df[\"order_id\"].nunique()"
   ]
  },
  {
   "cell_type": "code",
   "execution_count": 71,
   "metadata": {},
   "outputs": [
    {
     "data": {
      "text/plain": [
       "7.924592063338805"
      ]
     },
     "execution_count": 71,
     "metadata": {},
     "output_type": "execute_result"
    }
   ],
   "source": [
    "# Delivery speeds can potentially be increased by 8%.\n",
    "shipping_delay_count / delivered_count * 100"
   ]
  },
  {
   "cell_type": "code",
   "execution_count": 72,
   "metadata": {},
   "outputs": [
    {
     "data": {
      "text/plain": [
       "267.39552440010783"
      ]
     },
     "execution_count": 72,
     "metadata": {},
     "output_type": "execute_result"
    }
   ],
   "source": [
    "# potential number of customers who received their order on time and placed a repeat order:\n",
    "absolute_uplift = (delivered_count - shipping_delay_count) * median_month_1_retention\n",
    "absolute_uplift"
   ]
  },
  {
   "cell_type": "code",
   "execution_count": 73,
   "metadata": {},
   "outputs": [],
   "source": [
    "# Looking at the impact table, the match with 267 is 3.\n",
    "impact2 = 3"
   ]
  },
  {
   "cell_type": "code",
   "execution_count": 74,
   "metadata": {},
   "outputs": [
    {
     "data": {
      "text/plain": [
       "120"
      ]
     },
     "execution_count": 74,
     "metadata": {},
     "output_type": "execute_result"
    }
   ],
   "source": [
    "ICE2 = impact2 * 10 * 4\n",
    "ICE2"
   ]
  },
  {
   "cell_type": "code",
   "execution_count": null,
   "metadata": {},
   "outputs": [],
   "source": []
  },
  {
   "cell_type": "code",
   "execution_count": 75,
   "metadata": {},
   "outputs": [],
   "source": [
    "# Calculate ICE based on hypothesis 3"
   ]
  },
  {
   "cell_type": "code",
   "execution_count": 76,
   "metadata": {},
   "outputs": [
    {
     "data": {
      "text/html": [
       "<div>\n",
       "<style scoped>\n",
       "    .dataframe tbody tr th:only-of-type {\n",
       "        vertical-align: middle;\n",
       "    }\n",
       "\n",
       "    .dataframe tbody tr th {\n",
       "        vertical-align: top;\n",
       "    }\n",
       "\n",
       "    .dataframe thead th {\n",
       "        text-align: right;\n",
       "    }\n",
       "</style>\n",
       "<table border=\"1\" class=\"dataframe\">\n",
       "  <thead>\n",
       "    <tr style=\"text-align: right;\">\n",
       "      <th></th>\n",
       "      <th>order_id</th>\n",
       "      <th>customer_id</th>\n",
       "      <th>order_status</th>\n",
       "      <th>order_purchase_timestamp</th>\n",
       "      <th>order_approved_at</th>\n",
       "      <th>order_delivered_carrier_date</th>\n",
       "      <th>order_delivered_customer_date</th>\n",
       "      <th>order_estimated_delivery_date</th>\n",
       "    </tr>\n",
       "  </thead>\n",
       "  <tbody>\n",
       "    <tr>\n",
       "      <th>95276</th>\n",
       "      <td>a91402873e20638661e1df60e8eb63dd</td>\n",
       "      <td>84fb94e88cc2e3e090d76e95dd6236d5</td>\n",
       "      <td>delivered</td>\n",
       "      <td>2017-06-01 00:05:38</td>\n",
       "      <td>2017-06-02 01:05:30</td>\n",
       "      <td>2017-06-02 10:31:40</td>\n",
       "      <td>2017-06-08 13:03:51</td>\n",
       "      <td>2017-06-28</td>\n",
       "    </tr>\n",
       "    <tr>\n",
       "      <th>78889</th>\n",
       "      <td>e1e0cfc8398a7bcd9699fe42c1651566</td>\n",
       "      <td>2e28b1a46d27d698ecb5253364df051b</td>\n",
       "      <td>delivered</td>\n",
       "      <td>2017-06-01 00:12:32</td>\n",
       "      <td>2017-06-02 04:33:02</td>\n",
       "      <td>2017-06-08 07:33:39</td>\n",
       "      <td>2017-06-19 12:18:53</td>\n",
       "      <td>2017-07-12</td>\n",
       "    </tr>\n",
       "    <tr>\n",
       "      <th>47395</th>\n",
       "      <td>f5e9edb4041a4f6ddaac3851ae7992ee</td>\n",
       "      <td>04da2645a56f541526058058e48a71e1</td>\n",
       "      <td>delivered</td>\n",
       "      <td>2017-06-01 00:13:42</td>\n",
       "      <td>2017-06-01 01:22:30</td>\n",
       "      <td>2017-06-02 11:26:20</td>\n",
       "      <td>2017-06-06 13:16:42</td>\n",
       "      <td>2017-06-28</td>\n",
       "    </tr>\n",
       "    <tr>\n",
       "      <th>50514</th>\n",
       "      <td>76098ff18bad7555c2d85340e82b8941</td>\n",
       "      <td>edc3794d476fd4688e606229f4be94dd</td>\n",
       "      <td>delivered</td>\n",
       "      <td>2017-06-01 00:39:20</td>\n",
       "      <td>2017-06-01 01:35:20</td>\n",
       "      <td>2017-06-05 12:49:51</td>\n",
       "      <td>2017-06-19 14:51:50</td>\n",
       "      <td>2017-06-28</td>\n",
       "    </tr>\n",
       "    <tr>\n",
       "      <th>37784</th>\n",
       "      <td>df6b7e4d84d400a45f67fb12a8b2881d</td>\n",
       "      <td>bb79eb4829cd191cdc2664df115f357d</td>\n",
       "      <td>delivered</td>\n",
       "      <td>2017-06-01 00:41:00</td>\n",
       "      <td>2017-06-01 01:35:20</td>\n",
       "      <td>2017-06-01 15:26:17</td>\n",
       "      <td>2017-06-08 13:50:14</td>\n",
       "      <td>2017-06-23</td>\n",
       "    </tr>\n",
       "  </tbody>\n",
       "</table>\n",
       "</div>"
      ],
      "text/plain": [
       "                               order_id                       customer_id  \\\n",
       "95276  a91402873e20638661e1df60e8eb63dd  84fb94e88cc2e3e090d76e95dd6236d5   \n",
       "78889  e1e0cfc8398a7bcd9699fe42c1651566  2e28b1a46d27d698ecb5253364df051b   \n",
       "47395  f5e9edb4041a4f6ddaac3851ae7992ee  04da2645a56f541526058058e48a71e1   \n",
       "50514  76098ff18bad7555c2d85340e82b8941  edc3794d476fd4688e606229f4be94dd   \n",
       "37784  df6b7e4d84d400a45f67fb12a8b2881d  bb79eb4829cd191cdc2664df115f357d   \n",
       "\n",
       "      order_status order_purchase_timestamp   order_approved_at  \\\n",
       "95276    delivered      2017-06-01 00:05:38 2017-06-02 01:05:30   \n",
       "78889    delivered      2017-06-01 00:12:32 2017-06-02 04:33:02   \n",
       "47395    delivered      2017-06-01 00:13:42 2017-06-01 01:22:30   \n",
       "50514    delivered      2017-06-01 00:39:20 2017-06-01 01:35:20   \n",
       "37784    delivered      2017-06-01 00:41:00 2017-06-01 01:35:20   \n",
       "\n",
       "      order_delivered_carrier_date order_delivered_customer_date  \\\n",
       "95276          2017-06-02 10:31:40           2017-06-08 13:03:51   \n",
       "78889          2017-06-08 07:33:39           2017-06-19 12:18:53   \n",
       "47395          2017-06-02 11:26:20           2017-06-06 13:16:42   \n",
       "50514          2017-06-05 12:49:51           2017-06-19 14:51:50   \n",
       "37784          2017-06-01 15:26:17           2017-06-08 13:50:14   \n",
       "\n",
       "      order_estimated_delivery_date  \n",
       "95276                    2017-06-28  \n",
       "78889                    2017-07-12  \n",
       "47395                    2017-06-28  \n",
       "50514                    2017-06-28  \n",
       "37784                    2017-06-23  "
      ]
     },
     "execution_count": 76,
     "metadata": {},
     "output_type": "execute_result"
    }
   ],
   "source": [
    "# check filtering to ensure that nothing has been lost in the previous steps\n",
    "filtered_orders.sort_values('order_purchase_timestamp', ascending = True).head(5)  "
   ]
  },
  {
   "cell_type": "code",
   "execution_count": 77,
   "metadata": {},
   "outputs": [
    {
     "data": {
      "text/plain": [
       "297.90293879751954"
      ]
     },
     "execution_count": 77,
     "metadata": {},
     "output_type": "execute_result"
    }
   ],
   "source": [
    "# merging the data\n",
    "filtered_orders = pd.merge(filtered_orders, customers, on=\"customer_id\", how=\"left\")\n",
    "\n",
    "# unique clients\n",
    "unique_customers = filtered_orders[\"customer_unique_id\"].nunique()\n",
    "\n",
    "\n",
    "# expected increase in repeat orders (i.e. all customers, regardless of status, are converted into repeat orders)\n",
    "expected_additional_orders_from_payment = unique_customers * median_month_1_retention\n",
    "\n",
    "expected_additional_orders_from_payment"
   ]
  },
  {
   "cell_type": "code",
   "execution_count": 78,
   "metadata": {},
   "outputs": [],
   "source": [
    "# Let's look at the impact table: the match with 297 is 3.\n",
    "impact3 = 3"
   ]
  },
  {
   "cell_type": "code",
   "execution_count": 79,
   "metadata": {},
   "outputs": [
    {
     "data": {
      "text/plain": [
       "135"
      ]
     },
     "execution_count": 79,
     "metadata": {},
     "output_type": "execute_result"
    }
   ],
   "source": [
    "ICE3 = impact3 * 5 * 9\n",
    "ICE3"
   ]
  },
  {
   "cell_type": "code",
   "execution_count": 80,
   "metadata": {},
   "outputs": [
    {
     "data": {
      "text/plain": [
       "0"
      ]
     },
     "execution_count": 80,
     "metadata": {},
     "output_type": "execute_result"
    }
   ],
   "source": [
    "# conclusion - let's focus on hypothesis 1 (although in percentage terms, the number of cancellations is quite small compared to the total number of orders)\n",
    "ICE = [ICE1, ICE2, ICE3]\n",
    "max(ICE)\n",
    "ICE.index(max(ICE))"
   ]
  },
  {
   "cell_type": "code",
   "execution_count": null,
   "metadata": {},
   "outputs": [],
   "source": []
  },
  {
   "cell_type": "markdown",
   "metadata": {},
   "source": [
    "## Task 5. Formulate the necessary metrics that the hypothesis should influence.##"
   ]
  },
  {
   "cell_type": "markdown",
   "metadata": {},
   "source": [
    "**Subtasks:**\n",
    "\n",
    "- Formulate metrics that should be affected by your chosen hypothesis.\n",
    "- Formulate at least one metric in each category: target, proxy, guardrail."
   ]
  },
  {
   "cell_type": "markdown",
   "metadata": {},
   "source": [
    "**Proposed metrics:**\n",
    "\n",
    "1. Target metric: Percentage of orders delivered out of the total number of orders (this is what we initially wanted to influence when eliminating bugs; cancellations are converted to delivered orders)\n",
    "\n",
    "\n",
    "2. Proxy metric: \n",
    "- Percentage of repeat customers out of the total number of customers (order cancellations could have disappointed customers, discouraging them from making repeat purchases; with the bug fixed, this metric should also increase)\n",
    "- Support team costs (the fewer order cancellations, the fewer support requests for this issue)\n",
    "\n",
    "\n",
    "3. Barrier metrics:\n",
    "- Percentage of order returns (as the delivery rate increases, the return rate may also increase)\n",
    "- Average order processing time (more successful orders increase the load on order processing operators and the logistics system, which may increase the time required from order creation to order receipt)"
   ]
  }
 ],
 "metadata": {
  "kernelspec": {
   "display_name": "Python 3",
   "language": "python",
   "name": "python3"
  },
  "language_info": {
   "codemirror_mode": {
    "name": "ipython",
    "version": 3
   },
   "file_extension": ".py",
   "mimetype": "text/x-python",
   "name": "python",
   "nbconvert_exporter": "python",
   "pygments_lexer": "ipython3",
   "version": "3.7.3"
  }
 },
 "nbformat": 4,
 "nbformat_minor": 4
}
