{
  "metadata": {
    "kernelspec": {
      "name": "python",
      "display_name": "Python (Pyodide)",
      "language": "python"
    },
    "language_info": {
      "codemirror_mode": {
        "name": "python",
        "version": 3
      },
      "file_extension": ".py",
      "mimetype": "text/x-python",
      "name": "python",
      "nbconvert_exporter": "python",
      "pygments_lexer": "ipython3",
      "version": "3.8"
    }
  },
  "nbformat_minor": 5,
  "nbformat": 4,
  "cells": [
    {
      "id": "44cbf3a1",
      "cell_type": "markdown",
      "source": "#### Latest version, updated: 17.07.2025 at 15:00",
      "metadata": {}
    },
    {
      "id": "97cef3c5",
      "cell_type": "markdown",
      "source": "## **A/B Testing of new payment mechanics**",
      "metadata": {}
    },
    {
      "id": "4338e366",
      "cell_type": "markdown",
      "source": "### **Brief Problem Statement:**\n\nThe test compared the impact of new payment mechanics on revenue metrics and user drop-offs.",
      "metadata": {}
    },
    {
      "id": "3d672b83-69df-4d28-a761-610b74a7bd84",
      "cell_type": "markdown",
      "source": "During hypothesis testing, the target group was offered a new payment mechanics for services on the website, while the control group retained the basic mechanics. We need to analyse the results of the experiment and understand **whether it is worth launching the new payment system for all users**.\n\n**Analysis objectives:**\n- Identify key metrics;\n- Determine if there are differences between the groups;\n- Check the statistical significance of the differences;\n- Make a decision on whether to implement the new payment system.",
      "metadata": {}
    },
    {
      "id": "d5217f31",
      "cell_type": "code",
      "source": "import pandas as pd\nfrom statsmodels.stats.proportion import proportions_ztest\nfrom scipy.stats import ttest_ind\nfrom scipy.stats import levene\nfrom scipy.stats import normaltest\nimport matplotlib.pyplot as plt",
      "metadata": {
        "trusted": true
      },
      "outputs": [
        {
          "name": "stderr",
          "output_type": "stream",
          "text": "Matplotlib is building the font cache; this may take a moment.\n"
        }
      ],
      "execution_count": 3
    },
    {
      "id": "74851a00",
      "cell_type": "code",
      "source": "# importing the data\ngroups = pd.read_csv('groups.csv', sep=';')\ngroups_add = pd.read_csv('group_add.csv')\nactive_studs = pd.read_csv('active_studs.csv')\nchecks = pd.read_csv('checks.csv', sep=';')",
      "metadata": {
        "trusted": true
      },
      "outputs": [],
      "execution_count": 4
    },
    {
      "id": "2e1ca7f2",
      "cell_type": "code",
      "source": "groups.shape\ngroups.head()\ngroups.grp.value_counts().sort_index()",
      "metadata": {
        "trusted": true
      },
      "outputs": [
        {
          "execution_count": 5,
          "output_type": "execute_result",
          "data": {
            "text/plain": "grp\nA    14671\nB    59813\nName: count, dtype: int64"
          },
          "metadata": {}
        }
      ],
      "execution_count": 5
    },
    {
      "id": "445f7c80",
      "cell_type": "code",
      "source": "groups_add.shape",
      "metadata": {
        "trusted": true
      },
      "outputs": [
        {
          "execution_count": 6,
          "output_type": "execute_result",
          "data": {
            "text/plain": "(92, 2)"
          },
          "metadata": {}
        }
      ],
      "execution_count": 6
    },
    {
      "id": "8421ec1d",
      "cell_type": "code",
      "source": "active_studs.shape",
      "metadata": {
        "trusted": true
      },
      "outputs": [
        {
          "execution_count": 7,
          "output_type": "execute_result",
          "data": {
            "text/plain": "(8341, 1)"
          },
          "metadata": {}
        }
      ],
      "execution_count": 7
    },
    {
      "id": "af0b8022",
      "cell_type": "code",
      "source": "checks.head()\nchecks.shape",
      "metadata": {
        "trusted": true
      },
      "outputs": [
        {
          "execution_count": 8,
          "output_type": "execute_result",
          "data": {
            "text/plain": "(541, 2)"
          },
          "metadata": {}
        }
      ],
      "execution_count": 8
    },
    {
      "id": "9f2bc540",
      "cell_type": "code",
      "source": "# concatenate the data\nall_groups = pd.concat([groups, groups_add], ignore_index=True)\n\n# take only active users during experiment\nactive = pd.merge(all_groups, active_studs, left_on='id', right_on='student_id')",
      "metadata": {
        "trusted": true
      },
      "outputs": [],
      "execution_count": 9
    },
    {
      "id": "ee6498ec",
      "cell_type": "markdown",
      "source": "### **Bug Check: Check for anomalies before merging payment data**",
      "metadata": {}
    },
    {
      "id": "5a778223",
      "cell_type": "code",
      "source": "# Of the 541 who paid, only 391 are active users; 149 people paid by some other method and we are not interested in them.\n\nchecks_active = checks[checks['student_id'].isin(active_studs['student_id'])]\nchecks_active.shape",
      "metadata": {
        "trusted": true
      },
      "outputs": [
        {
          "execution_count": 10,
          "output_type": "execute_result",
          "data": {
            "text/plain": "(392, 2)"
          },
          "metadata": {}
        }
      ],
      "execution_count": 10
    },
    {
      "id": "21ef0325",
      "cell_type": "code",
      "source": "# leave the checks only from the active payers\nactive_payments = pd.merge(active, checks_active, on='student_id', how='left')\nactive_payments.head()",
      "metadata": {
        "trusted": true
      },
      "outputs": [
        {
          "execution_count": 11,
          "output_type": "execute_result",
          "data": {
            "text/plain": "     id grp  student_id    rev\n0  1627   A        1627  990.0\n1  2085   B        2085    NaN\n2  2215   B        2215    NaN\n3  3391   A        3391    NaN\n4  3401   B        3401    NaN",
            "text/html": "<div>\n<style scoped>\n    .dataframe tbody tr th:only-of-type {\n        vertical-align: middle;\n    }\n\n    .dataframe tbody tr th {\n        vertical-align: top;\n    }\n\n    .dataframe thead th {\n        text-align: right;\n    }\n</style>\n<table border=\"1\" class=\"dataframe\">\n  <thead>\n    <tr style=\"text-align: right;\">\n      <th></th>\n      <th>id</th>\n      <th>grp</th>\n      <th>student_id</th>\n      <th>rev</th>\n    </tr>\n  </thead>\n  <tbody>\n    <tr>\n      <th>0</th>\n      <td>1627</td>\n      <td>A</td>\n      <td>1627</td>\n      <td>990.0</td>\n    </tr>\n    <tr>\n      <th>1</th>\n      <td>2085</td>\n      <td>B</td>\n      <td>2085</td>\n      <td>NaN</td>\n    </tr>\n    <tr>\n      <th>2</th>\n      <td>2215</td>\n      <td>B</td>\n      <td>2215</td>\n      <td>NaN</td>\n    </tr>\n    <tr>\n      <th>3</th>\n      <td>3391</td>\n      <td>A</td>\n      <td>3391</td>\n      <td>NaN</td>\n    </tr>\n    <tr>\n      <th>4</th>\n      <td>3401</td>\n      <td>B</td>\n      <td>3401</td>\n      <td>NaN</td>\n    </tr>\n  </tbody>\n</table>\n</div>"
          },
          "metadata": {}
        }
      ],
      "execution_count": 11
    },
    {
      "id": "ccb0de8f",
      "cell_type": "markdown",
      "source": "### **Calculating Metrics**\n\nWe will calculate the following metrics:\n- **ARPAU (average revenue per active user)** - shows how much money an active user brings in; here we take into account all participants in the experiment, even if they did not make a purchase;\n- **ARPPU (average purchase amount among paying users)** - allows us to assess the ‘quality’ of paying users; perhaps the conversion rate has fallen, but the average purchase amount per customer has increased, making the customer ‘more valuable’ to us;\n- **CR (conversion rate)** - there may be more users of the new mechanism, but how many users directly convert into cash for us?",
      "metadata": {}
    },
    {
      "id": "8e427974",
      "cell_type": "code",
      "source": "# let's check, how many active users do we have in each group\ngrouped = active_payments.groupby('grp', as_index = False).agg({'student_id': 'nunique'})\ngrouped.head()",
      "metadata": {
        "trusted": true
      },
      "outputs": [
        {
          "execution_count": 12,
          "output_type": "execute_result",
          "data": {
            "text/plain": "  grp  student_id\n0   A        1538\n1   B        6803",
            "text/html": "<div>\n<style scoped>\n    .dataframe tbody tr th:only-of-type {\n        vertical-align: middle;\n    }\n\n    .dataframe tbody tr th {\n        vertical-align: top;\n    }\n\n    .dataframe thead th {\n        text-align: right;\n    }\n</style>\n<table border=\"1\" class=\"dataframe\">\n  <thead>\n    <tr style=\"text-align: right;\">\n      <th></th>\n      <th>grp</th>\n      <th>student_id</th>\n    </tr>\n  </thead>\n  <tbody>\n    <tr>\n      <th>0</th>\n      <td>A</td>\n      <td>1538</td>\n    </tr>\n    <tr>\n      <th>1</th>\n      <td>B</td>\n      <td>6803</td>\n    </tr>\n  </tbody>\n</table>\n</div>"
          },
          "metadata": {}
        }
      ],
      "execution_count": 12
    },
    {
      "id": "08dbb760",
      "cell_type": "code",
      "source": "# payers in each groups\npayers = active_payments.groupby('grp', as_index = False).rev.apply(lambda x: x.notna().sum())\npayers",
      "metadata": {
        "trusted": true
      },
      "outputs": [
        {
          "execution_count": 13,
          "output_type": "execute_result",
          "data": {
            "text/plain": "  grp  rev\n0   A   78\n1   B  314",
            "text/html": "<div>\n<style scoped>\n    .dataframe tbody tr th:only-of-type {\n        vertical-align: middle;\n    }\n\n    .dataframe tbody tr th {\n        vertical-align: top;\n    }\n\n    .dataframe thead th {\n        text-align: right;\n    }\n</style>\n<table border=\"1\" class=\"dataframe\">\n  <thead>\n    <tr style=\"text-align: right;\">\n      <th></th>\n      <th>grp</th>\n      <th>rev</th>\n    </tr>\n  </thead>\n  <tbody>\n    <tr>\n      <th>0</th>\n      <td>A</td>\n      <td>78</td>\n    </tr>\n    <tr>\n      <th>1</th>\n      <td>B</td>\n      <td>314</td>\n    </tr>\n  </tbody>\n</table>\n</div>"
          },
          "metadata": {}
        }
      ],
      "execution_count": 13
    },
    {
      "id": "cbb6103c",
      "cell_type": "code",
      "source": "# calculate total revenue by group\n# revenue as a metric is not that interesting to us, since the groups vary quite significantly in terms of quantity, \n# but we need it to calculate ARPAU and ARPPU\n\ntotal_revenue = active_payments.groupby('grp', as_index = False).agg({'rev' : 'sum'})\ntotal_revenue",
      "metadata": {
        "trusted": true
      },
      "outputs": [
        {
          "execution_count": 14,
          "output_type": "execute_result",
          "data": {
            "text/plain": "  grp          rev\n0   A   72820.0000\n1   B  394974.0035",
            "text/html": "<div>\n<style scoped>\n    .dataframe tbody tr th:only-of-type {\n        vertical-align: middle;\n    }\n\n    .dataframe tbody tr th {\n        vertical-align: top;\n    }\n\n    .dataframe thead th {\n        text-align: right;\n    }\n</style>\n<table border=\"1\" class=\"dataframe\">\n  <thead>\n    <tr style=\"text-align: right;\">\n      <th></th>\n      <th>grp</th>\n      <th>rev</th>\n    </tr>\n  </thead>\n  <tbody>\n    <tr>\n      <th>0</th>\n      <td>A</td>\n      <td>72820.0000</td>\n    </tr>\n    <tr>\n      <th>1</th>\n      <td>B</td>\n      <td>394974.0035</td>\n    </tr>\n  </tbody>\n</table>\n</div>"
          },
          "metadata": {}
        }
      ],
      "execution_count": 14
    },
    {
      "id": "82cacdb4",
      "cell_type": "markdown",
      "source": "**Calculating ARPAU**",
      "metadata": {}
    },
    {
      "id": "fded082e",
      "cell_type": "code",
      "source": "# divide total revenue by the number of active users to get ARPAU:\nmetrics = pd.merge(grouped, total_revenue, on = 'grp')\nmetrics.rename(columns={'student_id': 'total_users', 'rev': 'total_revenue'}, inplace=True)\nmetrics['arpau'] = metrics.total_revenue / metrics.total_users\nmetrics",
      "metadata": {
        "trusted": true
      },
      "outputs": [
        {
          "execution_count": 15,
          "output_type": "execute_result",
          "data": {
            "text/plain": "  grp  total_users  total_revenue      arpau\n0   A         1538     72820.0000  47.347204\n1   B         6803    394974.0035  58.058798",
            "text/html": "<div>\n<style scoped>\n    .dataframe tbody tr th:only-of-type {\n        vertical-align: middle;\n    }\n\n    .dataframe tbody tr th {\n        vertical-align: top;\n    }\n\n    .dataframe thead th {\n        text-align: right;\n    }\n</style>\n<table border=\"1\" class=\"dataframe\">\n  <thead>\n    <tr style=\"text-align: right;\">\n      <th></th>\n      <th>grp</th>\n      <th>total_users</th>\n      <th>total_revenue</th>\n      <th>arpau</th>\n    </tr>\n  </thead>\n  <tbody>\n    <tr>\n      <th>0</th>\n      <td>A</td>\n      <td>1538</td>\n      <td>72820.0000</td>\n      <td>47.347204</td>\n    </tr>\n    <tr>\n      <th>1</th>\n      <td>B</td>\n      <td>6803</td>\n      <td>394974.0035</td>\n      <td>58.058798</td>\n    </tr>\n  </tbody>\n</table>\n</div>"
          },
          "metadata": {}
        }
      ],
      "execution_count": 15
    },
    {
      "id": "3006dad8",
      "cell_type": "markdown",
      "source": "**Calculating ARPPU**",
      "metadata": {}
    },
    {
      "id": "bf106825",
      "cell_type": "code",
      "source": "# Divide total revenue by the number of paying users to get ARPPU:\n\nmetrics = pd.merge(metrics, payers, on = 'grp')\nmetrics.rename(columns = {'rev': 'payers'}, inplace=True)\nmetrics['arppu'] = metrics.total_revenue / metrics.payers\nmetrics",
      "metadata": {
        "trusted": true
      },
      "outputs": [
        {
          "execution_count": 16,
          "output_type": "execute_result",
          "data": {
            "text/plain": "  grp  total_users  total_revenue      arpau  payers        arppu\n0   A         1538     72820.0000  47.347204      78   933.589744\n1   B         6803    394974.0035  58.058798     314  1257.878992",
            "text/html": "<div>\n<style scoped>\n    .dataframe tbody tr th:only-of-type {\n        vertical-align: middle;\n    }\n\n    .dataframe tbody tr th {\n        vertical-align: top;\n    }\n\n    .dataframe thead th {\n        text-align: right;\n    }\n</style>\n<table border=\"1\" class=\"dataframe\">\n  <thead>\n    <tr style=\"text-align: right;\">\n      <th></th>\n      <th>grp</th>\n      <th>total_users</th>\n      <th>total_revenue</th>\n      <th>arpau</th>\n      <th>payers</th>\n      <th>arppu</th>\n    </tr>\n  </thead>\n  <tbody>\n    <tr>\n      <th>0</th>\n      <td>A</td>\n      <td>1538</td>\n      <td>72820.0000</td>\n      <td>47.347204</td>\n      <td>78</td>\n      <td>933.589744</td>\n    </tr>\n    <tr>\n      <th>1</th>\n      <td>B</td>\n      <td>6803</td>\n      <td>394974.0035</td>\n      <td>58.058798</td>\n      <td>314</td>\n      <td>1257.878992</td>\n    </tr>\n  </tbody>\n</table>\n</div>"
          },
          "metadata": {}
        }
      ],
      "execution_count": 16
    },
    {
      "id": "9f13bbb3",
      "cell_type": "markdown",
      "source": "**Calculating CR**",
      "metadata": {}
    },
    {
      "id": "4f98cec8",
      "cell_type": "code",
      "source": "# Let's calculate the conversion rate to paying active users:\n# To do this, divide the number of paying users by the total number of users.\n\nmetrics['conversion'] = metrics.payers / metrics.total_users\nmetrics",
      "metadata": {
        "scrolled": true,
        "trusted": true
      },
      "outputs": [
        {
          "execution_count": 17,
          "output_type": "execute_result",
          "data": {
            "text/plain": "  grp  total_users  total_revenue      arpau  payers        arppu  conversion\n0   A         1538     72820.0000  47.347204      78   933.589744    0.050715\n1   B         6803    394974.0035  58.058798     314  1257.878992    0.046156",
            "text/html": "<div>\n<style scoped>\n    .dataframe tbody tr th:only-of-type {\n        vertical-align: middle;\n    }\n\n    .dataframe tbody tr th {\n        vertical-align: top;\n    }\n\n    .dataframe thead th {\n        text-align: right;\n    }\n</style>\n<table border=\"1\" class=\"dataframe\">\n  <thead>\n    <tr style=\"text-align: right;\">\n      <th></th>\n      <th>grp</th>\n      <th>total_users</th>\n      <th>total_revenue</th>\n      <th>arpau</th>\n      <th>payers</th>\n      <th>arppu</th>\n      <th>conversion</th>\n    </tr>\n  </thead>\n  <tbody>\n    <tr>\n      <th>0</th>\n      <td>A</td>\n      <td>1538</td>\n      <td>72820.0000</td>\n      <td>47.347204</td>\n      <td>78</td>\n      <td>933.589744</td>\n      <td>0.050715</td>\n    </tr>\n    <tr>\n      <th>1</th>\n      <td>B</td>\n      <td>6803</td>\n      <td>394974.0035</td>\n      <td>58.058798</td>\n      <td>314</td>\n      <td>1257.878992</td>\n      <td>0.046156</td>\n    </tr>\n  </tbody>\n</table>\n</div>"
          },
          "metadata": {}
        }
      ],
      "execution_count": 17
    },
    {
      "id": "4cc79ee0",
      "cell_type": "markdown",
      "source": "**As a result, we obtained dataframes with all calculated metrics.**\n\nAt the same time, for all metrics except conversion to payment, the **test group** performed better.",
      "metadata": {}
    },
    {
      "id": "894572ef",
      "cell_type": "code",
      "source": "print(metrics)",
      "metadata": {
        "trusted": true
      },
      "outputs": [
        {
          "name": "stdout",
          "output_type": "stream",
          "text": "  grp  total_users  total_revenue      arpau  payers        arppu  conversion\n0   A         1538     72820.0000  47.347204      78   933.589744    0.050715\n1   B         6803    394974.0035  58.058798     314  1257.878992    0.046156\n"
        }
      ],
      "execution_count": 18
    },
    {
      "id": "90901888",
      "cell_type": "markdown",
      "source": "### **Check of the statistical significance of differences in metrics by group**\n\n- To check the statistical significance of the **ARPPU and ARPAU** metrics, we use **Student's t-test**, since the metrics are quantitative, the group sizes are different, the samples are not normally distributed, but they are large (> 30), and the variances in the General Population are considered equal;\n- To check **CR**, we use the **z-test of proportions**, since the metric is qualitative, the samples are independent and large.",
      "metadata": {}
    },
    {
      "id": "a263b0a6",
      "cell_type": "markdown",
      "source": "Before conducting tests, check the data for **normality** and **equality of variances**",
      "metadata": {}
    },
    {
      "id": "0464f75f",
      "cell_type": "code",
      "source": "# specifying the tests groups\n\nrev_a = active_payments[active_payments['grp'] == 'A']['rev'].dropna()\nrev_b = active_payments[active_payments['grp'] == 'B']['rev'].dropna()",
      "metadata": {
        "trusted": true
      },
      "outputs": [],
      "execution_count": 19
    },
    {
      "id": "b705c51c",
      "cell_type": "code",
      "source": "# To check the normality of distributions, we use normaltest(), since our samples are quite large (> 20)\n# Since p-value < 0.05 in both groups, we reject the hypothesis of normality of distributions; the distributions are not normal\n# However, since the samples are large (>30), we can use the t-test\n\nprint(normaltest(rev_a))\nprint(normaltest(rev_b))",
      "metadata": {
        "trusted": true
      },
      "outputs": [
        {
          "name": "stdout",
          "output_type": "stream",
          "text": "NormaltestResult(statistic=np.float64(30.378419638487475), pvalue=np.float64(2.5316868804220266e-07))\nNormaltestResult(statistic=np.float64(6.795662714490353), pvalue=np.float64(0.033445723194625424))\n"
        }
      ],
      "execution_count": 20
    },
    {
      "id": "f55f3612",
      "cell_type": "code",
      "source": "# Let's check the equality of variances (Levene's test):\n# Since p > 0.05, we cannot reject the null hypothesis of equality of variances; the variances are considered equal\n# To check the statistical significance of the differences, we can use Student's t-test\n\nlevene_result = levene(rev_a, rev_b)\nprint(levene_result)",
      "metadata": {
        "trusted": true
      },
      "outputs": [
        {
          "name": "stdout",
          "output_type": "stream",
          "text": "LeveneResult(statistic=np.float64(3.075681699981606), pvalue=np.float64(0.08025675761347022))\n"
        }
      ],
      "execution_count": 21
    },
    {
      "id": "e35b9416",
      "cell_type": "markdown",
      "source": "Let's perform a **T-test** for the average check (for the ARPPU metric):\n\n- **Justification for choosing the statistical criterion:** We are comparing the average values of a quantitative metric between two independent groups (control group A and test group B). We have two independent, unequal samples. The variances are equal, the distribution is not normal, but the samples are large, so we use Student's t-test.\n\n\n- **H0**: The average revenue per paying user in the General Population is the same in groups A and B.\n- **H1**: The average revenue per paying user in the General Population differs between groups A and B.",
      "metadata": {}
    },
    {
      "id": "b800f14e",
      "cell_type": "code",
      "source": "# The average check in group B is higher and the difference is statistically significant (p value < 0.05)\n# Hypothesis H0 is rejected\n\nttest_ind(rev_a, rev_b, equal_var=True)",
      "metadata": {
        "trusted": true
      },
      "outputs": [
        {
          "execution_count": 22,
          "output_type": "execute_result",
          "data": {
            "text/plain": "TtestResult(statistic=np.float64(-3.1337795050930985), pvalue=np.float64(0.001856202526576587), df=np.float64(390.0))"
          },
          "metadata": {}
        }
      ],
      "execution_count": 22
    },
    {
      "id": "13428d08",
      "cell_type": "markdown",
      "source": "Let's perform a **T-test** for the ARPAU metric\n\n- **Justification for choosing the statistical criterion**: We compare the average values of a quantitative metric between two independent groups (control group A and test group B). We have two independent samples that are unequal and large. The variances are equal, so we use Student's t-test.\n\n\n- **H0**: The average income per active user in General Population is the same in groups A and B.\n- **H1**: The average income per active user in General Population differs between groups A and B.",
      "metadata": {}
    },
    {
      "id": "2c38f9d5",
      "cell_type": "code",
      "source": "# Let's make a copy of the df here, since we are now interested in the zero revenue values as well.\n\nactive_payments_filled = active_payments.copy()\nactive_payments_filled['rev'] = active_payments_filled['rev'].fillna(0)\n\n# разделимдатафрейм на две группы\narpau_a = active_payments_filled[active_payments_filled['grp'] == 'A']['rev']\narpau_b = active_payments_filled[active_payments_filled['grp'] == 'B']['rev']",
      "metadata": {
        "trusted": true
      },
      "outputs": [],
      "execution_count": 23
    },
    {
      "id": "9a1142ed",
      "cell_type": "markdown",
      "source": "Let's check the equality of variances and check the distributions for normality:",
      "metadata": {}
    },
    {
      "id": "46321fb7",
      "cell_type": "code",
      "source": "# Checking the equality of variances\n# p > 0.05, i.e. there are no grounds to reject the hypothesis of equality of variances, the hypotheses are considered equal\n# we have differences in variances, so I use Student's t-test\n\nlevene_arpau = levene(arpau_a, arpau_b)\nprint(levene_arpau)",
      "metadata": {
        "trusted": true
      },
      "outputs": [
        {
          "name": "stdout",
          "output_type": "stream",
          "text": "LeveneResult(statistic=np.float64(1.501460829433639), pvalue=np.float64(0.22048133327049665))\n"
        }
      ],
      "execution_count": 24
    },
    {
      "id": "44deda96",
      "cell_type": "code",
      "source": "# Normality check\n# Both p-values are significantly lower than 0.05, so we reject the hypothesis of normal distribution\n# The distributions are not normal, but the samples are large, which allows us to use the t-test\n\nnormaltest_a = normaltest(arpau_a)\nnormaltest_b = normaltest(arpau_b)\nprint(normaltest_a, normaltest_b)",
      "metadata": {
        "trusted": true
      },
      "outputs": [
        {
          "name": "stdout",
          "output_type": "stream",
          "text": "NormaltestResult(statistic=np.float64(2240.595797407402), pvalue=np.float64(0.0)) NormaltestResult(statistic=np.float64(7797.399211581946), pvalue=np.float64(0.0))\n"
        }
      ],
      "execution_count": 25
    },
    {
      "id": "319b8d6f",
      "cell_type": "code",
      "source": "# T-test according to ARPAU, the difference is not statistically significant (p value > 0.05)\n# hypothesis H0 is not rejected\n\nttest_ind(arpau_a, arpau_b, equal_var=True)",
      "metadata": {
        "trusted": true
      },
      "outputs": [
        {
          "execution_count": 26,
          "output_type": "execute_result",
          "data": {
            "text/plain": "TtestResult(statistic=np.float64(-1.2253411073793445), pvalue=np.float64(0.22048133326988378), df=np.float64(8339.0))"
          },
          "metadata": {}
        }
      ],
      "execution_count": 26
    },
    {
      "id": "7c59c2b6",
      "cell_type": "markdown",
      "source": "Let's use the **z-test of proportions** to check whether there are statistical differences in conversion to paying users between the two groups (CR).\n\n- **Justification for choosing the statistical criterion:** The z-test of proportions assesses whether the difference in sample conversions is statistically significant or could have occurred by chance. We have a discrete metric (whether an active user converted to a paying user or not).\n- In order for us to use the z-test of proportions, the observations must be independent (which is true) and the samples must be large (which is also true), allowing us to use the test.\n\n\n- **H0**: The conversion to purchase among active users in the general population is the same in groups A and B.\n- **H1**: The conversion to purchase among active users in the general population differs between groups A and B.",
      "metadata": {}
    },
    {
      "id": "9971e621",
      "cell_type": "code",
      "source": "total_users = active_payments.groupby('grp')['student_id'].nunique().sort_index()\npayers = active_payments.groupby('grp')['rev'].apply(lambda x: x.notna().sum()).sort_index()",
      "metadata": {
        "trusted": true
      },
      "outputs": [],
      "execution_count": 27
    },
    {
      "id": "030c79dd",
      "cell_type": "code",
      "source": "# differences in conversion between the two groups are not statistically significant (p value > 0.05)\n# hypothesis H0 is not rejected\n\nproportions_ztest(count=payers, nobs=total_users)",
      "metadata": {
        "trusted": true
      },
      "outputs": [
        {
          "execution_count": 28,
          "output_type": "execute_result",
          "data": {
            "text/plain": "(np.float64(0.7629884495263746), np.float64(0.445470284371589))"
          },
          "metadata": {}
        }
      ],
      "execution_count": 28
    },
    {
      "id": "73c1caab",
      "cell_type": "markdown",
      "source": "### **Conclusions**\n\n- **ARPPU**: higher in test group B (1257.88 vs. 933.59 in group A) and the difference is **statistically significant** (p ≈ 0.002);\n- **ARPAU**: higher in group B (58.06 vs. 47.35 in group A), but the difference is **not statistically significant** (p ≈ 0.22);\n- **CR**: higher in control group A (0.051 vs. 0.046 in group B), but the difference is **not statistically significant** (p ≈ 0.445);\n- **Conclusion**: The new mechanism did not increase the share of paying active users or revenue per user, but it did result in a **significant increase in the average check size of paying users**.\n\n**Recommendations**:\n- If the client's goal is to increase revenue per user, then the new mechanism should be implemented for all users.\n- However, it is worth conducting an additional experiment with a focus on conversion if the goal is to attract more new paying customers.",
      "metadata": {}
    },
    {
      "id": "27dc9f5b-c898-4408-8f78-74761b161da9",
      "cell_type": "code",
      "source": "",
      "metadata": {
        "trusted": true
      },
      "outputs": [],
      "execution_count": null
    },
    {
      "id": "8bd65255",
      "cell_type": "markdown",
      "source": "## **Implementing the function adding the groups_add.csv file to the already calculated metrics**",
      "metadata": {}
    },
    {
      "id": "788452e0",
      "cell_type": "markdown",
      "source": "### **Task description:**\n\n- Implement a function that will automatically load information from the additional file groups_add.csv (headers may vary) and recalculate metrics based on additional parameters.\n- Implement a function that will build graphs based on the metrics received.",
      "metadata": {}
    },
    {
      "id": "5bdc1042",
      "cell_type": "markdown",
      "source": "### **Solution**\n\nProblem statement: Let's assume that we initially had three files with data: “groups.csv”, “active_studs.csv”, and “checks.csv”. We have already performed calculations on them, but we have been sent another file, “groups_add.csv”, with additional participants in the experiment. We don't want to recalculate the metrics, so we create a function that reads the file and calculates the metrics based on the updated data.",
      "metadata": {}
    },
    {
      "id": "a7832056",
      "cell_type": "code",
      "source": "# The data has already been imported in task 1. We have three data frames: groups, active_studs, and checks.\n# Let's calculate the metrics based on this data (without group_add)\n\n# First, let's get a data frame with only active users and calculate the number of active users in each group\nactive_users = groups.merge(active_studs, left_on='id', right_on='student_id')\nn_active = active_users.groupby('grp')['student_id'].nunique()\n\n# Then we will obtain a data frame with payments from active users and calculate the number of active paying users by group.\npayments = checks.merge(active_users, on='student_id')\nn_paying_active = payments.groupby('grp')['student_id'].nunique()\n\n# Calculate the amount of revenue by group\nrevenue_active = payments.groupby('grp')['rev'].sum()\n\n# Calculate metrics\narpau = revenue_active / n_active\narppu = revenue_active / n_paying_active\ncr = n_paying_active / n_active\n\n# Combine the results into a single data frame\nmetrics_df = pd.DataFrame({\n    'ARPAU': arpau,\n    'ARPPU': arppu,\n    'CR': cr\n}).reset_index()\n\nmetrics_df",
      "metadata": {
        "trusted": true
      },
      "outputs": [
        {
          "execution_count": 29,
          "output_type": "execute_result",
          "data": {
            "text/plain": "  grp      ARPAU        ARPPU        CR\n0   A  47.439739   933.589744  0.050814\n1   B  57.864567  1255.827487  0.046077",
            "text/html": "<div>\n<style scoped>\n    .dataframe tbody tr th:only-of-type {\n        vertical-align: middle;\n    }\n\n    .dataframe tbody tr th {\n        vertical-align: top;\n    }\n\n    .dataframe thead th {\n        text-align: right;\n    }\n</style>\n<table border=\"1\" class=\"dataframe\">\n  <thead>\n    <tr style=\"text-align: right;\">\n      <th></th>\n      <th>grp</th>\n      <th>ARPAU</th>\n      <th>ARPPU</th>\n      <th>CR</th>\n    </tr>\n  </thead>\n  <tbody>\n    <tr>\n      <th>0</th>\n      <td>A</td>\n      <td>47.439739</td>\n      <td>933.589744</td>\n      <td>0.050814</td>\n    </tr>\n    <tr>\n      <th>1</th>\n      <td>B</td>\n      <td>57.864567</td>\n      <td>1255.827487</td>\n      <td>0.046077</td>\n    </tr>\n  </tbody>\n</table>\n</div>"
          },
          "metadata": {}
        }
      ],
      "execution_count": 29
    },
    {
      "id": "9956baca",
      "cell_type": "code",
      "source": "# We now have a data frame with a set of metrics that we collected using the same logic as in task 1.\n# Now we have been sent the file “group_add.csv”. Let's write a function so that the metrics are calculated automatically.\n# We also want to build graphs for each metric.\n\ndef calculate_metrics(additional_path):\n    \n    # Upload data\n    additional_df = pd.read_csv(additional_path)\n    \n    # Add the data from a new df\n    combined_groups = pd.concat([groups, additional_df], ignore_index=True)\n\n    # Leave only active users\n    active_combined = combined_groups.merge(active_studs, left_on='id', right_on='student_id')\n\n    # Merge with checks\n    payments_combined = checks.merge(active_combined, on='student_id')\n\n    # Calculate active and paying users\n    n_active = active_combined.groupby('grp')['student_id'].nunique()\n    n_paying = payments_combined.groupby('grp')['student_id'].nunique()\n    revenue = payments_combined.groupby('grp')['rev'].sum()\n\n    # Calculate the metrics\n    df_results = pd.DataFrame({\n        'ARPAU': revenue / n_active,\n        'ARPPU': revenue / n_paying,\n        'CR': n_paying / n_active\n    }).reset_index()\n\n    # Graphics\n    for metric in ['ARPAU', 'ARPPU', 'CR']:\n        plt.figure()\n        plt.bar(df_results['grp'], df_results[metric])\n        plt.title(f'{metric} by group')\n        plt.ylabel(metric)\n        plt.show()\n\n    return df_results",
      "metadata": {
        "trusted": true
      },
      "outputs": [],
      "execution_count": 30
    },
    {
      "id": "612c51d4",
      "cell_type": "code",
      "source": "# Check that everything functions\n\nmetrics_updated = calculate_metrics('group_add.csv')\nmetrics_updated",
      "metadata": {
        "trusted": true
      },
      "outputs": [
        {
          "output_type": "display_data",
          "data": {
            "text/plain": "<Figure size 640x480 with 1 Axes>",
            "image/png": "[encoded data removed]"
          },
          "metadata": {}
        },
        {
          "output_type": "display_data",
          "data": {
            "text/plain": "<Figure size 640x480 with 1 Axes>",
            "image/png": "[encoded data removed]"
          },
          "metadata": {}
        },
        {
          "output_type": "display_data",
          "data": {
            "text/plain": "<Figure size 640x480 with 1 Axes>",
            "image/png": "[encoded data removed]"
          },
          "metadata": {}
        },
        {
          "execution_count": 31,
          "output_type": "execute_result",
          "data": {
            "text/plain": "  grp      ARPAU        ARPPU        CR\n0   A  47.347204   933.589744  0.050715\n1   B  58.058798  1257.878992  0.046156",
            "text/html": "<div>\n<style scoped>\n    .dataframe tbody tr th:only-of-type {\n        vertical-align: middle;\n    }\n\n    .dataframe tbody tr th {\n        vertical-align: top;\n    }\n\n    .dataframe thead th {\n        text-align: right;\n    }\n</style>\n<table border=\"1\" class=\"dataframe\">\n  <thead>\n    <tr style=\"text-align: right;\">\n      <th></th>\n      <th>grp</th>\n      <th>ARPAU</th>\n      <th>ARPPU</th>\n      <th>CR</th>\n    </tr>\n  </thead>\n  <tbody>\n    <tr>\n      <th>0</th>\n      <td>A</td>\n      <td>47.347204</td>\n      <td>933.589744</td>\n      <td>0.050715</td>\n    </tr>\n    <tr>\n      <th>1</th>\n      <td>B</td>\n      <td>58.058798</td>\n      <td>1257.878992</td>\n      <td>0.046156</td>\n    </tr>\n  </tbody>\n</table>\n</div>"
          },
          "metadata": {}
        }
      ],
      "execution_count": 31
    },
    {
      "id": "4d97b3f3",
      "cell_type": "markdown",
      "source": "**Conclusion:** Thus, we have created a function that loads additional data, calculates key metrics based on that data, and builds graphs for each metric.",
      "metadata": {}
    },
    {
      "id": "205002b5-77ef-4e3b-88a3-09df1b90ced9",
      "cell_type": "code",
      "source": "",
      "metadata": {
        "trusted": true
      },
      "outputs": [],
      "execution_count": null
    },
    {
      "id": "ca0ac1e6",
      "cell_type": "markdown",
      "source": "## **SQL - Task (PostgreSQL)**\n",
      "metadata": {}
    },
    {
      "id": "43fa9460",
      "cell_type": "markdown",
      "source": "### **2.1 Very diligent students:**\n\n**2.1.1 Condition**\n\nEducational courses consist of various lessons, each of which consists of several small tasks. Each such small task is called a ‘pea’.\n\nA user who has correctly solved 20 peas at least once during the current month is considered a very diligent student.\n\n**2.1.2 Task**\n\nGiven the table peas, write an optimal query that will return the number of very diligent students.\n\nNB! By diligent student, we mean a student who has correctly solved 20 tasks during the current month.",
      "metadata": {}
    },
    {
      "id": "f321f897",
      "cell_type": "markdown",
      "source": "### **Solution:**\n\n**Step 1: Check the period for which we have data:**\n\n\nSELECT \n    \n    MIN(timest::date) AS min_date,\n    MAX(timest::date) AS max_date\n    \nFROM peas;\n\nConclusion: We have data for two days: 30 and 31 October 2021, i.e. within one month.\n\n**Step 2: Select very diligent students**\n\n-- First, I select students who correctly solved >= 20 problems, then count their number\n-- Since students could solve the required number of problems on both days, I count DISTINCT by st_id\n\nSELECT COUNT(DISTINCT st_id) AS hard_working_students\n  \n  FROM (\n  \n      SELECT st_id, timest:: date AS day, COUNT(*) AS correct_peas\n        FROM peas\n       WHERE correct = TRUE\n       GROUP BY st_id, timest:: date\n      HAVING COUNT(*) >= 20\n       ORDER BY st_id\n) AS smart_students;",
      "metadata": {}
    },
    {
      "id": "3958d1e9",
      "cell_type": "markdown",
      "source": "**Conclusion:** In total, we have 63 students who completed >= 20 tasks this month.",
      "metadata": {}
    },
    {
      "id": "f6872790",
      "cell_type": "markdown",
      "source": "### **2.2 Funnel optimisation:**\n\n**2.2.1 Condition**\n\nAn educational platform offers students trial courses: students can solve only 30 problems per day for free. For an unlimited number of assignments in a particular subject, students must purchase full access. The team conducted an experiment to test a new payment screen.\n\n**2.2.2 Task**\n\nGiven the tables: peas (see above), studs, and final_project_check. The following information about user groups must be retrieved in a single query:\n\n- ARPU\n- ARPAU\n- CR in purchase\n- CR of active users in purchase\n- CR of users from math activity (subject = “math”) in purchase of math course\n- ARPU is calculated relative to all users in the groups.\n\nA user is considered active if they have solved more than 10 problems correctly in any subject during the entire period.\n\nA user is considered active in mathematics if they have solved 2 or more problems correctly in mathematics during the entire period.",
      "metadata": {}
    },
    {
      "id": "322ac5b9",
      "cell_type": "markdown",
      "source": "### **Solution:**\n\n**Step 1: Create a CTE:**\n\n- with users who have solved more than 10 tasks correctly (in any subject)\n- with users who have solved ≥2 math tasks\n- with all unique users who have made a purchase\n- with revenue for each user\n\n**Step 2: JOIN:**\n\n- combine all the tables we got by ID\n- sum up the metrics for the test and control groups\n\n**Step 3: Calculate metrics:**\n\n- ARPU: revenue per user\n- ARPAU: revenue per active user\n- CR_all: conversion of all users to a purchase\n- CR_active: conversion of active users to a purchase\n- CR_math: conversion of active math users to a math course purchase",
      "metadata": {}
    },
    {
      "id": "1857dea3",
      "cell_type": "markdown",
      "source": "WITH active_users AS (\n    \n    SELECT st_id\n      FROM peas\n     WHERE correct = true\n     GROUP BY st_id\n    HAVING COUNT(*) > 10\n),\n\nmath_active_users AS (\n    \n    SELECT st_id\n      FROM peas\n     WHERE correct = true AND subject = 'Math'\n     GROUP BY st_id\n    HAVING COUNT(*) >= 2\n),\n\npurchases AS (\n    \n    SELECT DISTINCT st_id\n      FROM final_project_check\n),\n\nrevenue AS (\n    \n    SELECT st_id, SUM(money) AS total_money\n      FROM final_project_check\n     GROUP BY st_id\n),\n\njoined_data AS (\n    \n    SELECT s.test_grp,\n           COUNT(DISTINCT s.st_id) AS total_users,\n           SUM(r.total_money) AS total_rev,\n           SUM(CASE WHEN a.st_id IS NOT NULL THEN 1 ELSE 0 END) AS active_users,\n           SUM(CASE WHEN ma.st_id IS NOT NULL THEN 1 ELSE 0 END) AS math_active,\n           SUM(CASE WHEN p.st_id IS NOT NULL THEN 1 ELSE 0 END) AS payers,\n           SUM(CASE WHEN f.subject = 'Math' THEN 1 ELSE 0 END) AS math_payers\n      FROM studs s\n      LEFT JOIN revenue r ON s.st_id = r.st_id\n      LEFT JOIN active_users a ON s.st_id = a.st_id\n      LEFT JOIN math_active_users ma ON s.st_id = ma.st_id\n      LEFT JOIN purchases p ON s.st_id = p.st_id\n      LEFT JOIN final_project_check f ON s.st_id = f.st_id\n     GROUP BY s.test_grp\n)\n\nSELECT \n    \n    test_grp,\n    total_users, active_users, math_active, payers, math_payers,\n    total_rev::int,\n    total_rev::float / total_users AS arpu,\n    total_rev::float / active_users AS arpau,\n    payers::float / total_users AS cr_all,\n    payers::float / active_users AS cr_active,\n    math_payers::float / math_active AS cr_math\n  \n  FROM joined_data;",
      "metadata": {}
    },
    {
      "id": "6aa2fdae",
      "cell_type": "markdown",
      "source": "**Conclusion:** The metric values in the test group are slightly better than in the control group, but the statistical significance of these differences needs to be verified.",
      "metadata": {}
    },
    {
      "id": "1600f173",
      "cell_type": "code",
      "source": "",
      "metadata": {
        "trusted": true
      },
      "outputs": [],
      "execution_count": null
    },
    {
      "id": "e1431c88",
      "cell_type": "markdown",
      "source": "# **General conclusions about the project:**\n\n**Task 1**\n\nObjective: Evaluate the results of an A/B test of a new payment mechanism.\n\nWhat has been done: Key metrics (ARPAU, ARPPU, CR) were calculated, and a statistical analysis of the differences between the test and control groups was performed.\n\nResult: The new payment mechanism showed better results in terms of average revenue per paying customer (ARPPU), but lower conversion to paying customers (CR) and lower average revenue per user (ARPAU). The new mechanism is recommended for implementation with a focus on revenue growth. The need for new tests was identified if the customer's goal is to convert customers into paying customers.\n\n**Task 2**\n\nObjective: Automate the calculation of key metrics from data from different sources by applying a function. Write a function to plot graphs for selected metrics.\n\nWhat has been done: A function has been implemented that automatically loads information from an additional file and calculates key metrics based on the updated data; a function has been implemented to build graphs based on the updated data.\n\nResult: Metrics are collected in a single data frame, additional data ‘groups_add.csv’ is loaded using the function.\n\n**Task 3**\n\nObjective: To count the number of very diligent students on an educational platform and calculate key metrics (ARPU, ARPAU, CR per purchase, CR of active users per purchase, CR of users from math activity per purchase of a math course) based on the results of an experiment in which a new payment screen was tested.\n\nWhat has been done: 2 SQL queries were executed.\n\n- During the first task, the number of very diligent students who correctly solved >= 20 tasks for the current month was determined. \n- During the second task, key metrics were calculated for each group in a single SQL query: ARPU, ARPAU, CR per purchase, CR of active users per purchase, CR for mathematics. Activity was determined by the number of correctly solved problems: more than 10 — active user; ≥2 in mathematics — active in mathematics.\n\nResult:\n- The result of the first query was the number of very diligent students (63) who correctly solved >= 20 tasks on the platform.\n- The second query returned a table with metrics for each group, allowing us to compare the impact of the old and new payment screens on user behaviour and revenue. The test group demonstrates better performance across all metrics. It is also recommended to check the statistical significance of these differences.",
      "metadata": {}
    }
  ]
}